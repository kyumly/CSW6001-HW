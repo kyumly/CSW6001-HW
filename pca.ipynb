{
 "cells": [
  {
   "cell_type": "markdown",
   "source": [
    "# data load"
   ],
   "metadata": {
    "collapsed": false
   },
   "id": "94625923bd824200"
  },
  {
   "cell_type": "code",
   "outputs": [],
   "source": [
    "import os\n",
    "\n",
    "import cv2\n",
    "\n",
    "path = \"./data/faces\"\n",
    "\n",
    "tests = []\n",
    "trains = []\n",
    "\n",
    "data_lists = os.listdir(path)\n",
    "data_dict = {}\n",
    "for data in data_lists:\n",
    "    files = os.listdir(f\"{path}/{data}\")\n",
    "    file_list= []\n",
    "    for file in files:\n",
    "        file_path = f\"{path}/{data}/{file}\"\n",
    "        file_list.append(file_path)\n",
    "    data_dict[\"path\"] = file_list\n",
    "    data_dict['label'] = data"
   ],
   "metadata": {
    "collapsed": false,
    "ExecuteTime": {
     "end_time": "2024-04-17T02:52:26.725122300Z",
     "start_time": "2024-04-17T02:52:26.711632500Z"
    }
   },
   "id": "380cd17ca85dd601",
   "execution_count": 52
  },
  {
   "cell_type": "code",
   "outputs": [
    {
     "data": {
      "text/plain": "{'path': ['./data/faces/s9/1.pgm',\n  './data/faces/s9/10.pgm',\n  './data/faces/s9/2.pgm',\n  './data/faces/s9/3.pgm',\n  './data/faces/s9/4.pgm',\n  './data/faces/s9/5.pgm',\n  './data/faces/s9/6.pgm',\n  './data/faces/s9/7.pgm',\n  './data/faces/s9/8.pgm',\n  './data/faces/s9/9.pgm'],\n 'label': 's9'}"
     },
     "execution_count": 54,
     "metadata": {},
     "output_type": "execute_result"
    }
   ],
   "source": [
    "data_dict"
   ],
   "metadata": {
    "collapsed": false,
    "ExecuteTime": {
     "end_time": "2024-04-17T02:52:39.181660500Z",
     "start_time": "2024-04-17T02:52:39.164635500Z"
    }
   },
   "id": "49319851ab96d119",
   "execution_count": 54
  },
  {
   "cell_type": "code",
   "outputs": [
    {
     "data": {
      "text/plain": "                        s1                      s10                      s11  \\\n0    ./data/faces/s1/1.pgm   ./data/faces/s10/1.pgm   ./data/faces/s11/1.pgm   \n1                       s1                      s10                      s11   \n2   ./data/faces/s1/10.pgm  ./data/faces/s10/10.pgm  ./data/faces/s11/10.pgm   \n3                       s1                      s10                      s11   \n4    ./data/faces/s1/2.pgm   ./data/faces/s10/2.pgm   ./data/faces/s11/2.pgm   \n5                       s1                      s10                      s11   \n6    ./data/faces/s1/3.pgm   ./data/faces/s10/3.pgm   ./data/faces/s11/3.pgm   \n7                       s1                      s10                      s11   \n8    ./data/faces/s1/4.pgm   ./data/faces/s10/4.pgm   ./data/faces/s11/4.pgm   \n9                       s1                      s10                      s11   \n10   ./data/faces/s1/5.pgm   ./data/faces/s10/5.pgm   ./data/faces/s11/5.pgm   \n11                      s1                      s10                      s11   \n12   ./data/faces/s1/6.pgm   ./data/faces/s10/6.pgm   ./data/faces/s11/6.pgm   \n13                      s1                      s10                      s11   \n14   ./data/faces/s1/7.pgm   ./data/faces/s10/7.pgm   ./data/faces/s11/7.pgm   \n15                      s1                      s10                      s11   \n16   ./data/faces/s1/8.pgm   ./data/faces/s10/8.pgm   ./data/faces/s11/8.pgm   \n17                      s1                      s10                      s11   \n18   ./data/faces/s1/9.pgm   ./data/faces/s10/9.pgm   ./data/faces/s11/9.pgm   \n19                      s1                      s10                      s11   \n\n                        s12                      s13                      s14  \\\n0    ./data/faces/s12/1.pgm   ./data/faces/s13/1.pgm   ./data/faces/s14/1.pgm   \n1                       s12                      s13                      s14   \n2   ./data/faces/s12/10.pgm  ./data/faces/s13/10.pgm  ./data/faces/s14/10.pgm   \n3                       s12                      s13                      s14   \n4    ./data/faces/s12/2.pgm   ./data/faces/s13/2.pgm   ./data/faces/s14/2.pgm   \n5                       s12                      s13                      s14   \n6    ./data/faces/s12/3.pgm   ./data/faces/s13/3.pgm   ./data/faces/s14/3.pgm   \n7                       s12                      s13                      s14   \n8    ./data/faces/s12/4.pgm   ./data/faces/s13/4.pgm   ./data/faces/s14/4.pgm   \n9                       s12                      s13                      s14   \n10   ./data/faces/s12/5.pgm   ./data/faces/s13/5.pgm   ./data/faces/s14/5.pgm   \n11                      s12                      s13                      s14   \n12   ./data/faces/s12/6.pgm   ./data/faces/s13/6.pgm   ./data/faces/s14/6.pgm   \n13                      s12                      s13                      s14   \n14   ./data/faces/s12/7.pgm   ./data/faces/s13/7.pgm   ./data/faces/s14/7.pgm   \n15                      s12                      s13                      s14   \n16   ./data/faces/s12/8.pgm   ./data/faces/s13/8.pgm   ./data/faces/s14/8.pgm   \n17                      s12                      s13                      s14   \n18   ./data/faces/s12/9.pgm   ./data/faces/s13/9.pgm   ./data/faces/s14/9.pgm   \n19                      s12                      s13                      s14   \n\n                        s15                      s16                      s17  \\\n0    ./data/faces/s15/1.pgm   ./data/faces/s16/1.pgm   ./data/faces/s17/1.pgm   \n1                       s15                      s16                      s17   \n2   ./data/faces/s15/10.pgm  ./data/faces/s16/10.pgm  ./data/faces/s17/10.pgm   \n3                       s15                      s16                      s17   \n4    ./data/faces/s15/2.pgm   ./data/faces/s16/2.pgm   ./data/faces/s17/2.pgm   \n5                       s15                      s16                      s17   \n6    ./data/faces/s15/3.pgm   ./data/faces/s16/3.pgm   ./data/faces/s17/3.pgm   \n7                       s15                      s16                      s17   \n8    ./data/faces/s15/4.pgm   ./data/faces/s16/4.pgm   ./data/faces/s17/4.pgm   \n9                       s15                      s16                      s17   \n10   ./data/faces/s15/5.pgm   ./data/faces/s16/5.pgm   ./data/faces/s17/5.pgm   \n11                      s15                      s16                      s17   \n12   ./data/faces/s15/6.pgm   ./data/faces/s16/6.pgm   ./data/faces/s17/6.pgm   \n13                      s15                      s16                      s17   \n14   ./data/faces/s15/7.pgm   ./data/faces/s16/7.pgm   ./data/faces/s17/7.pgm   \n15                      s15                      s16                      s17   \n16   ./data/faces/s15/8.pgm   ./data/faces/s16/8.pgm   ./data/faces/s17/8.pgm   \n17                      s15                      s16                      s17   \n18   ./data/faces/s15/9.pgm   ./data/faces/s16/9.pgm   ./data/faces/s17/9.pgm   \n19                      s15                      s16                      s17   \n\n                        s18  ...                      s37  \\\n0    ./data/faces/s18/1.pgm  ...   ./data/faces/s37/1.pgm   \n1                       s18  ...                      s37   \n2   ./data/faces/s18/10.pgm  ...  ./data/faces/s37/10.pgm   \n3                       s18  ...                      s37   \n4    ./data/faces/s18/2.pgm  ...   ./data/faces/s37/2.pgm   \n5                       s18  ...                      s37   \n6    ./data/faces/s18/3.pgm  ...   ./data/faces/s37/3.pgm   \n7                       s18  ...                      s37   \n8    ./data/faces/s18/4.pgm  ...   ./data/faces/s37/4.pgm   \n9                       s18  ...                      s37   \n10   ./data/faces/s18/5.pgm  ...   ./data/faces/s37/5.pgm   \n11                      s18  ...                      s37   \n12   ./data/faces/s18/6.pgm  ...   ./data/faces/s37/6.pgm   \n13                      s18  ...                      s37   \n14   ./data/faces/s18/7.pgm  ...   ./data/faces/s37/7.pgm   \n15                      s18  ...                      s37   \n16   ./data/faces/s18/8.pgm  ...   ./data/faces/s37/8.pgm   \n17                      s18  ...                      s37   \n18   ./data/faces/s18/9.pgm  ...   ./data/faces/s37/9.pgm   \n19                      s18  ...                      s37   \n\n                        s38                      s39                      s4  \\\n0    ./data/faces/s38/1.pgm   ./data/faces/s39/1.pgm   ./data/faces/s4/1.pgm   \n1                       s38                      s39                      s4   \n2   ./data/faces/s38/10.pgm  ./data/faces/s39/10.pgm  ./data/faces/s4/10.pgm   \n3                       s38                      s39                      s4   \n4    ./data/faces/s38/2.pgm   ./data/faces/s39/2.pgm   ./data/faces/s4/2.pgm   \n5                       s38                      s39                      s4   \n6    ./data/faces/s38/3.pgm   ./data/faces/s39/3.pgm   ./data/faces/s4/3.pgm   \n7                       s38                      s39                      s4   \n8    ./data/faces/s38/4.pgm   ./data/faces/s39/4.pgm   ./data/faces/s4/4.pgm   \n9                       s38                      s39                      s4   \n10   ./data/faces/s38/5.pgm   ./data/faces/s39/5.pgm   ./data/faces/s4/5.pgm   \n11                      s38                      s39                      s4   \n12   ./data/faces/s38/6.pgm   ./data/faces/s39/6.pgm   ./data/faces/s4/6.pgm   \n13                      s38                      s39                      s4   \n14   ./data/faces/s38/7.pgm   ./data/faces/s39/7.pgm   ./data/faces/s4/7.pgm   \n15                      s38                      s39                      s4   \n16   ./data/faces/s38/8.pgm   ./data/faces/s39/8.pgm   ./data/faces/s4/8.pgm   \n17                      s38                      s39                      s4   \n18   ./data/faces/s38/9.pgm   ./data/faces/s39/9.pgm   ./data/faces/s4/9.pgm   \n19                      s38                      s39                      s4   \n\n                        s40                      s5                      s6  \\\n0    ./data/faces/s40/1.pgm   ./data/faces/s5/1.pgm   ./data/faces/s6/1.pgm   \n1                       s40                      s5                      s6   \n2   ./data/faces/s40/10.pgm  ./data/faces/s5/10.pgm  ./data/faces/s6/10.pgm   \n3                       s40                      s5                      s6   \n4    ./data/faces/s40/2.pgm   ./data/faces/s5/2.pgm   ./data/faces/s6/2.pgm   \n5                       s40                      s5                      s6   \n6    ./data/faces/s40/3.pgm   ./data/faces/s5/3.pgm   ./data/faces/s6/3.pgm   \n7                       s40                      s5                      s6   \n8    ./data/faces/s40/4.pgm   ./data/faces/s5/4.pgm   ./data/faces/s6/4.pgm   \n9                       s40                      s5                      s6   \n10   ./data/faces/s40/5.pgm   ./data/faces/s5/5.pgm   ./data/faces/s6/5.pgm   \n11                      s40                      s5                      s6   \n12   ./data/faces/s40/6.pgm   ./data/faces/s5/6.pgm   ./data/faces/s6/6.pgm   \n13                      s40                      s5                      s6   \n14   ./data/faces/s40/7.pgm   ./data/faces/s5/7.pgm   ./data/faces/s6/7.pgm   \n15                      s40                      s5                      s6   \n16   ./data/faces/s40/8.pgm   ./data/faces/s5/8.pgm   ./data/faces/s6/8.pgm   \n17                      s40                      s5                      s6   \n18   ./data/faces/s40/9.pgm   ./data/faces/s5/9.pgm   ./data/faces/s6/9.pgm   \n19                      s40                      s5                      s6   \n\n                        s7                      s8                      s9  \n0    ./data/faces/s7/1.pgm   ./data/faces/s8/1.pgm   ./data/faces/s9/1.pgm  \n1                       s7                      s8                      s9  \n2   ./data/faces/s7/10.pgm  ./data/faces/s8/10.pgm  ./data/faces/s9/10.pgm  \n3                       s7                      s8                      s9  \n4    ./data/faces/s7/2.pgm   ./data/faces/s8/2.pgm   ./data/faces/s9/2.pgm  \n5                       s7                      s8                      s9  \n6    ./data/faces/s7/3.pgm   ./data/faces/s8/3.pgm   ./data/faces/s9/3.pgm  \n7                       s7                      s8                      s9  \n8    ./data/faces/s7/4.pgm   ./data/faces/s8/4.pgm   ./data/faces/s9/4.pgm  \n9                       s7                      s8                      s9  \n10   ./data/faces/s7/5.pgm   ./data/faces/s8/5.pgm   ./data/faces/s9/5.pgm  \n11                      s7                      s8                      s9  \n12   ./data/faces/s7/6.pgm   ./data/faces/s8/6.pgm   ./data/faces/s9/6.pgm  \n13                      s7                      s8                      s9  \n14   ./data/faces/s7/7.pgm   ./data/faces/s8/7.pgm   ./data/faces/s9/7.pgm  \n15                      s7                      s8                      s9  \n16   ./data/faces/s7/8.pgm   ./data/faces/s8/8.pgm   ./data/faces/s9/8.pgm  \n17                      s7                      s8                      s9  \n18   ./data/faces/s7/9.pgm   ./data/faces/s8/9.pgm   ./data/faces/s9/9.pgm  \n19                      s7                      s8                      s9  \n\n[20 rows x 40 columns]",
      "text/html": "<div>\n<style scoped>\n    .dataframe tbody tr th:only-of-type {\n        vertical-align: middle;\n    }\n\n    .dataframe tbody tr th {\n        vertical-align: top;\n    }\n\n    .dataframe thead th {\n        text-align: right;\n    }\n</style>\n<table border=\"1\" class=\"dataframe\">\n  <thead>\n    <tr style=\"text-align: right;\">\n      <th></th>\n      <th>s1</th>\n      <th>s10</th>\n      <th>s11</th>\n      <th>s12</th>\n      <th>s13</th>\n      <th>s14</th>\n      <th>s15</th>\n      <th>s16</th>\n      <th>s17</th>\n      <th>s18</th>\n      <th>...</th>\n      <th>s37</th>\n      <th>s38</th>\n      <th>s39</th>\n      <th>s4</th>\n      <th>s40</th>\n      <th>s5</th>\n      <th>s6</th>\n      <th>s7</th>\n      <th>s8</th>\n      <th>s9</th>\n    </tr>\n  </thead>\n  <tbody>\n    <tr>\n      <th>0</th>\n      <td>./data/faces/s1/1.pgm</td>\n      <td>./data/faces/s10/1.pgm</td>\n      <td>./data/faces/s11/1.pgm</td>\n      <td>./data/faces/s12/1.pgm</td>\n      <td>./data/faces/s13/1.pgm</td>\n      <td>./data/faces/s14/1.pgm</td>\n      <td>./data/faces/s15/1.pgm</td>\n      <td>./data/faces/s16/1.pgm</td>\n      <td>./data/faces/s17/1.pgm</td>\n      <td>./data/faces/s18/1.pgm</td>\n      <td>...</td>\n      <td>./data/faces/s37/1.pgm</td>\n      <td>./data/faces/s38/1.pgm</td>\n      <td>./data/faces/s39/1.pgm</td>\n      <td>./data/faces/s4/1.pgm</td>\n      <td>./data/faces/s40/1.pgm</td>\n      <td>./data/faces/s5/1.pgm</td>\n      <td>./data/faces/s6/1.pgm</td>\n      <td>./data/faces/s7/1.pgm</td>\n      <td>./data/faces/s8/1.pgm</td>\n      <td>./data/faces/s9/1.pgm</td>\n    </tr>\n    <tr>\n      <th>1</th>\n      <td>s1</td>\n      <td>s10</td>\n      <td>s11</td>\n      <td>s12</td>\n      <td>s13</td>\n      <td>s14</td>\n      <td>s15</td>\n      <td>s16</td>\n      <td>s17</td>\n      <td>s18</td>\n      <td>...</td>\n      <td>s37</td>\n      <td>s38</td>\n      <td>s39</td>\n      <td>s4</td>\n      <td>s40</td>\n      <td>s5</td>\n      <td>s6</td>\n      <td>s7</td>\n      <td>s8</td>\n      <td>s9</td>\n    </tr>\n    <tr>\n      <th>2</th>\n      <td>./data/faces/s1/10.pgm</td>\n      <td>./data/faces/s10/10.pgm</td>\n      <td>./data/faces/s11/10.pgm</td>\n      <td>./data/faces/s12/10.pgm</td>\n      <td>./data/faces/s13/10.pgm</td>\n      <td>./data/faces/s14/10.pgm</td>\n      <td>./data/faces/s15/10.pgm</td>\n      <td>./data/faces/s16/10.pgm</td>\n      <td>./data/faces/s17/10.pgm</td>\n      <td>./data/faces/s18/10.pgm</td>\n      <td>...</td>\n      <td>./data/faces/s37/10.pgm</td>\n      <td>./data/faces/s38/10.pgm</td>\n      <td>./data/faces/s39/10.pgm</td>\n      <td>./data/faces/s4/10.pgm</td>\n      <td>./data/faces/s40/10.pgm</td>\n      <td>./data/faces/s5/10.pgm</td>\n      <td>./data/faces/s6/10.pgm</td>\n      <td>./data/faces/s7/10.pgm</td>\n      <td>./data/faces/s8/10.pgm</td>\n      <td>./data/faces/s9/10.pgm</td>\n    </tr>\n    <tr>\n      <th>3</th>\n      <td>s1</td>\n      <td>s10</td>\n      <td>s11</td>\n      <td>s12</td>\n      <td>s13</td>\n      <td>s14</td>\n      <td>s15</td>\n      <td>s16</td>\n      <td>s17</td>\n      <td>s18</td>\n      <td>...</td>\n      <td>s37</td>\n      <td>s38</td>\n      <td>s39</td>\n      <td>s4</td>\n      <td>s40</td>\n      <td>s5</td>\n      <td>s6</td>\n      <td>s7</td>\n      <td>s8</td>\n      <td>s9</td>\n    </tr>\n    <tr>\n      <th>4</th>\n      <td>./data/faces/s1/2.pgm</td>\n      <td>./data/faces/s10/2.pgm</td>\n      <td>./data/faces/s11/2.pgm</td>\n      <td>./data/faces/s12/2.pgm</td>\n      <td>./data/faces/s13/2.pgm</td>\n      <td>./data/faces/s14/2.pgm</td>\n      <td>./data/faces/s15/2.pgm</td>\n      <td>./data/faces/s16/2.pgm</td>\n      <td>./data/faces/s17/2.pgm</td>\n      <td>./data/faces/s18/2.pgm</td>\n      <td>...</td>\n      <td>./data/faces/s37/2.pgm</td>\n      <td>./data/faces/s38/2.pgm</td>\n      <td>./data/faces/s39/2.pgm</td>\n      <td>./data/faces/s4/2.pgm</td>\n      <td>./data/faces/s40/2.pgm</td>\n      <td>./data/faces/s5/2.pgm</td>\n      <td>./data/faces/s6/2.pgm</td>\n      <td>./data/faces/s7/2.pgm</td>\n      <td>./data/faces/s8/2.pgm</td>\n      <td>./data/faces/s9/2.pgm</td>\n    </tr>\n    <tr>\n      <th>5</th>\n      <td>s1</td>\n      <td>s10</td>\n      <td>s11</td>\n      <td>s12</td>\n      <td>s13</td>\n      <td>s14</td>\n      <td>s15</td>\n      <td>s16</td>\n      <td>s17</td>\n      <td>s18</td>\n      <td>...</td>\n      <td>s37</td>\n      <td>s38</td>\n      <td>s39</td>\n      <td>s4</td>\n      <td>s40</td>\n      <td>s5</td>\n      <td>s6</td>\n      <td>s7</td>\n      <td>s8</td>\n      <td>s9</td>\n    </tr>\n    <tr>\n      <th>6</th>\n      <td>./data/faces/s1/3.pgm</td>\n      <td>./data/faces/s10/3.pgm</td>\n      <td>./data/faces/s11/3.pgm</td>\n      <td>./data/faces/s12/3.pgm</td>\n      <td>./data/faces/s13/3.pgm</td>\n      <td>./data/faces/s14/3.pgm</td>\n      <td>./data/faces/s15/3.pgm</td>\n      <td>./data/faces/s16/3.pgm</td>\n      <td>./data/faces/s17/3.pgm</td>\n      <td>./data/faces/s18/3.pgm</td>\n      <td>...</td>\n      <td>./data/faces/s37/3.pgm</td>\n      <td>./data/faces/s38/3.pgm</td>\n      <td>./data/faces/s39/3.pgm</td>\n      <td>./data/faces/s4/3.pgm</td>\n      <td>./data/faces/s40/3.pgm</td>\n      <td>./data/faces/s5/3.pgm</td>\n      <td>./data/faces/s6/3.pgm</td>\n      <td>./data/faces/s7/3.pgm</td>\n      <td>./data/faces/s8/3.pgm</td>\n      <td>./data/faces/s9/3.pgm</td>\n    </tr>\n    <tr>\n      <th>7</th>\n      <td>s1</td>\n      <td>s10</td>\n      <td>s11</td>\n      <td>s12</td>\n      <td>s13</td>\n      <td>s14</td>\n      <td>s15</td>\n      <td>s16</td>\n      <td>s17</td>\n      <td>s18</td>\n      <td>...</td>\n      <td>s37</td>\n      <td>s38</td>\n      <td>s39</td>\n      <td>s4</td>\n      <td>s40</td>\n      <td>s5</td>\n      <td>s6</td>\n      <td>s7</td>\n      <td>s8</td>\n      <td>s9</td>\n    </tr>\n    <tr>\n      <th>8</th>\n      <td>./data/faces/s1/4.pgm</td>\n      <td>./data/faces/s10/4.pgm</td>\n      <td>./data/faces/s11/4.pgm</td>\n      <td>./data/faces/s12/4.pgm</td>\n      <td>./data/faces/s13/4.pgm</td>\n      <td>./data/faces/s14/4.pgm</td>\n      <td>./data/faces/s15/4.pgm</td>\n      <td>./data/faces/s16/4.pgm</td>\n      <td>./data/faces/s17/4.pgm</td>\n      <td>./data/faces/s18/4.pgm</td>\n      <td>...</td>\n      <td>./data/faces/s37/4.pgm</td>\n      <td>./data/faces/s38/4.pgm</td>\n      <td>./data/faces/s39/4.pgm</td>\n      <td>./data/faces/s4/4.pgm</td>\n      <td>./data/faces/s40/4.pgm</td>\n      <td>./data/faces/s5/4.pgm</td>\n      <td>./data/faces/s6/4.pgm</td>\n      <td>./data/faces/s7/4.pgm</td>\n      <td>./data/faces/s8/4.pgm</td>\n      <td>./data/faces/s9/4.pgm</td>\n    </tr>\n    <tr>\n      <th>9</th>\n      <td>s1</td>\n      <td>s10</td>\n      <td>s11</td>\n      <td>s12</td>\n      <td>s13</td>\n      <td>s14</td>\n      <td>s15</td>\n      <td>s16</td>\n      <td>s17</td>\n      <td>s18</td>\n      <td>...</td>\n      <td>s37</td>\n      <td>s38</td>\n      <td>s39</td>\n      <td>s4</td>\n      <td>s40</td>\n      <td>s5</td>\n      <td>s6</td>\n      <td>s7</td>\n      <td>s8</td>\n      <td>s9</td>\n    </tr>\n    <tr>\n      <th>10</th>\n      <td>./data/faces/s1/5.pgm</td>\n      <td>./data/faces/s10/5.pgm</td>\n      <td>./data/faces/s11/5.pgm</td>\n      <td>./data/faces/s12/5.pgm</td>\n      <td>./data/faces/s13/5.pgm</td>\n      <td>./data/faces/s14/5.pgm</td>\n      <td>./data/faces/s15/5.pgm</td>\n      <td>./data/faces/s16/5.pgm</td>\n      <td>./data/faces/s17/5.pgm</td>\n      <td>./data/faces/s18/5.pgm</td>\n      <td>...</td>\n      <td>./data/faces/s37/5.pgm</td>\n      <td>./data/faces/s38/5.pgm</td>\n      <td>./data/faces/s39/5.pgm</td>\n      <td>./data/faces/s4/5.pgm</td>\n      <td>./data/faces/s40/5.pgm</td>\n      <td>./data/faces/s5/5.pgm</td>\n      <td>./data/faces/s6/5.pgm</td>\n      <td>./data/faces/s7/5.pgm</td>\n      <td>./data/faces/s8/5.pgm</td>\n      <td>./data/faces/s9/5.pgm</td>\n    </tr>\n    <tr>\n      <th>11</th>\n      <td>s1</td>\n      <td>s10</td>\n      <td>s11</td>\n      <td>s12</td>\n      <td>s13</td>\n      <td>s14</td>\n      <td>s15</td>\n      <td>s16</td>\n      <td>s17</td>\n      <td>s18</td>\n      <td>...</td>\n      <td>s37</td>\n      <td>s38</td>\n      <td>s39</td>\n      <td>s4</td>\n      <td>s40</td>\n      <td>s5</td>\n      <td>s6</td>\n      <td>s7</td>\n      <td>s8</td>\n      <td>s9</td>\n    </tr>\n    <tr>\n      <th>12</th>\n      <td>./data/faces/s1/6.pgm</td>\n      <td>./data/faces/s10/6.pgm</td>\n      <td>./data/faces/s11/6.pgm</td>\n      <td>./data/faces/s12/6.pgm</td>\n      <td>./data/faces/s13/6.pgm</td>\n      <td>./data/faces/s14/6.pgm</td>\n      <td>./data/faces/s15/6.pgm</td>\n      <td>./data/faces/s16/6.pgm</td>\n      <td>./data/faces/s17/6.pgm</td>\n      <td>./data/faces/s18/6.pgm</td>\n      <td>...</td>\n      <td>./data/faces/s37/6.pgm</td>\n      <td>./data/faces/s38/6.pgm</td>\n      <td>./data/faces/s39/6.pgm</td>\n      <td>./data/faces/s4/6.pgm</td>\n      <td>./data/faces/s40/6.pgm</td>\n      <td>./data/faces/s5/6.pgm</td>\n      <td>./data/faces/s6/6.pgm</td>\n      <td>./data/faces/s7/6.pgm</td>\n      <td>./data/faces/s8/6.pgm</td>\n      <td>./data/faces/s9/6.pgm</td>\n    </tr>\n    <tr>\n      <th>13</th>\n      <td>s1</td>\n      <td>s10</td>\n      <td>s11</td>\n      <td>s12</td>\n      <td>s13</td>\n      <td>s14</td>\n      <td>s15</td>\n      <td>s16</td>\n      <td>s17</td>\n      <td>s18</td>\n      <td>...</td>\n      <td>s37</td>\n      <td>s38</td>\n      <td>s39</td>\n      <td>s4</td>\n      <td>s40</td>\n      <td>s5</td>\n      <td>s6</td>\n      <td>s7</td>\n      <td>s8</td>\n      <td>s9</td>\n    </tr>\n    <tr>\n      <th>14</th>\n      <td>./data/faces/s1/7.pgm</td>\n      <td>./data/faces/s10/7.pgm</td>\n      <td>./data/faces/s11/7.pgm</td>\n      <td>./data/faces/s12/7.pgm</td>\n      <td>./data/faces/s13/7.pgm</td>\n      <td>./data/faces/s14/7.pgm</td>\n      <td>./data/faces/s15/7.pgm</td>\n      <td>./data/faces/s16/7.pgm</td>\n      <td>./data/faces/s17/7.pgm</td>\n      <td>./data/faces/s18/7.pgm</td>\n      <td>...</td>\n      <td>./data/faces/s37/7.pgm</td>\n      <td>./data/faces/s38/7.pgm</td>\n      <td>./data/faces/s39/7.pgm</td>\n      <td>./data/faces/s4/7.pgm</td>\n      <td>./data/faces/s40/7.pgm</td>\n      <td>./data/faces/s5/7.pgm</td>\n      <td>./data/faces/s6/7.pgm</td>\n      <td>./data/faces/s7/7.pgm</td>\n      <td>./data/faces/s8/7.pgm</td>\n      <td>./data/faces/s9/7.pgm</td>\n    </tr>\n    <tr>\n      <th>15</th>\n      <td>s1</td>\n      <td>s10</td>\n      <td>s11</td>\n      <td>s12</td>\n      <td>s13</td>\n      <td>s14</td>\n      <td>s15</td>\n      <td>s16</td>\n      <td>s17</td>\n      <td>s18</td>\n      <td>...</td>\n      <td>s37</td>\n      <td>s38</td>\n      <td>s39</td>\n      <td>s4</td>\n      <td>s40</td>\n      <td>s5</td>\n      <td>s6</td>\n      <td>s7</td>\n      <td>s8</td>\n      <td>s9</td>\n    </tr>\n    <tr>\n      <th>16</th>\n      <td>./data/faces/s1/8.pgm</td>\n      <td>./data/faces/s10/8.pgm</td>\n      <td>./data/faces/s11/8.pgm</td>\n      <td>./data/faces/s12/8.pgm</td>\n      <td>./data/faces/s13/8.pgm</td>\n      <td>./data/faces/s14/8.pgm</td>\n      <td>./data/faces/s15/8.pgm</td>\n      <td>./data/faces/s16/8.pgm</td>\n      <td>./data/faces/s17/8.pgm</td>\n      <td>./data/faces/s18/8.pgm</td>\n      <td>...</td>\n      <td>./data/faces/s37/8.pgm</td>\n      <td>./data/faces/s38/8.pgm</td>\n      <td>./data/faces/s39/8.pgm</td>\n      <td>./data/faces/s4/8.pgm</td>\n      <td>./data/faces/s40/8.pgm</td>\n      <td>./data/faces/s5/8.pgm</td>\n      <td>./data/faces/s6/8.pgm</td>\n      <td>./data/faces/s7/8.pgm</td>\n      <td>./data/faces/s8/8.pgm</td>\n      <td>./data/faces/s9/8.pgm</td>\n    </tr>\n    <tr>\n      <th>17</th>\n      <td>s1</td>\n      <td>s10</td>\n      <td>s11</td>\n      <td>s12</td>\n      <td>s13</td>\n      <td>s14</td>\n      <td>s15</td>\n      <td>s16</td>\n      <td>s17</td>\n      <td>s18</td>\n      <td>...</td>\n      <td>s37</td>\n      <td>s38</td>\n      <td>s39</td>\n      <td>s4</td>\n      <td>s40</td>\n      <td>s5</td>\n      <td>s6</td>\n      <td>s7</td>\n      <td>s8</td>\n      <td>s9</td>\n    </tr>\n    <tr>\n      <th>18</th>\n      <td>./data/faces/s1/9.pgm</td>\n      <td>./data/faces/s10/9.pgm</td>\n      <td>./data/faces/s11/9.pgm</td>\n      <td>./data/faces/s12/9.pgm</td>\n      <td>./data/faces/s13/9.pgm</td>\n      <td>./data/faces/s14/9.pgm</td>\n      <td>./data/faces/s15/9.pgm</td>\n      <td>./data/faces/s16/9.pgm</td>\n      <td>./data/faces/s17/9.pgm</td>\n      <td>./data/faces/s18/9.pgm</td>\n      <td>...</td>\n      <td>./data/faces/s37/9.pgm</td>\n      <td>./data/faces/s38/9.pgm</td>\n      <td>./data/faces/s39/9.pgm</td>\n      <td>./data/faces/s4/9.pgm</td>\n      <td>./data/faces/s40/9.pgm</td>\n      <td>./data/faces/s5/9.pgm</td>\n      <td>./data/faces/s6/9.pgm</td>\n      <td>./data/faces/s7/9.pgm</td>\n      <td>./data/faces/s8/9.pgm</td>\n      <td>./data/faces/s9/9.pgm</td>\n    </tr>\n    <tr>\n      <th>19</th>\n      <td>s1</td>\n      <td>s10</td>\n      <td>s11</td>\n      <td>s12</td>\n      <td>s13</td>\n      <td>s14</td>\n      <td>s15</td>\n      <td>s16</td>\n      <td>s17</td>\n      <td>s18</td>\n      <td>...</td>\n      <td>s37</td>\n      <td>s38</td>\n      <td>s39</td>\n      <td>s4</td>\n      <td>s40</td>\n      <td>s5</td>\n      <td>s6</td>\n      <td>s7</td>\n      <td>s8</td>\n      <td>s9</td>\n    </tr>\n  </tbody>\n</table>\n<p>20 rows × 40 columns</p>\n</div>"
     },
     "execution_count": 49,
     "metadata": {},
     "output_type": "execute_result"
    }
   ],
   "source": [
    "import pandas as pd\n",
    "import cv2\n",
    "data = pd.DataFrame(data_dict)\n",
    "data\n",
    "# data = cv2.imread(data.s1[1])\n",
    "# cv2.imshow(\"data\", data)\n",
    "# cv2.waitKey(0)\n",
    "# cv2.destroyAllWindows()"
   ],
   "metadata": {
    "collapsed": false,
    "ExecuteTime": {
     "end_time": "2024-04-17T02:44:47.924259200Z",
     "start_time": "2024-04-17T02:44:47.915621400Z"
    }
   },
   "id": "1cb9db07879c4219",
   "execution_count": 49
  },
  {
   "cell_type": "code",
   "outputs": [
    {
     "data": {
      "text/plain": "(112, 92, 3)"
     },
     "execution_count": 36,
     "metadata": {},
     "output_type": "execute_result"
    }
   ],
   "source": [
    "data.shape"
   ],
   "metadata": {
    "collapsed": false,
    "ExecuteTime": {
     "end_time": "2024-04-17T02:39:01.464854600Z",
     "start_time": "2024-04-17T02:39:01.443205500Z"
    }
   },
   "id": "20d6ffda5d88e6c0",
   "execution_count": 36
  },
  {
   "cell_type": "code",
   "outputs": [
    {
     "name": "stdout",
     "output_type": "stream",
     "text": [
      "downloading Olivetti faces from https://ndownloader.figshare.com/files/5976027 to C:\\Users\\a\\scikit_learn_data\n"
     ]
    }
   ],
   "source": [
    "from sklearn.datasets import fetch_olivetti_faces\n",
    "\n",
    "faces_all = fetch_olivetti_faces()\n",
    "K = 20  # 20번 인물의 사진만 선택\n",
    "faces = faces_all.images[faces_all.target == K]\n",
    "\n",
    "# N = 2\n",
    "# M = 5\n",
    "# fig = plt.figure(figsize=(10, 5))\n",
    "# plt.subplots_adjust(top=1, bottom=0, hspace=0, wspace=0.05)\n",
    "# for i in range(N):\n",
    "#     for j in range(M):\n",
    "#         k = i * M + j\n",
    "#         ax = fig.add_subplot(N, M, k+1)\n",
    "#         ax.imshow(faces[k], cmap=plt.cm.bone)\n",
    "#         ax.grid(False)\n",
    "#         ax.xaxis.set_ticks([])\n",
    "#         ax.yaxis.set_ticks([])\n",
    "# plt.suptitle(\"올리베티 얼굴 사진\")\n",
    "# plt.tight_layout()\n",
    "# plt.show()"
   ],
   "metadata": {
    "collapsed": false,
    "ExecuteTime": {
     "end_time": "2024-04-17T02:40:46.806534Z",
     "start_time": "2024-04-17T02:40:42.091193Z"
    }
   },
   "id": "20693a52f1de7912",
   "execution_count": 37
  },
  {
   "cell_type": "code",
   "outputs": [],
   "source": [
    "\n",
    "%load_ext autoreload\n",
    "%autoreload 2"
   ],
   "metadata": {
    "collapsed": false,
    "ExecuteTime": {
     "end_time": "2024-04-24T05:44:46.986666500Z",
     "start_time": "2024-04-24T05:44:46.949493300Z"
    }
   },
   "id": "5b4b15d2643a885c",
   "execution_count": 1
  },
  {
   "cell_type": "code",
   "execution_count": 2,
   "id": "initial_id",
   "metadata": {
    "collapsed": true,
    "ExecuteTime": {
     "end_time": "2024-04-24T05:44:47.790974700Z",
     "start_time": "2024-04-24T05:44:46.981495600Z"
    }
   },
   "outputs": [],
   "source": [
    "import numpy as np\n",
    "import numpy.linalg as lin\n",
    "import matplotlib.pyplot as plt\n",
    "import pandas as pd\n",
    "import random\n",
    "#   기본 모듈들을 불러와 줍니다"
   ]
  },
  {
   "cell_type": "code",
   "outputs": [],
   "source": [
    "import preprocessing"
   ],
   "metadata": {
    "collapsed": false,
    "ExecuteTime": {
     "end_time": "2024-04-24T05:44:47.821863300Z",
     "start_time": "2024-04-24T05:44:47.790974700Z"
    }
   },
   "id": "3b71b3245cf39ecd",
   "execution_count": 3
  },
  {
   "cell_type": "code",
   "execution_count": 4,
   "id": "6315a5102268e435",
   "metadata": {
    "collapsed": false,
    "ExecuteTime": {
     "end_time": "2024-04-24T05:44:47.852603900Z",
     "start_time": "2024-04-24T05:44:47.821863300Z"
    }
   },
   "outputs": [],
   "source": [
    "data = np.array([\n",
    "    [1,2],\n",
    "    [3,3],\n",
    "    [3,5],\n",
    "    [5,4],\n",
    "    [5,6],\n",
    "    [6,5],\n",
    "    [8,7],\n",
    "    [9,8],\n",
    "])\n",
    "\n",
    "# temp = data[:, 1:2].copy()"
   ]
  },
  {
   "cell_type": "code",
   "outputs": [],
   "source": [
    "# data[:, 1:2] = data[:, 0:1]\n",
    "# data[:, 0:1] = temp\n",
    "# data"
   ],
   "metadata": {
    "collapsed": false,
    "ExecuteTime": {
     "end_time": "2024-04-24T05:44:47.883409400Z",
     "start_time": "2024-04-24T05:44:47.852603900Z"
    }
   },
   "id": "f61b1c12c177ed69",
   "execution_count": 5
  },
  {
   "cell_type": "code",
   "execution_count": 14,
   "outputs": [
    {
     "name": "stdout",
     "output_type": "stream",
     "text": [
      "[[6.25 4.25]\n",
      " [4.25 3.5 ]]\n"
     ]
    }
   ],
   "source": [
    "k = preprocessing.PCA(data)\n",
    "print(k.get_scatter_matrix())"
   ],
   "metadata": {
    "collapsed": false
   }
  },
  {
   "cell_type": "code",
   "execution_count": 15,
   "outputs": [],
   "source": [
    "k.fit(2)"
   ],
   "metadata": {
    "collapsed": false
   }
  },
  {
   "cell_type": "code",
   "execution_count": 17,
   "outputs": [
    {
     "name": "stdout",
     "output_type": "stream",
     "text": [
      "[[-4.99947049 -0.07276523]\n",
      " [-2.79388226 -0.44070617]\n",
      " [-1.61729421  1.17658805]\n",
      " [-0.58829402 -0.80864711]\n",
      " [ 0.58829402  0.80864711]\n",
      " [ 0.80864711 -0.58829402]\n",
      " [ 3.60252936 -0.14758786]\n",
      " [ 4.99947049  0.07276523]]\n"
     ]
    }
   ],
   "source": [
    "print(k())"
   ],
   "metadata": {
    "collapsed": false
   }
  },
  {
   "cell_type": "code",
   "execution_count": null,
   "outputs": [],
   "source": [],
   "metadata": {
    "collapsed": false
   }
  },
  {
   "cell_type": "code",
   "outputs": [
    {
     "name": "stdout",
     "output_type": "stream",
     "text": [
      "[[0.95719265 2.05884139]\n",
      " [2.7407352  3.35637577]\n",
      " [3.69217971 4.04855548]\n",
      " [4.52427774 4.65391014]\n",
      " [5.47572226 5.34608986]\n",
      " [5.65391014 5.47572226]\n",
      " [7.91317495 7.11934649]\n",
      " [9.04280735 7.94115861]]\n"
     ]
    }
   ],
   "source": [
    "a = preprocessing.PCA(data, vector, value)\n",
    "#a(2)\n",
    "print(a.reconstruct(1))"
   ],
   "metadata": {
    "collapsed": false,
    "ExecuteTime": {
     "end_time": "2024-04-24T05:45:28.658351900Z",
     "start_time": "2024-04-24T05:45:28.608825600Z"
    }
   },
   "id": "1f15c4e770a3272f",
   "execution_count": 17
  },
  {
   "cell_type": "code",
   "outputs": [],
   "source": [
    "from sklearn.decomposition import PCA\n",
    "pca = PCA(n_components=1)"
   ],
   "metadata": {
    "collapsed": false,
    "ExecuteTime": {
     "end_time": "2024-04-24T05:44:49.052983600Z",
     "start_time": "2024-04-24T05:44:48.114405600Z"
    }
   },
   "id": "ae779f027ccbf330",
   "execution_count": 82
  },
  {
   "cell_type": "code",
   "outputs": [
    {
     "data": {
      "text/plain": "array([[ 4.99947049],\n       [ 2.79388226],\n       [ 1.61729421],\n       [ 0.58829402],\n       [-0.58829402],\n       [-0.80864711],\n       [-3.60252936],\n       [-4.99947049]])"
     },
     "execution_count": 83,
     "metadata": {},
     "output_type": "execute_result"
    }
   ],
   "source": [
    "pca.fit_transform(data)"
   ],
   "metadata": {
    "collapsed": false,
    "ExecuteTime": {
     "end_time": "2024-04-24T05:44:49.115193900Z",
     "start_time": "2024-04-24T05:44:49.052983600Z"
    }
   },
   "id": "5b6ad43915e882f3",
   "execution_count": 83
  },
  {
   "cell_type": "code",
   "outputs": [
    {
     "data": {
      "text/plain": "array([0.95814278, 0.04185722])"
     },
     "execution_count": 14,
     "metadata": {},
     "output_type": "execute_result"
    }
   ],
   "source": [
    "a.explained_variance_ratio"
   ],
   "metadata": {
    "collapsed": false,
    "ExecuteTime": {
     "end_time": "2024-04-24T05:44:53.263722200Z",
     "start_time": "2024-04-24T05:44:53.217376500Z"
    }
   },
   "id": "4d6d9d2e84831d0d",
   "execution_count": 14
  },
  {
   "cell_type": "code",
   "outputs": [
    {
     "data": {
      "text/plain": "array([0.95814278, 0.04185722])"
     },
     "execution_count": 15,
     "metadata": {},
     "output_type": "execute_result"
    }
   ],
   "source": [
    "pca.explained_variance_ratio_"
   ],
   "metadata": {
    "collapsed": false,
    "ExecuteTime": {
     "end_time": "2024-04-24T05:44:54.287024800Z",
     "start_time": "2024-04-24T05:44:54.247883900Z"
    }
   },
   "id": "f15999d8239d53fd",
   "execution_count": 15
  },
  {
   "cell_type": "markdown",
   "source": [
    "# 실제 데이터 사용해서 비교하기"
   ],
   "metadata": {
    "collapsed": false
   },
   "id": "d2c5eb5e1f07027f"
  },
  {
   "cell_type": "code",
   "execution_count": 52,
   "outputs": [],
   "source": [
    "# 1. Normalization\n",
    "def normalize(X):\n",
    "    N, D = X.shape\n",
    "    mu = np.mean(X, axis=0)\n",
    "    Xbar = X - mu\n",
    "    return Xbar, mu\n",
    "\n",
    "\n",
    "# 2. Covariance matrix 의 eigenvalue, eigenvector 계산\n",
    "def eig(S):\n",
    "    eig_vals, eig_vecs = np.linalg.eig(S)\n",
    "    sort_indices = np.argsort(eig_vals)[::-1] # 내림차순 정렬\n",
    "    return eig_vals[sort_indices], eig_vecs[:, sort_indices]\n",
    "\n",
    "\n",
    "# 3. Principal components 에 해당하는 각 벡터의 기저공간에 데이터 사영\n",
    "def reconstruct(X, PC):\n",
    "    return (X @ PC) @ PC.T # vector projection 참고\n",
    "\n",
    "\n",
    "# PCA 알고리즘\n",
    "def PCA2(images, num_components, num_data=1000):\n",
    "    X = images[:num_data]\n",
    "    N, D = X.shape\n",
    "\n",
    "    # 1. Normalization\n",
    "    X_normalized, mean = normalize(X)\n",
    "\n",
    "    # 2. Covariance matrix 의 eigenvalue, eigenvector 계산\n",
    "    S = (X_normalized.T @ X_normalized) / N\n",
    "    eig_vals, eig_vecs = eig(S)\n",
    "\n",
    "    # 3. Principal components 에 해당하는 각 벡터의 기저공간에 데이터 사영\n",
    "    principal_vals, principal_components = np.real(eig_vals[:num_components]), np.real(eig_vecs[:,:num_components])\n",
    "    print(X_normalized @ principal_components)\n",
    "    reconst_X = reconstruct(X_normalized, principal_components) + mean\n",
    "    return reconst_X, mean, principal_vals, principal_components\n",
    "\n"
   ],
   "metadata": {
    "collapsed": false
   }
  },
  {
   "cell_type": "code",
   "execution_count": 64,
   "outputs": [
    {
     "name": "stdout",
     "output_type": "stream",
     "text": [
      "[[-4.99947049]\n",
      " [-2.79388226]\n",
      " [-1.61729421]\n",
      " [-0.58829402]\n",
      " [ 0.58829402]\n",
      " [ 0.80864711]\n",
      " [ 3.60252936]\n",
      " [ 4.99947049]]\n"
     ]
    },
    {
     "data": {
      "text/plain": "(array([[0.95719265, 2.05884139],\n        [2.7407352 , 3.35637577],\n        [3.69217971, 4.04855548],\n        [4.52427774, 4.65391014],\n        [5.47572226, 5.34608986],\n        [5.65391014, 5.47572226],\n        [7.91317495, 7.11934649],\n        [9.04280735, 7.94115861]]),\n array([5., 5.]),\n array([9.3418921]),\n array([[0.80864711],\n        [0.58829402]]))"
     },
     "execution_count": 64,
     "metadata": {},
     "output_type": "execute_result"
    }
   ],
   "source": [
    "PCA2(data, 1)"
   ],
   "metadata": {
    "collapsed": false
   }
  },
  {
   "cell_type": "code",
   "execution_count": 77,
   "outputs": [
    {
     "name": "stdout",
     "output_type": "stream",
     "text": [
      "[[6.25 4.25]\n",
      " [4.25 3.5 ]]\n"
     ]
    }
   ],
   "source": [
    "k = preprocessing.PCA(data)\n",
    "print(k.get_scatter_matrix())"
   ],
   "metadata": {
    "collapsed": false
   }
  }
 ],
 "metadata": {
  "kernelspec": {
   "display_name": "Python 3",
   "language": "python",
   "name": "python3"
  },
  "language_info": {
   "codemirror_mode": {
    "name": "ipython",
    "version": 3
   },
   "file_extension": ".py",
   "mimetype": "text/x-python",
   "name": "python",
   "nbconvert_exporter": "python",
   "pygments_lexer": "ipython3",
   "version": "3.9.0"
  }
 },
 "nbformat": 4,
 "nbformat_minor": 5
}
