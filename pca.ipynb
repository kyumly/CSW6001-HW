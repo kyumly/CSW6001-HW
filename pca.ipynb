{
 "cells": [
  {
   "cell_type": "code",
   "outputs": [],
   "source": [
    "%load_ext autoreload\n",
    "%autoreload 2"
   ],
   "metadata": {
    "collapsed": false,
    "ExecuteTime": {
     "end_time": "2024-04-17T01:22:14.116384700Z",
     "start_time": "2024-04-17T01:22:14.079490200Z"
    }
   },
   "id": "5b4b15d2643a885c",
   "execution_count": 1
  },
  {
   "cell_type": "code",
   "execution_count": 2,
   "id": "initial_id",
   "metadata": {
    "collapsed": true,
    "ExecuteTime": {
     "end_time": "2024-04-17T01:22:14.919665600Z",
     "start_time": "2024-04-17T01:22:14.110211600Z"
    }
   },
   "outputs": [],
   "source": [
    "import numpy as np\n",
    "import numpy.linalg as lin\n",
    "import matplotlib.pyplot as plt\n",
    "import pandas as pd\n",
    "import random\n",
    "#   기본 모듈들을 불러와 줍니다"
   ]
  },
  {
   "cell_type": "code",
   "outputs": [],
   "source": [
    "import preprocessing"
   ],
   "metadata": {
    "collapsed": false,
    "ExecuteTime": {
     "end_time": "2024-04-17T01:22:14.952362600Z",
     "start_time": "2024-04-17T01:22:14.920688800Z"
    }
   },
   "id": "3b71b3245cf39ecd",
   "execution_count": 3
  },
  {
   "cell_type": "code",
   "execution_count": 4,
   "id": "6315a5102268e435",
   "metadata": {
    "collapsed": false,
    "ExecuteTime": {
     "end_time": "2024-04-17T01:22:14.983980600Z",
     "start_time": "2024-04-17T01:22:14.952362600Z"
    }
   },
   "outputs": [],
   "source": [
    "data = np.array([\n",
    "    [1,2],\n",
    "    [3,3],\n",
    "    [3,5],\n",
    "    [5,4],\n",
    "    [5,6],\n",
    "    [6,5],\n",
    "    [8,7],\n",
    "    [9,8],\n",
    "])\n",
    "\n",
    "# temp = data[:, 1:2].copy()"
   ]
  },
  {
   "cell_type": "code",
   "outputs": [],
   "source": [
    "# data[:, 1:2] = data[:, 0:1]\n",
    "# data[:, 0:1] = temp\n",
    "# data"
   ],
   "metadata": {
    "collapsed": false,
    "ExecuteTime": {
     "end_time": "2024-04-17T01:22:15.013537600Z",
     "start_time": "2024-04-17T01:22:14.980895300Z"
    }
   },
   "id": "f61b1c12c177ed69",
   "execution_count": 5
  },
  {
   "cell_type": "code",
   "outputs": [
    {
     "data": {
      "text/plain": "array([[6.25, 4.25],\n       [4.25, 3.5 ]])"
     },
     "execution_count": 6,
     "metadata": {},
     "output_type": "execute_result"
    }
   ],
   "source": [
    "scatter = 1/8 * preprocessing.get_scatter_matrix(data)\n",
    "scatter"
   ],
   "metadata": {
    "collapsed": false,
    "ExecuteTime": {
     "end_time": "2024-04-17T01:22:15.078047800Z",
     "start_time": "2024-04-17T01:22:15.012495200Z"
    }
   },
   "id": "3bb0f5961c6808a2",
   "execution_count": 6
  },
  {
   "cell_type": "code",
   "outputs": [],
   "source": [
    "value, vector = preprocessing.get_eigen_vectors(scatter)"
   ],
   "metadata": {
    "collapsed": false,
    "ExecuteTime": {
     "end_time": "2024-04-17T01:22:15.128199700Z",
     "start_time": "2024-04-17T01:22:15.073925600Z"
    }
   },
   "id": "cc3ffc4fdbcf7a4",
   "execution_count": 7
  },
  {
   "cell_type": "code",
   "outputs": [
    {
     "data": {
      "text/plain": "array([[6.25, 4.25],\n       [4.25, 3.5 ]])"
     },
     "execution_count": 8,
     "metadata": {},
     "output_type": "execute_result"
    }
   ],
   "source": [
    "vector @ np.diag(value) @ vector.T"
   ],
   "metadata": {
    "collapsed": false,
    "ExecuteTime": {
     "end_time": "2024-04-17T01:22:15.146658200Z",
     "start_time": "2024-04-17T01:22:15.104750500Z"
    }
   },
   "id": "66183c6014b0fa18",
   "execution_count": 8
  },
  {
   "cell_type": "code",
   "outputs": [
    {
     "data": {
      "text/plain": "array([[ 0.80864711, -0.58829402],\n       [ 0.58829402,  0.80864711]])"
     },
     "execution_count": 9,
     "metadata": {},
     "output_type": "execute_result"
    }
   ],
   "source": [
    "vector"
   ],
   "metadata": {
    "collapsed": false,
    "ExecuteTime": {
     "end_time": "2024-04-17T01:22:15.567176Z",
     "start_time": "2024-04-17T01:22:15.480984100Z"
    }
   },
   "id": "ca9afe0388d51451",
   "execution_count": 9
  },
  {
   "cell_type": "code",
   "outputs": [
    {
     "data": {
      "text/plain": "array([[-4.99947049, -0.07276523],\n       [-2.79388226, -0.44070617],\n       [-1.61729421,  1.17658805],\n       [-0.58829402, -0.80864711],\n       [ 0.58829402,  0.80864711],\n       [ 0.80864711, -0.58829402],\n       [ 3.60252936, -0.14758786],\n       [ 4.99947049,  0.07276523]])"
     },
     "execution_count": 10,
     "metadata": {},
     "output_type": "execute_result"
    }
   ],
   "source": [
    "a = preprocessing.PCA(data, vector, value)\n",
    "a(2)"
   ],
   "metadata": {
    "collapsed": false,
    "ExecuteTime": {
     "end_time": "2024-04-17T01:22:15.628824500Z",
     "start_time": "2024-04-17T01:22:15.598969100Z"
    }
   },
   "id": "1f15c4e770a3272f",
   "execution_count": 10
  },
  {
   "cell_type": "code",
   "outputs": [],
   "source": [
    "from sklearn.decomposition import PCA\n",
    "pca = PCA(n_components=2)"
   ],
   "metadata": {
    "collapsed": false,
    "ExecuteTime": {
     "end_time": "2024-04-17T01:22:16.624652100Z",
     "start_time": "2024-04-17T01:22:15.765030700Z"
    }
   },
   "id": "ae779f027ccbf330",
   "execution_count": 11
  },
  {
   "cell_type": "code",
   "outputs": [
    {
     "data": {
      "text/plain": "array([[ 4.99947049, -0.07276523],\n       [ 2.79388226, -0.44070617],\n       [ 1.61729421,  1.17658805],\n       [ 0.58829402, -0.80864711],\n       [-0.58829402,  0.80864711],\n       [-0.80864711, -0.58829402],\n       [-3.60252936, -0.14758786],\n       [-4.99947049,  0.07276523]])"
     },
     "execution_count": 12,
     "metadata": {},
     "output_type": "execute_result"
    }
   ],
   "source": [
    "pca.fit_transform(data)"
   ],
   "metadata": {
    "collapsed": false,
    "ExecuteTime": {
     "end_time": "2024-04-17T01:22:18.010992200Z",
     "start_time": "2024-04-17T01:22:17.950729800Z"
    }
   },
   "id": "5b6ad43915e882f3",
   "execution_count": 12
  },
  {
   "cell_type": "code",
   "outputs": [
    {
     "data": {
      "text/plain": "array([0.95814278, 0.04185722])"
     },
     "execution_count": 13,
     "metadata": {},
     "output_type": "execute_result"
    }
   ],
   "source": [
    "a.explained_variance_ratio"
   ],
   "metadata": {
    "collapsed": false,
    "ExecuteTime": {
     "end_time": "2024-04-17T01:22:23.677446800Z",
     "start_time": "2024-04-17T01:22:23.628105200Z"
    }
   },
   "id": "4d6d9d2e84831d0d",
   "execution_count": 13
  },
  {
   "cell_type": "code",
   "outputs": [
    {
     "data": {
      "text/plain": "array([0.95814278, 0.04185722])"
     },
     "execution_count": 14,
     "metadata": {},
     "output_type": "execute_result"
    }
   ],
   "source": [
    "pca.explained_variance_ratio_"
   ],
   "metadata": {
    "collapsed": false,
    "ExecuteTime": {
     "end_time": "2024-04-17T01:22:25.715453Z",
     "start_time": "2024-04-17T01:22:25.670515200Z"
    }
   },
   "id": "f15999d8239d53fd",
   "execution_count": 14
  },
  {
   "cell_type": "code",
   "outputs": [],
   "source": [],
   "metadata": {
    "collapsed": false
   },
   "id": "64f3d7cd499db57d"
  }
 ],
 "metadata": {
  "kernelspec": {
   "display_name": "Python 3",
   "language": "python",
   "name": "python3"
  },
  "language_info": {
   "codemirror_mode": {
    "name": "ipython",
    "version": 3
   },
   "file_extension": ".py",
   "mimetype": "text/x-python",
   "name": "python",
   "nbconvert_exporter": "python",
   "pygments_lexer": "ipython3",
   "version": "3.9.0"
  }
 },
 "nbformat": 4,
 "nbformat_minor": 5
}
