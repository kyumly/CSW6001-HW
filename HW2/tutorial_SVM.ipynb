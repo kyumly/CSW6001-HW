{
 "cells": [
  {
   "cell_type": "code",
   "execution_count": 1,
   "id": "initial_id",
   "metadata": {
    "collapsed": true,
    "ExecuteTime": {
     "end_time": "2024-06-16T06:17:36.829339400Z",
     "start_time": "2024-06-16T06:17:36.765338700Z"
    }
   },
   "outputs": [],
   "source": [
    "import numpy as np\n",
    "from cvxopt import matrix, solvers\n",
    "import matplotlib.pyplot as plt\n",
    "%load_ext autoreload\n",
    "%autoreload 2"
   ]
  },
  {
   "cell_type": "markdown",
   "id": "9206b489c4243ffc",
   "metadata": {
    "collapsed": false
   },
   "source": [
    "# 테스트 데이터 실행"
   ]
  },
  {
   "cell_type": "code",
   "execution_count": 2,
   "id": "251b4818b46cde6d",
   "metadata": {
    "collapsed": false,
    "ExecuteTime": {
     "end_time": "2024-06-16T06:17:36.970341200Z",
     "start_time": "2024-06-16T06:17:36.829339400Z"
    }
   },
   "outputs": [
    {
     "data": {
      "text/plain": "<Figure size 640x480 with 1 Axes>",
      "image/png": "[encoded data removed]"
     },
     "metadata": {},
     "output_type": "display_data"
    }
   ],
   "source": [
    "X = np.array([[2, 3], [3, 3], [4, 5], [1, 1], [2, 1], [3, 0]])\n",
    "y = np.array([1, 1, 1, -1, -1, -1]) * 1.\n",
    "C = 1.0\n",
    "\n",
    "mask = (y == 1)\n",
    "mask2 = (y != 1)\n",
    "\n",
    "plt.scatter(X[mask, 0], X[mask, 1])\n",
    "plt.scatter(X[mask2, 0], X[mask2, 1])\n",
    "plt.show()"
   ]
  },
  {
   "cell_type": "markdown",
   "source": [
    "# 0. 문제 정의\n",
    "<img src=\"temp/image.png\" height=\"100px\" width=\"300px\">"
   ],
   "metadata": {
    "collapsed": false
   },
   "id": "f6f43bbde3f8be4b"
  },
  {
   "cell_type": "markdown",
   "source": [
    "# 1. 커널 함수 정의하기"
   ],
   "metadata": {
    "collapsed": false
   },
   "id": "257f79f29befdcef"
  },
  {
   "cell_type": "code",
   "outputs": [
    {
     "name": "stdout",
     "output_type": "stream",
     "text": [
      "[[13. 15. 23.  5.  7.  6.]\n",
      " [15. 18. 27.  6.  9.  9.]\n",
      " [23. 27. 41.  9. 13. 12.]\n",
      " [ 5.  6.  9.  2.  3.  3.]\n",
      " [ 7.  9. 13.  3.  5.  6.]\n",
      " [ 6.  9. 12.  3.  6.  9.]]\n"
     ]
    }
   ],
   "source": [
    "from SVM import get_kernel\n",
    "m, n = X.shape\n",
    "K = np.zeros((m, m))\n",
    "\n",
    "for i in range(m):\n",
    "    for j in range(m):\n",
    "        K[i, j] = get_kernel(X[i], X[j])\n",
    "\n",
    "print(K)"
   ],
   "metadata": {
    "collapsed": false,
    "ExecuteTime": {
     "end_time": "2024-06-16T06:17:37.050339600Z",
     "start_time": "2024-06-16T06:17:36.971338300Z"
    }
   },
   "id": "1ad56252099283f1",
   "execution_count": 3
  },
  {
   "cell_type": "markdown",
   "source": [
    "# 2. QP 이차식"
   ],
   "metadata": {
    "collapsed": false
   },
   "id": "4000f3a8adf7ce4e"
  },
  {
   "cell_type": "markdown",
   "source": [
    "![nn](temp/image2.png)\n",
    "\n",
    "![nn](temp/image3.png)\n",
    "\n"
   ],
   "metadata": {
    "collapsed": false
   },
   "id": "58ead2b9f92e3662"
  },
  {
   "cell_type": "markdown",
   "source": [
    "## 2.1 QR 프로그램에 맞게 수식 수정하기 제약조건 설정하기\n",
    "<img src=\"temp/image5.png\">"
   ],
   "metadata": {
    "collapsed": false
   },
   "id": "c26100e363f8a9a9"
  },
  {
   "cell_type": "code",
   "outputs": [],
   "source": [
    "diag_Y = np.diag(y.reshape(-1))\n",
    "P = H =diag_Y @ K @ diag_Y\n",
    "q = np.ones(m) * -1\n",
    "\n",
    "G = np.concatenate([np.diag(np.ones(m) * -1), np.diag(np.ones(m))], axis=0)\n",
    "h = np.concatenate([np.zeros(m), np.ones(m) * C], axis=0)\n",
    "A = y.reshape(1, -1)\n",
    "b = np.zeros(1)"
   ],
   "metadata": {
    "collapsed": false,
    "ExecuteTime": {
     "end_time": "2024-06-16T06:17:37.097339400Z",
     "start_time": "2024-06-16T06:17:37.049339200Z"
    }
   },
   "id": "431cae7328ade969",
   "execution_count": 4
  },
  {
   "cell_type": "code",
   "outputs": [
    {
     "name": "stdout",
     "output_type": "stream",
     "text": [
      "     pcost       dcost       gap    pres   dres\n",
      " 0: -1.2455e+00 -1.0484e+01  4e+01  2e+00  1e-15\n",
      " 1: -5.7926e-01 -5.7588e+00  7e+00  2e-01  1e-15\n",
      " 2: -3.7386e-01 -9.9806e-01  7e-01  1e-02  2e-15\n",
      " 3: -4.6676e-01 -5.4988e-01  9e-02  1e-03  7e-16\n",
      " 4: -4.9650e-01 -5.0506e-01  9e-03  3e-05  6e-16\n",
      " 5: -4.9952e-01 -5.0052e-01  1e-03  2e-16  8e-16\n",
      " 6: -4.9993e-01 -5.0007e-01  1e-04  1e-16  6e-16\n",
      " 7: -4.9999e-01 -5.0001e-01  2e-05  2e-16  6e-16\n",
      " 8: -5.0000e-01 -5.0000e-01  3e-06  2e-16  6e-16\n",
      " 9: -5.0000e-01 -5.0000e-01  4e-07  1e-16  5e-16\n",
      "Optimal solution found.\n",
      "(6, 1)\n"
     ]
    }
   ],
   "source": [
    "sol = solvers.qp(matrix(P), matrix(q), matrix(G), matrix(h), matrix(A), matrix(b))\n",
    "alpha = sol['x']\n",
    "alpha = np.array(alpha)\n",
    "print(alpha.shape)"
   ],
   "metadata": {
    "collapsed": false,
    "ExecuteTime": {
     "end_time": "2024-06-16T06:17:37.146338900Z",
     "start_time": "2024-06-16T06:17:37.097339400Z"
    }
   },
   "id": "5bbab5908ded5a25",
   "execution_count": 5
  },
  {
   "cell_type": "code",
   "outputs": [
    {
     "name": "stdout",
     "output_type": "stream",
     "text": [
      "[ True  True False  True  True False]\n"
     ]
    }
   ],
   "source": [
    "zero_mask = ((alpha > 1e-4) & (alpha < C - 1e-4)).flatten()\n",
    "print(zero_mask)\n",
    "new_X, new_Y = X[zero_mask], y[zero_mask]"
   ],
   "metadata": {
    "collapsed": false,
    "ExecuteTime": {
     "end_time": "2024-06-16T06:17:37.196339600Z",
     "start_time": "2024-06-16T06:17:37.144339500Z"
    }
   },
   "id": "a61fbb0229a77779",
   "execution_count": 6
  },
  {
   "cell_type": "markdown",
   "source": [
    "## 2.3 문제 해결하기 -> alpha 얻음\n",
    "<img src=\"temp/image12.png\" weight=50%>"
   ],
   "metadata": {
    "collapsed": false
   },
   "id": "9716a5bd7ccdd188"
  },
  {
   "cell_type": "code",
   "outputs": [
    {
     "name": "stdout",
     "output_type": "stream",
     "text": [
      "[6.07524857e-04 9.99999993e-01]\n"
     ]
    }
   ],
   "source": [
    "w = np.zeros(n)\n",
    "w = (alpha[zero_mask] * new_Y.reshape(-1, 1) * new_X).sum(axis=0)\n",
    "print(w)"
   ],
   "metadata": {
    "collapsed": false,
    "ExecuteTime": {
     "end_time": "2024-06-16T06:17:37.240338600Z",
     "start_time": "2024-06-16T06:17:37.193338500Z"
    }
   },
   "id": "c57f4fa467bda3db",
   "execution_count": 7
  },
  {
   "cell_type": "markdown",
   "source": [
    "## 2.3 문제 해결하기 -> alpha 얻음\n",
    "<img src=\"temp/image11.png\">"
   ],
   "metadata": {
    "collapsed": false
   },
   "id": "a0f320f4c396830f"
  },
  {
   "cell_type": "code",
   "outputs": [
    {
     "data": {
      "text/plain": "-2.001215035073576"
     },
     "execution_count": 8,
     "metadata": {},
     "output_type": "execute_result"
    }
   ],
   "source": [
    "b = new_Y - np.dot(new_X, w)\n",
    "b= b.mean()\n",
    "b"
   ],
   "metadata": {
    "collapsed": false,
    "ExecuteTime": {
     "end_time": "2024-06-16T06:17:37.287338700Z",
     "start_time": "2024-06-16T06:17:37.237338500Z"
    }
   },
   "id": "7247533a9dd6628d",
   "execution_count": 8
  },
  {
   "cell_type": "markdown",
   "source": [
    "# 예측하기"
   ],
   "metadata": {
    "collapsed": false
   },
   "id": "a739a2c456043583"
  },
  {
   "cell_type": "code",
   "outputs": [
    {
     "name": "stdout",
     "output_type": "stream",
     "text": [
      "[ 1.  1.  1. -1. -1. -1.]\n"
     ]
    }
   ],
   "source": [
    "def predict(X, w, b):\n",
    "    return np.sign(np.dot(X, w) + b)\n",
    "\n",
    "print(predict(X, w, b))"
   ],
   "metadata": {
    "collapsed": false,
    "ExecuteTime": {
     "end_time": "2024-06-16T06:17:37.335338200Z",
     "start_time": "2024-06-16T06:17:37.285340300Z"
    }
   },
   "id": "888cddd055956a41",
   "execution_count": 9
  },
  {
   "cell_type": "markdown",
   "source": [
    "Non linear vs Linear"
   ],
   "metadata": {
    "collapsed": false
   },
   "id": "a231e788c1fd6e39"
  },
  {
   "cell_type": "code",
   "outputs": [
    {
     "name": "stdout",
     "output_type": "stream",
     "text": [
      "     pcost       dcost       gap    pres   dres\n",
      " 0: -1.2455e+00 -1.0484e+01  4e+01  2e+00  1e-15\n",
      " 1: -5.7926e-01 -5.7588e+00  7e+00  2e-01  1e-15\n",
      " 2: -3.7386e-01 -9.9806e-01  7e-01  1e-02  2e-15\n",
      " 3: -4.6676e-01 -5.4988e-01  9e-02  1e-03  7e-16\n",
      " 4: -4.9650e-01 -5.0506e-01  9e-03  3e-05  6e-16\n",
      " 5: -4.9952e-01 -5.0052e-01  1e-03  2e-16  8e-16\n",
      " 6: -4.9993e-01 -5.0007e-01  1e-04  1e-16  6e-16\n",
      " 7: -4.9999e-01 -5.0001e-01  2e-05  2e-16  6e-16\n",
      " 8: -5.0000e-01 -5.0000e-01  3e-06  2e-16  6e-16\n",
      " 9: -5.0000e-01 -5.0000e-01  4e-07  1e-16  5e-16\n",
      "Optimal solution found.\n",
      "non-linear 실행\n",
      "모델 bias :  -2.001215035073576\n",
      "모델 weight :  [6.07524857e-04 9.99999993e-01]\n",
      "     pcost       dcost       gap    pres   dres\n",
      " 0: -1.3262e+00 -2.4586e+00  1e+01  4e+00  2e+00\n",
      " 1:  3.2736e-02 -1.3861e+00  3e+00  3e-01  1e-01\n",
      " 2: -3.3123e-01 -6.4708e-01  3e-01  1e-16  8e-16\n",
      " 3: -4.7979e-01 -5.0598e-01  3e-02  1e-16  6e-16\n",
      " 4: -4.9916e-01 -5.0051e-01  1e-03  1e-16  1e-15\n",
      " 5: -4.9993e-01 -5.0007e-01  1e-04  2e-16  6e-16\n",
      " 6: -4.9999e-01 -5.0001e-01  2e-05  2e-16  5e-16\n",
      " 7: -5.0000e-01 -5.0000e-01  3e-06  6e-17  6e-16\n",
      " 8: -5.0000e-01 -5.0000e-01  4e-07  2e-16  1e-15\n",
      "Optimal solution found.\n",
      "linear 실행\n",
      "모델 bias :  -2.000143888524834\n",
      "모델 weight :  [3.49278653e-04 9.99737054e-01]\n"
     ]
    }
   ],
   "source": [
    "from SVM import CustomSVM\n",
    "\n",
    "\n",
    "#Non-separating Linear 훈련 설정\n",
    "\n",
    "custom_svm = CustomSVM(X, y, C=1)\n",
    "custom_svm.fit()\n",
    "print(\"모델 bias : \", custom_svm.b)\n",
    "print(\"모델 weight : \", custom_svm.w)\n",
    "\n",
    "\n",
    "#separating Linear 훈련 설정\n",
    "custom_svm = CustomSVM(X, y, C=1)\n",
    "custom_svm.fit(\"linear\")\n",
    "print(\"모델 bias : \", custom_svm.b)\n",
    "print(\"모델 weight : \", custom_svm.w)\n"
   ],
   "metadata": {
    "collapsed": false,
    "ExecuteTime": {
     "end_time": "2024-06-16T06:17:37.382339Z",
     "start_time": "2024-06-16T06:17:37.334338200Z"
    }
   },
   "id": "8e3a500c9fb64d3f",
   "execution_count": 10
  },
  {
   "cell_type": "markdown",
   "source": [
    "# Sklearn VS Custom Model 비교"
   ],
   "metadata": {
    "collapsed": false
   },
   "id": "9dcf660c2435ad40"
  },
  {
   "cell_type": "code",
   "outputs": [
    {
     "data": {
      "text/plain": "<Figure size 1800x600 with 2 Axes>",
      "image/png": "[encoded data removed]"
     },
     "metadata": {},
     "output_type": "display_data"
    }
   ],
   "source": [
    "import numpy as np\n",
    "import matplotlib.pyplot as plt\n",
    "from sklearn import svm\n",
    "\n",
    "C = 1.0  # SVM 정규화 파라미터\n",
    "model = svm.SVC(kernel='linear', C=C)\n",
    "model.fit(X, y)\n",
    "\n",
    "def decision_boundary(xx, w, b):\n",
    "    return (-w[0] * xx - b) / w[1]\n",
    "\n",
    "\n",
    "def plot_svm(X, y, w, b, model):\n",
    "    fig, axs = plt.subplots(1, 2, figsize=(18, 6))\n",
    "\n",
    "    axs[0].scatter(X[:, 0], X[:, 1], c=y, s=30, cmap=plt.cm.Paired)\n",
    "    ax = axs[0]\n",
    "    xlim = ax.get_xlim()\n",
    "    xx = np.linspace(xlim[0], xlim[1], 30)\n",
    "    \n",
    "\n",
    "    \n",
    "    yy_cv = decision_boundary(xx, w, b)\n",
    "    axs[0].plot(xx, yy_cv, 'k-', label='Custom SVM decision boundary')\n",
    "    axs[0].set_title('Decision Boundary using Custom SVM')\n",
    "\n",
    "    axs[1].scatter(X[:, 0], X[:, 1], c=y, s=30, cmap=plt.cm.Paired)\n",
    "    ax = axs[1]\n",
    "    xlim = ax.get_xlim()\n",
    "    ylim = ax.get_ylim()\n",
    "\n",
    "    xx = np.linspace(xlim[0], xlim[1], 30)\n",
    "    yy = np.linspace(ylim[0], ylim[1], 30)\n",
    "    YY, XX = np.meshgrid(yy, xx)\n",
    "    xy = np.vstack([XX.ravel(), YY.ravel()]).T\n",
    "    Z = model.decision_function(xy).reshape(XX.shape)\n",
    "\n",
    "    ax.contour(XX, YY, Z, colors='k', levels=[-1, 0, 1], alpha=0.5,\n",
    "               linestyles=['--', '-', '--'])\n",
    "    axs[1].set_title('sklearn SVM Decision Boundary')\n",
    "\n",
    "    plt.show()\n",
    "plot_svm(X, y, custom_svm.w, custom_svm.b, model)"
   ],
   "metadata": {
    "collapsed": false,
    "ExecuteTime": {
     "end_time": "2024-06-16T06:17:37.809339600Z",
     "start_time": "2024-06-16T06:17:37.382339Z"
    }
   },
   "id": "17832c1a92a73826",
   "execution_count": 11
  },
  {
   "cell_type": "markdown",
   "source": [
    "# 위에 만든 SVM 클래스 만들기"
   ],
   "metadata": {
    "collapsed": false
   },
   "id": "690f6bd0e00af111"
  },
  {
   "cell_type": "code",
   "outputs": [],
   "source": [
    "from SVM import CustomSVM"
   ],
   "metadata": {
    "collapsed": false,
    "ExecuteTime": {
     "end_time": "2024-06-16T06:17:37.871525300Z",
     "start_time": "2024-06-16T06:17:37.810340600Z"
    }
   },
   "id": "4cf067fb41bac765",
   "execution_count": 12
  },
  {
   "cell_type": "code",
   "outputs": [
    {
     "name": "stdout",
     "output_type": "stream",
     "text": [
      "     pcost       dcost       gap    pres   dres\n",
      " 0: -1.2455e+00 -1.0484e+01  4e+01  2e+00  1e-15\n",
      " 1: -5.7926e-01 -5.7588e+00  7e+00  2e-01  1e-15\n",
      " 2: -3.7386e-01 -9.9806e-01  7e-01  1e-02  2e-15\n",
      " 3: -4.6676e-01 -5.4988e-01  9e-02  1e-03  7e-16\n",
      " 4: -4.9650e-01 -5.0506e-01  9e-03  3e-05  6e-16\n",
      " 5: -4.9952e-01 -5.0052e-01  1e-03  2e-16  8e-16\n",
      " 6: -4.9993e-01 -5.0007e-01  1e-04  1e-16  6e-16\n",
      " 7: -4.9999e-01 -5.0001e-01  2e-05  2e-16  6e-16\n",
      " 8: -5.0000e-01 -5.0000e-01  3e-06  2e-16  6e-16\n",
      " 9: -5.0000e-01 -5.0000e-01  4e-07  1e-16  5e-16\n",
      "Optimal solution found.\n",
      "non-linear 실행\n"
     ]
    }
   ],
   "source": [
    "custom_svm = CustomSVM(X, y, C=1)\n",
    "custom_svm.fit()"
   ],
   "metadata": {
    "collapsed": false,
    "ExecuteTime": {
     "end_time": "2024-06-16T06:17:37.940523800Z",
     "start_time": "2024-06-16T06:17:37.871525300Z"
    }
   },
   "id": "a4445737a1f2baa8",
   "execution_count": 13
  },
  {
   "cell_type": "code",
   "outputs": [
    {
     "name": "stdout",
     "output_type": "stream",
     "text": [
      "모델 bias :  -2.001215035073576\n",
      "모델 weight :  [6.07524857e-04 9.99999993e-01]\n"
     ]
    }
   ],
   "source": [
    "print(\"모델 bias : \", custom_svm.b)\n",
    "print(\"모델 weight : \", custom_svm.w)"
   ],
   "metadata": {
    "collapsed": false,
    "ExecuteTime": {
     "end_time": "2024-06-16T06:17:37.985524300Z",
     "start_time": "2024-06-16T06:17:37.936524600Z"
    }
   },
   "id": "a993399c2512c8cd",
   "execution_count": 14
  },
  {
   "cell_type": "code",
   "outputs": [],
   "source": [
    "custom_svm = CustomSVM(X, y, C=1)"
   ],
   "metadata": {
    "collapsed": false,
    "ExecuteTime": {
     "end_time": "2024-06-16T06:17:38.033525400Z",
     "start_time": "2024-06-16T06:17:37.983525700Z"
    }
   },
   "id": "dfe7aae7b7823f3",
   "execution_count": 15
  }
 ],
 "metadata": {
  "kernelspec": {
   "display_name": "Python 3",
   "language": "python",
   "name": "python3"
  },
  "language_info": {
   "codemirror_mode": {
    "name": "ipython",
    "version": 3
   },
   "file_extension": ".py",
   "mimetype": "text/x-python",
   "name": "python",
   "nbconvert_exporter": "python",
   "pygments_lexer": "ipython3",
   "version": "3.9.0"
  }
 },
 "nbformat": 4,
 "nbformat_minor": 5
}
