{
 "cells": [
  {
   "cell_type": "code",
   "execution_count": 3,
   "outputs": [
    {
     "name": "stdout",
     "output_type": "stream",
     "text": [
      "The autoreload extension is already loaded. To reload it, use:\n",
      "  %reload_ext autoreload\n"
     ]
    }
   ],
   "source": [
    "import numpy as np\n",
    "from preprocessing import LDA\n",
    "import matplotlib.pyplot as plt\n",
    "\n",
    "%load_ext autoreload\n",
    "%autoreload 2"
   ],
   "metadata": {
    "collapsed": false
   }
  },
  {
   "cell_type": "code",
   "execution_count": 6,
   "metadata": {
    "collapsed": true
   },
   "outputs": [],
   "source": [
    "data_1 = [\n",
    "    [4,1],\n",
    "    [2,4],\n",
    "    [2,3],\n",
    "    [3,6],\n",
    "    [4,4],\n",
    "]\n",
    "\n",
    "\n",
    "data_2 = [\n",
    "    [9,10],\n",
    "    [6,8],\n",
    "    [9,5],\n",
    "    [8,7],\n",
    "    [10,8],\n",
    "]\n",
    "\n",
    "data=np.concatate([\n",
    "    data_1,\n",
    "    data_2\n",
    "])\n",
    "\n",
    "label = np.hstack((np.zeros(len(data_1)), np.ones(len(data_2))))  # 클래스 레이블 생성\n",
    "\n"
   ]
  },
  {
   "cell_type": "code",
   "execution_count": 9,
   "outputs": [
    {
     "name": "stdout",
     "output_type": "stream",
     "text": [
      "(10, 2)\n"
     ]
    }
   ],
   "source": [
    "print(data.shape)"
   ],
   "metadata": {
    "collapsed": false
   }
  },
  {
   "cell_type": "code",
   "execution_count": 10,
   "outputs": [
    {
     "name": "stdout",
     "output_type": "stream",
     "text": [
      "[0. 0. 0. 0. 0. 1. 1. 1. 1. 1.]\n"
     ]
    }
   ],
   "source": [
    "print(label)"
   ],
   "metadata": {
    "collapsed": false
   }
  },
  {
   "cell_type": "code",
   "execution_count": 13,
   "outputs": [
    {
     "name": "stdout",
     "output_type": "stream",
     "text": [
      "[[ 4  1]\n",
      " [ 2  4]\n",
      " [ 2  3]\n",
      " [ 3  6]\n",
      " [ 4  4]\n",
      " [ 9 10]\n",
      " [ 6  8]\n",
      " [ 9  5]\n",
      " [ 8  7]\n",
      " [10  8]]\n",
      "[5.7 5.6]\n"
     ]
    }
   ],
   "source": [
    "l = LDA(data)"
   ],
   "metadata": {
    "collapsed": false
   }
  },
  {
   "cell_type": "code",
   "execution_count": 16,
   "outputs": [
    {
     "data": {
      "text/plain": "<Figure size 432x288 with 1 Axes>",
      "image/png": "[encoded data removed]"
     },
     "metadata": {
      "needs_background": "light"
     },
     "output_type": "display_data"
    }
   ],
   "source": [
    "l.grad_show()"
   ],
   "metadata": {
    "collapsed": false
   }
  },
  {
   "cell_type": "code",
   "execution_count": 17,
   "outputs": [
    {
     "name": "stdout",
     "output_type": "stream",
     "text": [
      "값 :  [[-5.4]\n",
      " [-4. ]]\n"
     ]
    }
   ],
   "source": [
    "s_b = l.set_scatter_b_matrix()"
   ],
   "metadata": {
    "collapsed": false
   }
  },
  {
   "cell_type": "code",
   "execution_count": 18,
   "outputs": [],
   "source": [
    "s_w = l.set_scatter_w_matrix()"
   ],
   "metadata": {
    "collapsed": false
   }
  },
  {
   "cell_type": "code",
   "execution_count": 19,
   "outputs": [
    {
     "name": "stdout",
     "output_type": "stream",
     "text": [
      "[[0.91955932]\n",
      " [0.39295122]]\n"
     ]
    }
   ],
   "source": [
    "result = l.get_lda(num=1)"
   ],
   "metadata": {
    "collapsed": false
   }
  },
  {
   "cell_type": "code",
   "execution_count": 22,
   "outputs": [
    {
     "data": {
      "text/plain": "5"
     },
     "execution_count": 22,
     "metadata": {},
     "output_type": "execute_result"
    }
   ],
   "source": [
    "data.shape[1]"
   ],
   "metadata": {
    "collapsed": false
   }
  },
  {
   "cell_type": "code",
   "execution_count": 23,
   "outputs": [
    {
     "data": {
      "text/plain": "<Figure size 432x288 with 1 Axes>",
      "image/png": "[encoded data removed]"
     },
     "metadata": {
      "needs_background": "light"
     },
     "output_type": "display_data"
    }
   ],
   "source": [
    "plt.scatter(result[0], np.zeros(data.shape[1]), color='r', label='Class 1')\n",
    "plt.scatter(result[1], np.zeros(data.shape[1]), color='b', label='Class 2')\n",
    "plt.legend()\n",
    "plt.title('LDA Projection')\n",
    "plt.xlabel('LD1')\n",
    "plt.show()"
   ],
   "metadata": {
    "collapsed": false
   }
  },
  {
   "cell_type": "code",
   "execution_count": null,
   "outputs": [],
   "source": [],
   "metadata": {
    "collapsed": false
   }
  },
  {
   "cell_type": "markdown",
   "source": [
    "# Multi Classifier"
   ],
   "metadata": {
    "collapsed": false
   }
  },
  {
   "cell_type": "code",
   "execution_count": 1,
   "outputs": [],
   "source": [
    "data_1 = [\n",
    "    [4,1],\n",
    "    [2,4],\n",
    "    [2,3],\n",
    "    [3,6],\n",
    "    [4,4],\n",
    "]\n",
    "\n",
    "\n",
    "data_2 = [\n",
    "    [9,10],\n",
    "    [7,8],\n",
    "    [9,5],\n",
    "    [8,7],\n",
    "    [10,8],\n",
    "]\n",
    "\n",
    "data_3 = [\n",
    "    [5, 17],\n",
    "    [3, 13],\n",
    "    [5, 15],\n",
    "    [4, 19],\n",
    "    [4, 14],\n",
    "]"
   ],
   "metadata": {
    "collapsed": false
   }
  },
  {
   "cell_type": "code",
   "execution_count": 3,
   "outputs": [
    {
     "name": "stdout",
     "output_type": "stream",
     "text": [
      "(3, 5, 2)\n"
     ]
    }
   ],
   "source": [
    "x1 = np.array(data_1)\n",
    "x2 = np.array(data_2)\n",
    "x3 = np.array(data_3)\n",
    "data = np.array([\n",
    "    data_1,\n",
    "    data_2,\n",
    "    data_3\n",
    "])\n",
    "print(data.shape)\n"
   ],
   "metadata": {
    "collapsed": false
   }
  },
  {
   "cell_type": "code",
   "execution_count": 4,
   "outputs": [],
   "source": [
    "from preprocessing import LDA\n",
    "\n",
    "l = LDA(data)"
   ],
   "metadata": {
    "collapsed": false
   }
  },
  {
   "cell_type": "code",
   "execution_count": 5,
   "outputs": [
    {
     "data": {
      "text/plain": "<Figure size 432x288 with 1 Axes>",
      "image/png": "[encoded data removed]"
     },
     "metadata": {
      "needs_background": "light"
     },
     "output_type": "display_data"
    }
   ],
   "source": [
    "l.grad_show()"
   ],
   "metadata": {
    "collapsed": false
   }
  },
  {
   "cell_type": "code",
   "execution_count": 6,
   "outputs": [
    {
     "data": {
      "text/plain": "array([[2.4 , 0.32],\n       [0.32, 9.92]])"
     },
     "execution_count": 6,
     "metadata": {},
     "output_type": "execute_result"
    }
   ],
   "source": [
    "l.set_scatter_w_matrix()"
   ],
   "metadata": {
    "collapsed": false
   }
  },
  {
   "cell_type": "code",
   "execution_count": 7,
   "outputs": [
    {
     "data": {
      "text/plain": "array([[ 86.933334 ,   2.6666658],\n       [  2.6666658, 373.33334  ]], dtype=float32)"
     },
     "execution_count": 7,
     "metadata": {},
     "output_type": "execute_result"
    }
   ],
   "source": [
    "l.set_scatter_b_matrix()"
   ],
   "metadata": {
    "collapsed": false
   }
  },
  {
   "cell_type": "code",
   "execution_count": 8,
   "outputs": [],
   "source": [
    "result = l.get_lda(1)"
   ],
   "metadata": {
    "collapsed": false
   }
  },
  {
   "cell_type": "code",
   "execution_count": 10,
   "outputs": [
    {
     "data": {
      "text/plain": "<Figure size 432x288 with 1 Axes>",
      "image/png": "[encoded data removed]"
     },
     "metadata": {
      "needs_background": "light"
     },
     "output_type": "display_data"
    }
   ],
   "source": [
    "import matplotlib.pyplot as plt\n",
    "plt.scatter(result[0], np.zeros(len(result[0])), color='r', label='Class 1')\n",
    "plt.scatter(result[1], np.zeros(len(result[1])), color='b', label='Class 2')\n",
    "plt.scatter(result[2], np.zeros(len(result[2])), color='k', label='Class 3')\n",
    "\n",
    "plt.legend()\n",
    "plt.title('LDA Projection')\n",
    "plt.xlabel('LD1')\n",
    "plt.show()"
   ],
   "metadata": {
    "collapsed": false
   }
  },
  {
   "cell_type": "markdown",
   "source": [
    "# LDA Sklearn Ex"
   ],
   "metadata": {
    "collapsed": false
   }
  },
  {
   "cell_type": "code",
   "execution_count": 11,
   "outputs": [
    {
     "data": {
      "text/plain": "Text(0.5, 0, 'LD1')"
     },
     "execution_count": 11,
     "metadata": {},
     "output_type": "execute_result"
    },
    {
     "data": {
      "text/plain": "<Figure size 432x288 with 1 Axes>",
      "image/png": "[encoded data removed]"
     },
     "metadata": {
      "needs_background": "light"
     },
     "output_type": "display_data"
    }
   ],
   "source": [
    "from sklearn.discriminant_analysis import LinearDiscriminantAnalysis as LDA\n",
    "\n",
    "# LDA 모델 초기화\n",
    "lda = LDA(n_components=1)  # 투영할 차원 수를 1로 설정\n",
    "\n",
    "# 데이터에 모델 적용\n",
    "x_combined = np.vstack((x1, x2, x3))\n",
    "y_3 = np.zeros(len(x3)) + 2\n",
    "y_combined = np.hstack((np.zeros(len(x1)), np.ones(len(x2)), y_3))  # 클래스 레이블 생성\n",
    "\n",
    "lda.fit(x_combined, y_combined)\n",
    "\n",
    "x_lda = lda.transform(x_combined)\n",
    "\n",
    "# 투영된 데이터 플로팅\n",
    "plt.scatter(x_lda[y_combined == 0], np.zeros(len(x1)), color='r', label='Class 1')\n",
    "plt.scatter(x_lda[y_combined == 1], np.zeros(len(x2)), color='b', label='Class 2')\n",
    "# 투영된 데이터 플로팅\n",
    "plt.scatter(x_lda[y_combined == 2], np.zeros(len(x1)), color='k', label='Class 3')\n",
    "plt.legend()\n",
    "plt.title('LDA Projection')\n",
    "plt.xlabel('LD1')\n",
    "# plt.show()"
   ],
   "metadata": {
    "collapsed": false
   }
  }
 ],
 "metadata": {
  "kernelspec": {
   "display_name": "Python 3",
   "language": "python",
   "name": "python3"
  },
  "language_info": {
   "codemirror_mode": {
    "name": "ipython",
    "version": 2
   },
   "file_extension": ".py",
   "mimetype": "text/x-python",
   "name": "python",
   "nbconvert_exporter": "python",
   "pygments_lexer": "ipython2",
   "version": "2.7.6"
  }
 },
 "nbformat": 4,
 "nbformat_minor": 0
}
