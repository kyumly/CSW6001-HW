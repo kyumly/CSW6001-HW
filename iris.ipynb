{
 "cells": [
  {
   "cell_type": "code",
   "execution_count": 229,
   "metadata": {
    "collapsed": true,
    "ExecuteTime": {
     "end_time": "2024-04-25T12:11:09.693918600Z",
     "start_time": "2024-04-25T12:11:08.935325Z"
    }
   },
   "outputs": [],
   "source": [
    "from sklearn.discriminant_analysis import LinearDiscriminantAnalysis\n",
    "from sklearn.preprocessing import StandardScaler\n",
    "from sklearn.datasets import load_iris\n",
    "import pandas as pd\n",
    "import matplotlib.pyplot as plt\n",
    "%matplotlib inline\n"
   ]
  },
  {
   "cell_type": "code",
   "outputs": [
    {
     "name": "stdout",
     "output_type": "stream",
     "text": [
      "The autoreload extension is already loaded. To reload it, use:\n",
      "  %reload_ext autoreload\n"
     ]
    }
   ],
   "source": [
    "%load_ext autoreload\n",
    "%autoreload 2"
   ],
   "metadata": {
    "collapsed": false,
    "ExecuteTime": {
     "end_time": "2024-04-25T12:11:09.741373800Z",
     "start_time": "2024-04-25T12:11:09.693918600Z"
    }
   },
   "execution_count": 230
  },
  {
   "cell_type": "code",
   "execution_count": 231,
   "outputs": [
    {
     "name": "stdout",
     "output_type": "stream",
     "text": [
      "(150, 4)\n",
      "(150, 4)\n",
      "[[ 8.06179978e+00  3.00420621e-01]\n",
      " [ 7.12868772e+00 -7.86660426e-01]\n",
      " [ 7.48982797e+00 -2.65384488e-01]\n",
      " [ 6.81320057e+00 -6.70631068e-01]\n",
      " [ 8.13230933e+00  5.14462530e-01]\n",
      " [ 7.70194674e+00  1.46172097e+00]\n",
      " [ 7.21261762e+00  3.55836209e-01]\n",
      " [ 7.60529355e+00 -1.16338380e-02]\n",
      " [ 6.56055159e+00 -1.01516362e+00]\n",
      " [ 7.34305989e+00 -9.47319209e-01]\n",
      " [ 8.39738652e+00  6.47363392e-01]\n",
      " [ 7.21929685e+00 -1.09646389e-01]\n",
      " [ 7.32679599e+00 -1.07298943e+00]\n",
      " [ 7.57247066e+00 -8.05464137e-01]\n",
      " [ 9.84984300e+00  1.58593698e+00]\n",
      " [ 9.15823890e+00  2.73759647e+00]\n",
      " [ 8.58243141e+00  1.83448945e+00]\n",
      " [ 7.78075375e+00  5.84339407e-01]\n",
      " [ 8.07835876e+00  9.68580703e-01]\n",
      " [ 8.02097451e+00  1.14050366e+00]\n",
      " [ 7.49680227e+00 -1.88377220e-01]\n",
      " [ 7.58648117e+00  1.20797032e+00]\n",
      " [ 8.68104293e+00  8.77590154e-01]\n",
      " [ 6.25140358e+00  4.39696367e-01]\n",
      " [ 6.55893336e+00 -3.89222752e-01]\n",
      " [ 6.77138315e+00 -9.70634453e-01]\n",
      " [ 6.82308032e+00  4.63011612e-01]\n",
      " [ 7.92461638e+00  2.09638715e-01]\n",
      " [ 7.99129024e+00  8.63787128e-02]\n",
      " [ 6.82946447e+00 -5.44960851e-01]\n",
      " [ 6.75895493e+00 -7.59002759e-01]\n",
      " [ 7.37495254e+00  5.65844592e-01]\n",
      " [ 9.12634625e+00  1.22443267e+00]\n",
      " [ 9.46768199e+00  1.82522635e+00]\n",
      " [ 7.06201386e+00 -6.63400423e-01]\n",
      " [ 7.95876243e+00 -1.64961722e-01]\n",
      " [ 8.61367201e+00  4.03253602e-01]\n",
      " [ 8.33041759e+00  2.28133530e-01]\n",
      " [ 6.93412007e+00 -7.05519379e-01]\n",
      " [ 7.68823131e+00 -9.22362309e-03]\n",
      " [ 7.91793715e+00  6.75121313e-01]\n",
      " [ 5.66188065e+00 -1.93435524e+00]\n",
      " [ 7.24101468e+00 -2.72615132e-01]\n",
      " [ 6.41443556e+00  1.24730131e+00]\n",
      " [ 6.85944381e+00  1.05165396e+00]\n",
      " [ 6.76470393e+00 -5.05151855e-01]\n",
      " [ 8.08189937e+00  7.63392750e-01]\n",
      " [ 7.18676904e+00 -3.60986823e-01]\n",
      " [ 8.31444876e+00  6.44953177e-01]\n",
      " [ 7.67196741e+00 -1.34893840e-01]\n",
      " [-1.45927545e+00  2.85437643e-02]\n",
      " [-1.79770574e+00  4.84385502e-01]\n",
      " [-2.41694888e+00 -9.27840307e-02]\n",
      " [-2.26247349e+00 -1.58725251e+00]\n",
      " [-2.54867836e+00 -4.72204898e-01]\n",
      " [-2.42996725e+00 -9.66132066e-01]\n",
      " [-2.44848456e+00  7.95961954e-01]\n",
      " [-2.22666513e-01 -1.58467318e+00]\n",
      " [-1.75020123e+00 -8.21180130e-01]\n",
      " [-1.95842242e+00 -3.51563753e-01]\n",
      " [-1.19376031e+00 -2.63445570e+00]\n",
      " [-1.85892567e+00  3.19006544e-01]\n",
      " [-1.15809388e+00 -2.64340991e+00]\n",
      " [-2.66605725e+00 -6.42504540e-01]\n",
      " [-3.78367218e-01  8.66389312e-02]\n",
      " [-1.20117255e+00  8.44373592e-02]\n",
      " [-2.76810246e+00  3.21995363e-02]\n",
      " [-7.76854039e-01 -1.65916185e+00]\n",
      " [-3.49805433e+00 -1.68495616e+00]\n",
      " [-1.09042788e+00 -1.62658350e+00]\n",
      " [-3.71589615e+00  1.04451442e+00]\n",
      " [-9.97610366e-01 -4.90530602e-01]\n",
      " [-3.83525931e+00 -1.40595806e+00]\n",
      " [-2.25741249e+00 -1.42679423e+00]\n",
      " [-1.25571326e+00 -5.46424197e-01]\n",
      " [-1.43755762e+00 -1.34424979e-01]\n",
      " [-2.45906137e+00 -9.35277280e-01]\n",
      " [-3.51848495e+00  1.60588866e-01]\n",
      " [-2.58979871e+00 -1.74611728e-01]\n",
      " [ 3.07487884e-01 -1.31887146e+00]\n",
      " [-1.10669179e+00 -1.75225371e+00]\n",
      " [-6.05524589e-01 -1.94298038e+00]\n",
      " [-8.98703769e-01 -9.04940034e-01]\n",
      " [-4.49846635e+00 -8.82749915e-01]\n",
      " [-2.93397799e+00  2.73791065e-02]\n",
      " [-2.10360821e+00  1.19156767e+00]\n",
      " [-2.14258208e+00  8.87797815e-02]\n",
      " [-2.47945603e+00 -1.94073927e+00]\n",
      " [-1.32552574e+00 -1.62869550e-01]\n",
      " [-1.95557887e+00 -1.15434826e+00]\n",
      " [-2.40157020e+00 -1.59458341e+00]\n",
      " [-2.29248878e+00 -3.32860296e-01]\n",
      " [-1.27227224e+00 -1.21458428e+00]\n",
      " [-2.93176055e-01 -1.79871509e+00]\n",
      " [-2.00598883e+00 -9.05418042e-01]\n",
      " [-1.18166311e+00 -5.37570242e-01]\n",
      " [-1.61615645e+00 -4.70103580e-01]\n",
      " [-1.42158879e+00 -5.51244626e-01]\n",
      " [ 4.75973788e-01 -7.99905482e-01]\n",
      " [-1.54948259e+00 -5.93363582e-01]\n",
      " [-7.83947399e+00  2.13973345e+00]\n",
      " [-5.50747997e+00 -3.58139892e-02]\n",
      " [-6.29200850e+00  4.67175777e-01]\n",
      " [-5.60545633e+00 -3.40738058e-01]\n",
      " [-6.85055995e+00  8.29825394e-01]\n",
      " [-7.41816784e+00 -1.73117995e-01]\n",
      " [-4.67799541e+00 -4.99095015e-01]\n",
      " [-6.31692685e+00 -9.68980756e-01]\n",
      " [-6.32773684e+00 -1.38328993e+00]\n",
      " [-6.85281335e+00  2.71758963e+00]\n",
      " [-4.44072512e+00  1.34723692e+00]\n",
      " [-5.45009572e+00 -2.07736942e-01]\n",
      " [-5.66033713e+00  8.32713617e-01]\n",
      " [-5.95823722e+00 -9.40175447e-02]\n",
      " [-6.75926282e+00  1.60023206e+00]\n",
      " [-5.80704331e+00  2.01019882e+00]\n",
      " [-5.06601233e+00 -2.62733839e-02]\n",
      " [-6.60881882e+00  1.75163587e+00]\n",
      " [-9.17147486e+00 -7.48255067e-01]\n",
      " [-4.76453569e+00 -2.15573720e+00]\n",
      " [-6.27283915e+00  1.64948141e+00]\n",
      " [-5.36071189e+00  6.46120732e-01]\n",
      " [-7.58119982e+00 -9.80722934e-01]\n",
      " [-4.37150279e+00 -1.21297458e-01]\n",
      " [-5.72317531e+00  1.29327553e+00]\n",
      " [-5.27915920e+00 -4.24582377e-02]\n",
      " [-4.08087208e+00  1.85936572e-01]\n",
      " [-4.07703640e+00  5.23238483e-01]\n",
      " [-6.51910397e+00  2.96976389e-01]\n",
      " [-4.58371942e+00 -8.56815813e-01]\n",
      " [-6.22824009e+00 -7.12719638e-01]\n",
      " [-5.22048773e+00  1.46819509e+00]\n",
      " [-6.80015000e+00  5.80895175e-01]\n",
      " [-3.81515972e+00 -9.42985932e-01]\n",
      " [-5.10748966e+00 -2.13059000e+00]\n",
      " [-6.79671631e+00  8.63090395e-01]\n",
      " [-6.52449599e+00  2.44503527e+00]\n",
      " [-4.99550279e+00  1.87768525e-01]\n",
      " [-3.93985300e+00  6.14020389e-01]\n",
      " [-5.20383090e+00  1.14476808e+00]\n",
      " [-6.65308685e+00  1.80531976e+00]\n",
      " [-5.10555946e+00  1.99218201e+00]\n",
      " [-5.50747997e+00 -3.58139892e-02]\n",
      " [-6.79601924e+00  1.46068695e+00]\n",
      " [-6.84735943e+00  2.42895067e+00]\n",
      " [-5.64500346e+00  1.67771734e+00]\n",
      " [-5.17956460e+00 -3.63475041e-01]\n",
      " [-4.96774090e+00  8.21140550e-01]\n",
      " [-5.88614539e+00  2.34509051e+00]\n",
      " [-4.68315426e+00  3.32033811e-01]]\n"
     ]
    }
   ],
   "source": [
    "iris = load_iris()\n",
    "print(iris.data.shape)\n",
    "\n",
    "iris_scaled = StandardScaler().fit_transform(iris.data)\n",
    "print(iris_scaled.shape)\n",
    "\n",
    "lda = LinearDiscriminantAnalysis(n_components=2)\n",
    "\n",
    "lda.fit(iris_scaled, iris.target)\n",
    "iris_lda = lda.transform(iris_scaled)\n",
    "print(iris_lda)\n"
   ],
   "metadata": {
    "collapsed": false,
    "ExecuteTime": {
     "end_time": "2024-04-25T12:11:09.787759300Z",
     "start_time": "2024-04-25T12:11:09.741373800Z"
    }
   }
  },
  {
   "cell_type": "code",
   "outputs": [
    {
     "data": {
      "text/plain": "array([[ 8.06179978e+00,  3.00420621e-01],\n       [ 7.12868772e+00, -7.86660426e-01],\n       [ 7.48982797e+00, -2.65384488e-01],\n       [ 6.81320057e+00, -6.70631068e-01],\n       [ 8.13230933e+00,  5.14462530e-01],\n       [ 7.70194674e+00,  1.46172097e+00],\n       [ 7.21261762e+00,  3.55836209e-01],\n       [ 7.60529355e+00, -1.16338380e-02],\n       [ 6.56055159e+00, -1.01516362e+00],\n       [ 7.34305989e+00, -9.47319209e-01],\n       [ 8.39738652e+00,  6.47363392e-01],\n       [ 7.21929685e+00, -1.09646389e-01],\n       [ 7.32679599e+00, -1.07298943e+00],\n       [ 7.57247066e+00, -8.05464137e-01],\n       [ 9.84984300e+00,  1.58593698e+00],\n       [ 9.15823890e+00,  2.73759647e+00],\n       [ 8.58243141e+00,  1.83448945e+00],\n       [ 7.78075375e+00,  5.84339407e-01],\n       [ 8.07835876e+00,  9.68580703e-01],\n       [ 8.02097451e+00,  1.14050366e+00],\n       [ 7.49680227e+00, -1.88377220e-01],\n       [ 7.58648117e+00,  1.20797032e+00],\n       [ 8.68104293e+00,  8.77590154e-01],\n       [ 6.25140358e+00,  4.39696367e-01],\n       [ 6.55893336e+00, -3.89222752e-01],\n       [ 6.77138315e+00, -9.70634453e-01],\n       [ 6.82308032e+00,  4.63011612e-01],\n       [ 7.92461638e+00,  2.09638715e-01],\n       [ 7.99129024e+00,  8.63787128e-02],\n       [ 6.82946447e+00, -5.44960851e-01],\n       [ 6.75895493e+00, -7.59002759e-01],\n       [ 7.37495254e+00,  5.65844592e-01],\n       [ 9.12634625e+00,  1.22443267e+00],\n       [ 9.46768199e+00,  1.82522635e+00],\n       [ 7.06201386e+00, -6.63400423e-01],\n       [ 7.95876243e+00, -1.64961722e-01],\n       [ 8.61367201e+00,  4.03253602e-01],\n       [ 8.33041759e+00,  2.28133530e-01],\n       [ 6.93412007e+00, -7.05519379e-01],\n       [ 7.68823131e+00, -9.22362309e-03],\n       [ 7.91793715e+00,  6.75121313e-01],\n       [ 5.66188065e+00, -1.93435524e+00],\n       [ 7.24101468e+00, -2.72615132e-01],\n       [ 6.41443556e+00,  1.24730131e+00],\n       [ 6.85944381e+00,  1.05165396e+00],\n       [ 6.76470393e+00, -5.05151855e-01],\n       [ 8.08189937e+00,  7.63392750e-01],\n       [ 7.18676904e+00, -3.60986823e-01],\n       [ 8.31444876e+00,  6.44953177e-01],\n       [ 7.67196741e+00, -1.34893840e-01],\n       [-1.45927545e+00,  2.85437643e-02],\n       [-1.79770574e+00,  4.84385502e-01],\n       [-2.41694888e+00, -9.27840307e-02],\n       [-2.26247349e+00, -1.58725251e+00],\n       [-2.54867836e+00, -4.72204898e-01],\n       [-2.42996725e+00, -9.66132066e-01],\n       [-2.44848456e+00,  7.95961954e-01],\n       [-2.22666513e-01, -1.58467318e+00],\n       [-1.75020123e+00, -8.21180130e-01],\n       [-1.95842242e+00, -3.51563753e-01],\n       [-1.19376031e+00, -2.63445570e+00],\n       [-1.85892567e+00,  3.19006544e-01],\n       [-1.15809388e+00, -2.64340991e+00],\n       [-2.66605725e+00, -6.42504540e-01],\n       [-3.78367218e-01,  8.66389312e-02],\n       [-1.20117255e+00,  8.44373592e-02],\n       [-2.76810246e+00,  3.21995363e-02],\n       [-7.76854039e-01, -1.65916185e+00],\n       [-3.49805433e+00, -1.68495616e+00],\n       [-1.09042788e+00, -1.62658350e+00],\n       [-3.71589615e+00,  1.04451442e+00],\n       [-9.97610366e-01, -4.90530602e-01],\n       [-3.83525931e+00, -1.40595806e+00],\n       [-2.25741249e+00, -1.42679423e+00],\n       [-1.25571326e+00, -5.46424197e-01],\n       [-1.43755762e+00, -1.34424979e-01],\n       [-2.45906137e+00, -9.35277280e-01],\n       [-3.51848495e+00,  1.60588866e-01],\n       [-2.58979871e+00, -1.74611728e-01],\n       [ 3.07487884e-01, -1.31887146e+00],\n       [-1.10669179e+00, -1.75225371e+00],\n       [-6.05524589e-01, -1.94298038e+00],\n       [-8.98703769e-01, -9.04940034e-01],\n       [-4.49846635e+00, -8.82749915e-01],\n       [-2.93397799e+00,  2.73791065e-02],\n       [-2.10360821e+00,  1.19156767e+00],\n       [-2.14258208e+00,  8.87797815e-02],\n       [-2.47945603e+00, -1.94073927e+00],\n       [-1.32552574e+00, -1.62869550e-01],\n       [-1.95557887e+00, -1.15434826e+00],\n       [-2.40157020e+00, -1.59458341e+00],\n       [-2.29248878e+00, -3.32860296e-01],\n       [-1.27227224e+00, -1.21458428e+00],\n       [-2.93176055e-01, -1.79871509e+00],\n       [-2.00598883e+00, -9.05418042e-01],\n       [-1.18166311e+00, -5.37570242e-01],\n       [-1.61615645e+00, -4.70103580e-01],\n       [-1.42158879e+00, -5.51244626e-01],\n       [ 4.75973788e-01, -7.99905482e-01],\n       [-1.54948259e+00, -5.93363582e-01],\n       [-7.83947399e+00,  2.13973345e+00],\n       [-5.50747997e+00, -3.58139892e-02],\n       [-6.29200850e+00,  4.67175777e-01],\n       [-5.60545633e+00, -3.40738058e-01],\n       [-6.85055995e+00,  8.29825394e-01],\n       [-7.41816784e+00, -1.73117995e-01],\n       [-4.67799541e+00, -4.99095015e-01],\n       [-6.31692685e+00, -9.68980756e-01],\n       [-6.32773684e+00, -1.38328993e+00],\n       [-6.85281335e+00,  2.71758963e+00],\n       [-4.44072512e+00,  1.34723692e+00],\n       [-5.45009572e+00, -2.07736942e-01],\n       [-5.66033713e+00,  8.32713617e-01],\n       [-5.95823722e+00, -9.40175447e-02],\n       [-6.75926282e+00,  1.60023206e+00],\n       [-5.80704331e+00,  2.01019882e+00],\n       [-5.06601233e+00, -2.62733839e-02],\n       [-6.60881882e+00,  1.75163587e+00],\n       [-9.17147486e+00, -7.48255067e-01],\n       [-4.76453569e+00, -2.15573720e+00],\n       [-6.27283915e+00,  1.64948141e+00],\n       [-5.36071189e+00,  6.46120732e-01],\n       [-7.58119982e+00, -9.80722934e-01],\n       [-4.37150279e+00, -1.21297458e-01],\n       [-5.72317531e+00,  1.29327553e+00],\n       [-5.27915920e+00, -4.24582377e-02],\n       [-4.08087208e+00,  1.85936572e-01],\n       [-4.07703640e+00,  5.23238483e-01],\n       [-6.51910397e+00,  2.96976389e-01],\n       [-4.58371942e+00, -8.56815813e-01],\n       [-6.22824009e+00, -7.12719638e-01],\n       [-5.22048773e+00,  1.46819509e+00],\n       [-6.80015000e+00,  5.80895175e-01],\n       [-3.81515972e+00, -9.42985932e-01],\n       [-5.10748966e+00, -2.13059000e+00],\n       [-6.79671631e+00,  8.63090395e-01],\n       [-6.52449599e+00,  2.44503527e+00],\n       [-4.99550279e+00,  1.87768525e-01],\n       [-3.93985300e+00,  6.14020389e-01],\n       [-5.20383090e+00,  1.14476808e+00],\n       [-6.65308685e+00,  1.80531976e+00],\n       [-5.10555946e+00,  1.99218201e+00],\n       [-5.50747997e+00, -3.58139892e-02],\n       [-6.79601924e+00,  1.46068695e+00],\n       [-6.84735943e+00,  2.42895067e+00],\n       [-5.64500346e+00,  1.67771734e+00],\n       [-5.17956460e+00, -3.63475041e-01],\n       [-4.96774090e+00,  8.21140550e-01],\n       [-5.88614539e+00,  2.34509051e+00],\n       [-4.68315426e+00,  3.32033811e-01]])"
     },
     "execution_count": 232,
     "metadata": {},
     "output_type": "execute_result"
    }
   ],
   "source": [
    "iris_lda"
   ],
   "metadata": {
    "collapsed": false,
    "ExecuteTime": {
     "end_time": "2024-04-25T12:11:09.841489500Z",
     "start_time": "2024-04-25T12:11:09.787759300Z"
    }
   },
   "execution_count": 232
  },
  {
   "cell_type": "code",
   "execution_count": 233,
   "outputs": [],
   "source": [
    "from preprocessing import LDA\n",
    "\n",
    "l = LDA(iris_scaled, iris.target)\n",
    "l.fit(2)"
   ],
   "metadata": {
    "collapsed": false,
    "ExecuteTime": {
     "end_time": "2024-04-25T12:11:10.148470200Z",
     "start_time": "2024-04-25T12:11:10.110642500Z"
    }
   }
  },
  {
   "cell_type": "code",
   "outputs": [
    {
     "data": {
      "text/plain": "array([[ 1.78184932,  0.10475073],\n       [ 1.57560938, -0.27429294],\n       [ 1.65542996, -0.09253433],\n       [ 1.50587922, -0.2338358 ],\n       [ 1.7974336 ,  0.17938292],\n       [ 1.70231324,  0.50967321],\n       [ 1.59415988,  0.12407305],\n       [ 1.68095059, -0.00405649],\n       [ 1.45003779, -0.35396749],\n       [ 1.62299072, -0.33031148],\n       [ 1.85602196,  0.22572282],\n       [ 1.59563615, -0.03823153],\n       [ 1.61939601, -0.3741302 ],\n       [ 1.67369595, -0.28084942],\n       [ 2.17704936,  0.55298488],\n       [ 2.02418842,  0.95454578],\n       [ 1.89692128,  0.63965021],\n       [ 1.71973147,  0.2037476 ],\n       [ 1.78550924,  0.33772495],\n       [ 1.77282596,  0.39767108],\n       [ 1.65697144, -0.06568341],\n       [ 1.67679261,  0.42119537],\n       [ 1.91871677,  0.30599834],\n       [ 1.38170874,  0.15331343],\n       [ 1.44968013, -0.13571428],\n       [ 1.49663658, -0.33844105],\n       [ 1.50806288,  0.161443  ],\n       [ 1.75152853,  0.07309688],\n       [ 1.76626503,  0.03011855],\n       [ 1.50947393, -0.19001708],\n       [ 1.49388965, -0.26464926],\n       [ 1.63003976,  0.19729883],\n       [ 2.01713938,  0.42693547],\n       [ 2.09258269,  0.63642035],\n       [ 1.56087287, -0.23131462],\n       [ 1.75907561, -0.05751889],\n       [ 1.90382619,  0.14060656],\n       [ 1.84122024,  0.07954565],\n       [ 1.5326053 , -0.24600066],\n       [ 1.69928181, -0.0032161 ],\n       [ 1.75005226,  0.23540146],\n       [ 1.25141016, -0.67447144],\n       [ 1.60043631, -0.09505551],\n       [ 1.41774268,  0.43490931],\n       [ 1.51610008,  0.36669095],\n       [ 1.49516031, -0.17613647],\n       [ 1.7862918 ,  0.26617996],\n       [ 1.58844673, -0.12586897],\n       [ 1.83769074,  0.22488243],\n       [ 1.6956871 , -0.04703482],\n       [-0.32253455,  0.00995265],\n       [-0.39733568,  0.16889565],\n       [-0.53420314, -0.03235196],\n       [-0.5000604 , -0.55344358],\n       [-0.56331848, -0.16464851],\n       [-0.5370805 , -0.33687116],\n       [-0.54117327,  0.2775362 ],\n       [-0.04921459, -0.55254422],\n       [-0.38683606, -0.28632928],\n       [-0.43285789, -0.12258333],\n       [-0.26384939, -0.91858263],\n       [-0.41086675,  0.11123128],\n       [-0.25596627, -0.92170479],\n       [-0.589262  , -0.22402863],\n       [-0.08362815,  0.03020928],\n       [-0.26548768,  0.02944164],\n       [-0.61181642,  0.01122734],\n       [-0.1717032 , -0.57851694],\n       [-0.77315313, -0.58751091],\n       [-0.24101047, -0.56715751],\n       [-0.82130135,  0.36420153],\n       [-0.2204956 , -0.17103833],\n       [-0.84768344, -0.49022979],\n       [-0.4989418 , -0.49749495],\n       [-0.27754247, -0.19052732],\n       [-0.31773439, -0.04687133],\n       [-0.543511  , -0.3261127 ],\n       [-0.77766878,  0.05599416],\n       [-0.57240705, -0.06088366],\n       [ 0.06796213, -0.45986441],\n       [-0.24460518, -0.61097624],\n       [-0.13383532, -0.67747885],\n       [-0.19863489, -0.3155347 ],\n       [-0.99426796, -0.30779745],\n       [-0.64847885,  0.00954655],\n       [-0.4649474 ,  0.4154761 ],\n       [-0.47356155,  0.03095576],\n       [-0.5480187 , -0.67669742],\n       [-0.29297269, -0.05678939],\n       [-0.4322294 , -0.40249842],\n       [-0.53080408, -0.55599972],\n       [-0.50669449, -0.11606181],\n       [-0.2812024 , -0.42350153],\n       [-0.06479887, -0.6271764 ],\n       [-0.4433712 , -0.31570138],\n       [-0.26117563, -0.18744012],\n       [-0.35720898, -0.16391583],\n       [-0.3142049 , -0.19220811],\n       [ 0.10520152, -0.27891123],\n       [-0.34247247, -0.20689415],\n       [-1.73271003,  0.74608276],\n       [-1.21728394, -0.01248763],\n       [-1.39068339,  0.16289496],\n       [-1.23893905, -0.11880863],\n       [-1.51413653,  0.28934371],\n       [-1.63959136, -0.06036282],\n       [-1.03394814, -0.17402457],\n       [-1.39619094, -0.33786444],\n       [-1.3985802 , -0.48232586],\n       [-1.51463459,  0.94756979],\n       [-0.98150577,  0.46975488],\n       [-1.20460066, -0.07243377],\n       [-1.25106901,  0.29035078],\n       [-1.316912  , -0.03278206],\n       [-1.4939577 ,  0.55796929],\n       [-1.28349456,  0.70091659],\n       [-1.1197091 , -0.00916101],\n       [-1.460706  ,  0.61076081],\n       [-2.02711388, -0.26090175],\n       [-1.0530756 , -0.75166295],\n       [-1.38644651,  0.57514156],\n       [-1.18484471,  0.22528953],\n       [-1.67562531, -0.3419587 ],\n       [-0.96620599, -0.04229403],\n       [-1.26495774,  0.45093962],\n       [-1.16681963, -0.01480435],\n       [-0.9019697 ,  0.06483241],\n       [-0.90112192,  0.18244292],\n       [-1.44087688,  0.1035498 ],\n       [-1.01311091, -0.29875474],\n       [-1.37658906, -0.24851125],\n       [-1.15385184,  0.51193061],\n       [-1.50299474,  0.20254667],\n       [-0.84324095, -0.32880056],\n       [-1.12887658, -0.74289462],\n       [-1.50223581,  0.30094256],\n       [-1.44206865,  0.85253547],\n       [-1.10412482,  0.06547117],\n       [-0.87080113,  0.21409677],\n       [-1.15017028,  0.399158  ],\n       [-1.47049028,  0.62947932],\n       [-1.12844996,  0.69463449],\n       [-1.21728394, -0.01248763],\n       [-1.50208174,  0.50931267],\n       [-1.51342914,  0.84692709],\n       [-1.2476799 ,  0.58498687],\n       [-1.14480685, -0.12673656],\n       [-1.09798878,  0.28631548],\n       [-1.300978  ,  0.81768671],\n       [-1.03508837,  0.11577363]])"
     },
     "execution_count": 234,
     "metadata": {},
     "output_type": "execute_result"
    }
   ],
   "source": [
    "result = l()\n",
    "result"
   ],
   "metadata": {
    "collapsed": false,
    "ExecuteTime": {
     "end_time": "2024-04-25T12:11:10.613424800Z",
     "start_time": "2024-04-25T12:11:10.564684300Z"
    }
   },
   "execution_count": 234
  },
  {
   "cell_type": "code",
   "outputs": [
    {
     "data": {
      "text/plain": "<Figure size 640x480 with 1 Axes>",
      "image/png": "[encoded data removed]"
     },
     "metadata": {},
     "output_type": "display_data"
    }
   ],
   "source": [
    "lda_columns=['lda_component_1','lda_component_2']\n",
    "irisDF_lda = pd.DataFrame(iris_lda, columns=lda_columns)\n",
    "irisDF_lda['target']=iris.target\n",
    "\n",
    "markers=['^', 's', 'o']\n",
    "\n",
    "for i, marker in enumerate(markers):\n",
    "    x_axis_data = irisDF_lda[irisDF_lda['target']==i]['lda_component_1']\n",
    "    y_axis_data = irisDF_lda[irisDF_lda['target']==i]['lda_component_2']\n",
    "\n",
    "    plt.scatter(x_axis_data, y_axis_data, marker=marker,label=iris.target_names[i])\n",
    "\n",
    "plt.legend(loc='upper right')\n",
    "plt.xlabel('lda_component_1')\n",
    "plt.ylabel('lda_component_2')\n",
    "plt.show()"
   ],
   "metadata": {
    "collapsed": false,
    "ExecuteTime": {
     "end_time": "2024-04-25T12:11:18.080861400Z",
     "start_time": "2024-04-25T12:11:17.968862400Z"
    }
   },
   "execution_count": 236
  },
  {
   "cell_type": "code",
   "outputs": [
    {
     "data": {
      "text/plain": "<Figure size 640x480 with 1 Axes>",
      "image/png": "[encoded data removed]"
     },
     "metadata": {},
     "output_type": "display_data"
    }
   ],
   "source": [
    "lda_columns=['lda_component_1','lda_component_2']\n",
    "irisDF_lda = pd.DataFrame(result, columns=lda_columns)\n",
    "irisDF_lda['target']=iris.target\n",
    "\n",
    "markers=['^', 's', 'o']\n",
    "\n",
    "for i, marker in enumerate(markers):\n",
    "    x_axis_data = irisDF_lda[irisDF_lda['target']==i]['lda_component_1']\n",
    "    y_axis_data = irisDF_lda[irisDF_lda['target']==i]['lda_component_2']\n",
    "\n",
    "    plt.scatter(x_axis_data, y_axis_data, marker=marker,label=iris.target_names[i])\n",
    "\n",
    "plt.legend(loc='upper right')\n",
    "plt.xlabel('lda_component_1')\n",
    "plt.ylabel('lda_component_2')\n",
    "plt.show()"
   ],
   "metadata": {
    "collapsed": false,
    "ExecuteTime": {
     "end_time": "2024-04-25T12:11:18.778784800Z",
     "start_time": "2024-04-25T12:11:18.664814500Z"
    }
   },
   "execution_count": 237
  },
  {
   "cell_type": "code",
   "outputs": [
    {
     "name": "stdout",
     "output_type": "stream",
     "text": [
      "[array([-1.01457897,  0.85326268, -1.30498732, -1.25489349]), array([ 0.11228223, -0.66143204,  0.28532388,  0.1667341 ]), array([ 0.90229674, -0.19183064,  1.01966344,  1.08815939])]\n"
     ]
    },
    {
     "data": {
      "text/plain": "array([[-1.78184932,  0.10475073],\n       [-1.57560938, -0.27429294],\n       [-1.65542996, -0.09253433],\n       [-1.50587922, -0.2338358 ],\n       [-1.7974336 ,  0.17938292],\n       [-1.70231324,  0.50967321],\n       [-1.59415988,  0.12407305],\n       [-1.68095059, -0.00405649],\n       [-1.45003779, -0.35396749],\n       [-1.62299072, -0.33031148],\n       [-1.85602196,  0.22572282],\n       [-1.59563615, -0.03823153],\n       [-1.61939601, -0.3741302 ],\n       [-1.67369595, -0.28084942],\n       [-2.17704936,  0.55298488],\n       [-2.02418842,  0.95454578],\n       [-1.89692128,  0.63965021],\n       [-1.71973147,  0.2037476 ],\n       [-1.78550924,  0.33772495],\n       [-1.77282596,  0.39767108],\n       [-1.65697144, -0.06568341],\n       [-1.67679261,  0.42119537],\n       [-1.91871677,  0.30599834],\n       [-1.38170874,  0.15331343],\n       [-1.44968013, -0.13571428],\n       [-1.49663658, -0.33844105],\n       [-1.50806288,  0.161443  ],\n       [-1.75152853,  0.07309688],\n       [-1.76626503,  0.03011855],\n       [-1.50947393, -0.19001708],\n       [-1.49388965, -0.26464926],\n       [-1.63003976,  0.19729883],\n       [-2.01713938,  0.42693547],\n       [-2.09258269,  0.63642035],\n       [-1.56087287, -0.23131462],\n       [-1.75907561, -0.05751889],\n       [-1.90382619,  0.14060656],\n       [-1.84122024,  0.07954565],\n       [-1.5326053 , -0.24600066],\n       [-1.69928181, -0.0032161 ],\n       [-1.75005226,  0.23540146],\n       [-1.25141016, -0.67447144],\n       [-1.60043631, -0.09505551],\n       [-1.41774268,  0.43490931],\n       [-1.51610008,  0.36669095],\n       [-1.49516031, -0.17613647],\n       [-1.7862918 ,  0.26617996],\n       [-1.58844673, -0.12586897],\n       [-1.83769074,  0.22488243],\n       [-1.6956871 , -0.04703482],\n       [ 0.32253455,  0.00995265],\n       [ 0.39733568,  0.16889565],\n       [ 0.53420314, -0.03235196],\n       [ 0.5000604 , -0.55344358],\n       [ 0.56331848, -0.16464851],\n       [ 0.5370805 , -0.33687116],\n       [ 0.54117327,  0.2775362 ],\n       [ 0.04921459, -0.55254422],\n       [ 0.38683606, -0.28632928],\n       [ 0.43285789, -0.12258333],\n       [ 0.26384939, -0.91858263],\n       [ 0.41086675,  0.11123128],\n       [ 0.25596627, -0.92170479],\n       [ 0.589262  , -0.22402863],\n       [ 0.08362815,  0.03020928],\n       [ 0.26548768,  0.02944164],\n       [ 0.61181642,  0.01122734],\n       [ 0.1717032 , -0.57851694],\n       [ 0.77315313, -0.58751091],\n       [ 0.24101047, -0.56715751],\n       [ 0.82130135,  0.36420153],\n       [ 0.2204956 , -0.17103833],\n       [ 0.84768344, -0.49022979],\n       [ 0.4989418 , -0.49749495],\n       [ 0.27754247, -0.19052732],\n       [ 0.31773439, -0.04687133],\n       [ 0.543511  , -0.3261127 ],\n       [ 0.77766878,  0.05599416],\n       [ 0.57240705, -0.06088366],\n       [-0.06796213, -0.45986441],\n       [ 0.24460518, -0.61097624],\n       [ 0.13383532, -0.67747885],\n       [ 0.19863489, -0.3155347 ],\n       [ 0.99426796, -0.30779745],\n       [ 0.64847885,  0.00954655],\n       [ 0.4649474 ,  0.4154761 ],\n       [ 0.47356155,  0.03095576],\n       [ 0.5480187 , -0.67669742],\n       [ 0.29297269, -0.05678939],\n       [ 0.4322294 , -0.40249842],\n       [ 0.53080408, -0.55599972],\n       [ 0.50669449, -0.11606181],\n       [ 0.2812024 , -0.42350153],\n       [ 0.06479887, -0.6271764 ],\n       [ 0.4433712 , -0.31570138],\n       [ 0.26117563, -0.18744012],\n       [ 0.35720898, -0.16391583],\n       [ 0.3142049 , -0.19220811],\n       [-0.10520152, -0.27891123],\n       [ 0.34247247, -0.20689415],\n       [ 1.73271003,  0.74608276],\n       [ 1.21728394, -0.01248763],\n       [ 1.39068339,  0.16289496],\n       [ 1.23893905, -0.11880863],\n       [ 1.51413653,  0.28934371],\n       [ 1.63959136, -0.06036282],\n       [ 1.03394814, -0.17402457],\n       [ 1.39619094, -0.33786444],\n       [ 1.3985802 , -0.48232586],\n       [ 1.51463459,  0.94756979],\n       [ 0.98150577,  0.46975488],\n       [ 1.20460066, -0.07243377],\n       [ 1.25106901,  0.29035078],\n       [ 1.316912  , -0.03278206],\n       [ 1.4939577 ,  0.55796929],\n       [ 1.28349456,  0.70091659],\n       [ 1.1197091 , -0.00916101],\n       [ 1.460706  ,  0.61076081],\n       [ 2.02711388, -0.26090175],\n       [ 1.0530756 , -0.75166295],\n       [ 1.38644651,  0.57514156],\n       [ 1.18484471,  0.22528953],\n       [ 1.67562531, -0.3419587 ],\n       [ 0.96620599, -0.04229403],\n       [ 1.26495774,  0.45093962],\n       [ 1.16681963, -0.01480435],\n       [ 0.9019697 ,  0.06483241],\n       [ 0.90112192,  0.18244292],\n       [ 1.44087688,  0.1035498 ],\n       [ 1.01311091, -0.29875474],\n       [ 1.37658906, -0.24851125],\n       [ 1.15385184,  0.51193061],\n       [ 1.50299474,  0.20254667],\n       [ 0.84324095, -0.32880056],\n       [ 1.12887658, -0.74289462],\n       [ 1.50223581,  0.30094256],\n       [ 1.44206865,  0.85253547],\n       [ 1.10412482,  0.06547117],\n       [ 0.87080113,  0.21409677],\n       [ 1.15017028,  0.399158  ],\n       [ 1.47049028,  0.62947932],\n       [ 1.12844996,  0.69463449],\n       [ 1.21728394, -0.01248763],\n       [ 1.50208174,  0.50931267],\n       [ 1.51342914,  0.84692709],\n       [ 1.2476799 ,  0.58498687],\n       [ 1.14480685, -0.12673656],\n       [ 1.09798878,  0.28631548],\n       [ 1.300978  ,  0.81768671],\n       [ 1.03508837,  0.11577363]])"
     },
     "execution_count": 238,
     "metadata": {},
     "output_type": "execute_result"
    }
   ],
   "source": [
    "import numpy as np\n",
    "class CustomLDA:\n",
    "    def fit(self, X, y):\n",
    "        self.S_W = None\n",
    "        self.S_B = None\n",
    "        # 클래스별 샘플 평균 계산\n",
    "        unique_classes = np.unique(y)\n",
    "        mean_vectors = [np.mean(X[y == c], axis=0) for c in unique_classes]\n",
    "        print(mean_vectors)\n",
    "        # 클래스 간 산포 행렬과 클래스 내 산포 행렬 계산\n",
    "        S_W = np.zeros((X.shape[1], X.shape[1]))\n",
    "        S_B = np.zeros((X.shape[1], X.shape[1]))\n",
    "        overall_mean = np.mean(X, axis=0)\n",
    "        for c, mean_vec in zip(unique_classes, mean_vectors):\n",
    "            class_scatter = np.dot((X[y == c] - mean_vec).T, X[y == c] - mean_vec) / 50\n",
    "            S_W += class_scatter\n",
    "            n = X[y == c].shape[0]\n",
    "            mean_diff = (mean_vec - overall_mean).reshape(-1, 1)\n",
    "            S_B += n * np.dot(mean_diff, mean_diff.T)\n",
    "        self.S_W = S_W\n",
    "        self.S_B = S_B\n",
    "        # 고유값 분해\n",
    "        eigen_values, eigen_vectors = np.linalg.eig(np.dot(np.linalg.inv(S_W), S_B))\n",
    "\n",
    "        # 고유값과 고유벡터를 내림차순으로 정렬\n",
    "        idx = eigen_values.argsort()[::-1]\n",
    "        eigen_values = eigen_values[idx]\n",
    "        eigen_vectors = eigen_vectors[:, idx]\n",
    "\n",
    "        # 클래스 간 분산과 클래스 내 분산의 고유벡터 선택\n",
    "        num_components = min(len(unique_classes) - 1, 40)  # 최대 40개의 주성분 선택\n",
    "        self.w = eigen_vectors[:, :num_components].real\n",
    "\n",
    "\n",
    "\n",
    "    def transform(self, X):\n",
    "        return np.dot(X, self.w)\n",
    "\n",
    "# 사용 예시\n",
    "# CustomLDA 모델 초기화\n",
    "custom_lda = CustomLDA()\n",
    "# 데이터에 모델 적용\n",
    "# y_combined = np.hstack((np.zeros(len(x1)), np.ones(len(x2)), 2 * np.ones(len(x3))))  # 클래스 레이블 생성\n",
    "\n",
    "# LDA 모델 훈련\n",
    "custom_lda.fit(iris_scaled, iris.target)\n",
    "\n",
    "# 데이터를 저차원으로 투영\n",
    "x_lda_custom = custom_lda.transform(iris_scaled)[:,:2]\n",
    "x_lda_custom"
   ],
   "metadata": {
    "collapsed": false,
    "ExecuteTime": {
     "end_time": "2024-04-25T12:11:46.100882Z",
     "start_time": "2024-04-25T12:11:46.059584200Z"
    }
   },
   "execution_count": 238
  },
  {
   "cell_type": "code",
   "execution_count": 28,
   "outputs": [],
   "source": [
    "iris = load_iris()\n",
    "\n",
    "iris_scaled = StandardScaler().fit_transform(iris.data)\n",
    "\n",
    "lda = LinearDiscriminantAnalysis(n_components=2)\n",
    "\n",
    "lda.fit(iris_scaled, iris.target)\n",
    "iris_lda = lda.transform(iris_scaled)\n"
   ],
   "metadata": {
    "collapsed": false,
    "ExecuteTime": {
     "end_time": "2024-04-25T11:15:41.730521800Z",
     "start_time": "2024-04-25T11:15:41.679439300Z"
    }
   }
  },
  {
   "cell_type": "code",
   "execution_count": 29,
   "outputs": [
    {
     "data": {
      "text/plain": "<Figure size 640x480 with 1 Axes>",
      "image/png": "[encoded data removed]"
     },
     "metadata": {},
     "output_type": "display_data"
    }
   ],
   "source": [
    "lda_columns=['lda_component_1','lda_component_2']\n",
    "irisDF_lda = pd.DataFrame(iris_lda, columns=lda_columns)\n",
    "irisDF_lda['target']=iris.target\n",
    "\n",
    "markers=['^', 's', 'o']\n",
    "\n",
    "for i, marker in enumerate(markers):\n",
    "    x_axis_data = irisDF_lda[irisDF_lda['target']==i]['lda_component_1']\n",
    "    y_axis_data = irisDF_lda[irisDF_lda['target']==i]['lda_component_2']\n",
    "\n",
    "    plt.scatter(x_axis_data, y_axis_data, marker=marker,label=iris.target_names[i])\n",
    "\n",
    "plt.legend(loc='upper right')\n",
    "plt.xlabel('lda_component_1')\n",
    "plt.ylabel('lda_component_2')\n",
    "plt.show()"
   ],
   "metadata": {
    "collapsed": false,
    "ExecuteTime": {
     "end_time": "2024-04-25T11:15:41.916705800Z",
     "start_time": "2024-04-25T11:15:41.726477400Z"
    }
   }
  },
  {
   "cell_type": "code",
   "execution_count": 41,
   "outputs": [
    {
     "ename": "TypeError",
     "evalue": "'int' object is not subscriptable",
     "output_type": "error",
     "traceback": [
      "\u001B[1;31m---------------------------------------------------------------------------\u001B[0m",
      "\u001B[1;31mTypeError\u001B[0m                                 Traceback (most recent call last)",
      "Cell \u001B[1;32mIn[41], line 4\u001B[0m\n\u001B[0;32m      1\u001B[0m markers\u001B[38;5;241m=\u001B[39m[\u001B[38;5;124m'\u001B[39m\u001B[38;5;124m^\u001B[39m\u001B[38;5;124m'\u001B[39m, \u001B[38;5;124m'\u001B[39m\u001B[38;5;124ms\u001B[39m\u001B[38;5;124m'\u001B[39m, \u001B[38;5;124m'\u001B[39m\u001B[38;5;124mo\u001B[39m\u001B[38;5;124m'\u001B[39m]\n\u001B[0;32m      3\u001B[0m \u001B[38;5;28;01mfor\u001B[39;00m i, marker \u001B[38;5;129;01min\u001B[39;00m \u001B[38;5;28menumerate\u001B[39m(markers):\n\u001B[1;32m----> 4\u001B[0m     x \u001B[38;5;241m=\u001B[39m \u001B[43mresult\u001B[49m\u001B[43m[\u001B[49m\u001B[43mi\u001B[49m\u001B[43m,\u001B[49m\u001B[43m \u001B[49m\u001B[43m:\u001B[49m\u001B[43m,\u001B[49m\u001B[43m \u001B[49m\u001B[38;5;241;43m0\u001B[39;49m\u001B[43m]\u001B[49m\n\u001B[0;32m      5\u001B[0m     y \u001B[38;5;241m=\u001B[39m \u001B[38;5;241m-\u001B[39mresult[i, :, \u001B[38;5;241m1\u001B[39m]\n\u001B[0;32m      6\u001B[0m     plt\u001B[38;5;241m.\u001B[39mscatter(x,y, marker\u001B[38;5;241m=\u001B[39mmarker,label\u001B[38;5;241m=\u001B[39miris\u001B[38;5;241m.\u001B[39mtarget_names[i])\n",
      "\u001B[1;31mTypeError\u001B[0m: 'int' object is not subscriptable"
     ]
    }
   ],
   "source": [
    "markers=['^', 's', 'o']\n",
    "\n",
    "for i, marker in enumerate(markers):\n",
    "    x = result[i, :, 0]\n",
    "    y = -result[i, :, 1]\n",
    "    plt.scatter(x,y, marker=marker,label=iris.target_names[i])\n",
    "#\n",
    "\n",
    "plt.legend(loc='upper right')\n",
    "plt.xlabel('lda_component_1')\n",
    "plt.ylabel('lda_component_2')\n",
    "plt.show()"
   ],
   "metadata": {
    "collapsed": false,
    "ExecuteTime": {
     "end_time": "2024-04-25T11:16:58.866841600Z",
     "start_time": "2024-04-25T11:16:58.817246400Z"
    }
   }
  },
  {
   "cell_type": "code",
   "outputs": [
    {
     "name": "stdout",
     "output_type": "stream",
     "text": [
      "[[0.28291018 0.10340003 0.17639778 0.03982352]\n",
      " [0.10340003 0.12026006 0.06758962 0.03850381]\n",
      " [0.17639778 0.06758962 0.18619544 0.04669633]\n",
      " [0.03982352 0.03850381 0.04669633 0.04590768]]\n",
      "[[ 22.02112175  14.81249745  11.62287233]\n",
      " [ 25.23391875   5.40496126   1.03322033]\n",
      " [-18.08922546   5.26542079  13.53564693]\n",
      " [-16.53013517   6.05733051  18.84844415]]\n",
      "Accuracy: 1.0\n"
     ]
    }
   ],
   "source": [
    "import numpy as np\n",
    "\n",
    "class MultiClassLDA:\n",
    "    def __init__(self):\n",
    "        self.class_means = None\n",
    "        self.pooled_covariance = None\n",
    "        self.coef = None\n",
    "        self.intercept = None\n",
    "\n",
    "    def fit(self, X, y):\n",
    "        # 클래스별 평균 계산\n",
    "        self.class_means = []\n",
    "        for c in np.unique(y):\n",
    "            self.class_means.append(np.mean(X[y == c], axis=0))\n",
    "\n",
    "        # 클래스별 샘플 개수 계산\n",
    "        class_counts = [np.sum(y == c) for c in np.unique(y)]\n",
    "\n",
    "        # 클래스별 공분산 행렬 계산\n",
    "        cov_matrices = []\n",
    "        for c in np.unique(y):\n",
    "            cov_matrices.append(np.cov(X[y == c], rowvar=False))\n",
    "\n",
    "        # 클래스 내 공분산 행렬의 평균 계산\n",
    "        self.pooled_covariance = np.mean(cov_matrices, axis=0)\n",
    "        print(self.pooled_covariance)\n",
    "        # 클래스 간 공분산 행렬의 역행렬 계산\n",
    "        cov_inv = np.linalg.inv(self.pooled_covariance)\n",
    "\n",
    "        # LDA 계수 계산\n",
    "        self.coef = np.dot(cov_inv, np.array(self.class_means).T)\n",
    "        print(self.coef)\n",
    "        self.intercept = -0.5 * np.sum(np.dot(self.class_means, cov_inv) * self.class_means, axis=1) + np.log(class_counts)\n",
    "\n",
    "    def predict(self, X):\n",
    "        scores = np.dot(X, self.coef) + self.intercept\n",
    "        return np.argmax(scores, axis=1)\n",
    "\n",
    "# Iris 데이터셋 예시\n",
    "from sklearn.datasets import load_iris\n",
    "from sklearn.model_selection import train_test_split\n",
    "from sklearn.metrics import accuracy_score\n",
    "\n",
    "# 데이터 불러오기\n",
    "iris = load_iris()\n",
    "X = iris.data\n",
    "y = iris.target\n",
    "\n",
    "# 데이터 분할\n",
    "X_train, X_test, y_train, y_test = train_test_split(X, y, test_size=0.2, random_state=42)\n",
    "\n",
    "# 모델 생성 및 훈련\n",
    "lda = MultiClassLDA()\n",
    "lda.fit(X_train, y_train)\n",
    "\n",
    "# 예측\n",
    "y_pred = lda.predict(X_test)\n",
    "\n",
    "# 정확도 계산\n",
    "accuracy = accuracy_score(y_test, y_pred)\n",
    "print(\"Accuracy:\", accuracy)"
   ],
   "metadata": {
    "collapsed": false,
    "ExecuteTime": {
     "end_time": "2024-04-25T11:15:46.595803500Z",
     "start_time": "2024-04-25T11:15:46.552762700Z"
    }
   },
   "execution_count": 33
  },
  {
   "cell_type": "code",
   "outputs": [],
   "source": [
    "import numpy as np\n",
    "\n",
    "class LDA2:\n",
    "\n",
    "    def __init__(self, n_components):\n",
    "        self.n_components = n_components\n",
    "        self.linear_discriminants = None\n",
    "\n",
    "    def fit(self, X, y):\n",
    "        n_features = X.shape[1]\n",
    "        class_labels = np.unique(y)\n",
    "\n",
    "        # Within class scatter matrix:\n",
    "        # SW = sum((X_c - mean_X_c)^2 )\n",
    "\n",
    "        # Between class scatter:\n",
    "        # SB = sum( n_c * (mean_X_c - mean_overall)^2 )\n",
    "\n",
    "        mean_overall = np.mean(X, axis=0)\n",
    "        SW = np.zeros((n_features, n_features))\n",
    "        SB = np.zeros((n_features, n_features))\n",
    "        for c in class_labels:\n",
    "            X_c = X[y == c]\n",
    "            mean_c = np.mean(X_c, axis=0)\n",
    "            # (4, n_c) * (n_c, 4) = (4,4) -> transpose\n",
    "            SW += (X_c - mean_c).T.dot((X_c - mean_c))\n",
    "\n",
    "            # (4, 1) * (1, 4) = (4,4) -> reshape\n",
    "            n_c = X_c.shape[0]\n",
    "            mean_diff = (mean_c - mean_overall).reshape(n_features, 1)\n",
    "            SB += n_c * (mean_diff).dot(mean_diff.T)\n",
    "        # Determine SW^-1 * SB\n",
    "        A = np.linalg.inv(SW).dot(SB)\n",
    "\n",
    "        # Get eigenvalues and eigenvectors of SW^-1 * SB\n",
    "        eigenvalues, eigenvectors = np.linalg.eig(A)\n",
    "        # -> eigenvector v = [:,i] column vector, transpose for easier calculations\n",
    "        # sort eigenvalues high to low\n",
    "        eigenvectors = eigenvectors.T\n",
    "        idxs = np.argsort(abs(eigenvalues))[::-1]\n",
    "        eigenvalues = eigenvalues[idxs]\n",
    "        eigenvectors = eigenvectors[idxs]\n",
    "        # store first n eigenvectors\n",
    "        self.linear_discriminants = eigenvectors[0:self.n_components]\n",
    "\n",
    "    def transform(self, X):\n",
    "        # project data\n",
    "        return np.dot(X, self.linear_discriminants.T)"
   ],
   "metadata": {
    "collapsed": false,
    "ExecuteTime": {
     "end_time": "2024-04-25T12:04:55.308846800Z",
     "start_time": "2024-04-25T12:04:55.260355600Z"
    }
   },
   "execution_count": 195
  },
  {
   "cell_type": "code",
   "outputs": [],
   "source": [],
   "metadata": {
    "collapsed": false
   }
  },
  {
   "cell_type": "code",
   "outputs": [],
   "source": [
    "l2  = LDA2(1)"
   ],
   "metadata": {
    "collapsed": false,
    "ExecuteTime": {
     "end_time": "2024-04-25T12:05:07.085429400Z",
     "start_time": "2024-04-25T12:05:07.037819Z"
    }
   },
   "execution_count": 199
  },
  {
   "cell_type": "code",
   "outputs": [
    {
     "data": {
      "text/plain": "array([[-1.80913983],\n       [-1.96379987],\n       [ 0.78282367],\n       [-1.40413244],\n       [-1.41213695],\n       [ 1.80537567],\n       [ 0.91535475],\n       [-1.58346087],\n       [-1.65052631],\n       [-1.92435452],\n       [ 1.86504692],\n       [ 0.96210989],\n       [ 1.02207357],\n       [-1.79378332],\n       [-1.71312699],\n       [ 0.66502733],\n       [ 1.46873876],\n       [ 1.73759091],\n       [ 0.84765673],\n       [ 2.15658531],\n       [ 0.88128774],\n       [ 2.39366498],\n       [ 1.15728386],\n       [-1.62311425],\n       [ 2.46140521],\n       [ 0.70398366],\n       [-1.59570218],\n       [-1.59860935],\n       [-1.341346  ],\n       [ 0.82634232],\n       [ 1.5906084 ],\n       [-1.2290408 ],\n       [-1.25706318],\n       [-1.16330266],\n       [ 0.99224336],\n       [-1.51862781],\n       [ 0.7710069 ],\n       [ 2.12849613],\n       [-1.39119407],\n       [ 0.84609913],\n       [ 1.98179694],\n       [-2.02081418],\n       [ 1.45000832],\n       [ 1.86504692],\n       [ 0.8388116 ],\n       [ 1.19470485],\n       [ 1.89907172],\n       [ 1.07871636],\n       [-1.56032781],\n       [ 0.57124688],\n       [ 1.86951168],\n       [-1.51215862],\n       [-1.58276382],\n       [ 0.78754949],\n       [ 1.37160432],\n       [-1.34283912],\n       [ 2.13971573],\n       [-1.49991731],\n       [-1.23104289],\n       [ 1.3764737 ],\n       [ 0.3493579 ],\n       [ 2.03543499],\n       [ 1.63515109],\n       [ 1.826066  ],\n       [ 2.21145164],\n       [ 0.98647123],\n       [-1.21540539],\n       [-1.48206736],\n       [ 1.74324175],\n       [ 1.83360376],\n       [-1.28670763],\n       [-1.55895597],\n       [-1.31989183],\n       [ 1.4903787 ],\n       [ 2.06124725],\n       [-1.41928092],\n       [ 1.90134631],\n       [ 2.4049836 ],\n       [-1.46826845],\n       [ 1.16242341],\n       [ 1.13949838],\n       [ 1.50483245],\n       [ 0.85566124],\n       [ 1.89553197],\n       [-1.64475418],\n       [ 1.77814937],\n       [ 0.92606073],\n       [ 1.7182279 ],\n       [ 0.41863346],\n       [ 0.956152  ],\n       [ 1.05793697],\n       [-0.95158611],\n       [ 0.94634877],\n       [ 1.1096459 ],\n       [-1.69441649],\n       [ 0.7955118 ],\n       [ 2.12835258],\n       [ 1.89841688],\n       [-1.52867895],\n       [ 0.54383481],\n       [ 2.15504998],\n       [ 1.68080457],\n       [-1.69597409],\n       [ 2.12477295],\n       [-1.35508044],\n       [ 1.10138033],\n       [ 2.10319516],\n       [ 1.90691041],\n       [ 0.86904642],\n       [ 1.76500298],\n       [ 1.16248788],\n       [ 0.80867813],\n       [ 1.80377587],\n       [ 1.64381046],\n       [-1.45803155],\n       [ 0.73584056],\n       [ 1.64718671],\n       [-2.1014283 ],\n       [ 0.8200589 ],\n       [ 2.07867033]])"
     },
     "execution_count": 208,
     "metadata": {},
     "output_type": "execute_result"
    }
   ],
   "source": [
    "l2.fit(X_train, y_train)\n",
    "l2.transform(X_train)"
   ],
   "metadata": {
    "collapsed": false,
    "ExecuteTime": {
     "end_time": "2024-04-25T12:07:00.449465300Z",
     "start_time": "2024-04-25T12:07:00.405096300Z"
    }
   },
   "execution_count": 208
  },
  {
   "cell_type": "code",
   "outputs": [],
   "source": [
    "l = LDA(X_train, y_train)\n",
    "l.fit()"
   ],
   "metadata": {
    "collapsed": false,
    "ExecuteTime": {
     "end_time": "2024-04-25T12:06:31.547773100Z",
     "start_time": "2024-04-25T12:06:31.510999400Z"
    }
   },
   "execution_count": 204
  }
 ],
 "metadata": {
  "kernelspec": {
   "display_name": "Python 3",
   "language": "python",
   "name": "python3"
  },
  "language_info": {
   "codemirror_mode": {
    "name": "ipython",
    "version": 2
   },
   "file_extension": ".py",
   "mimetype": "text/x-python",
   "name": "python",
   "nbconvert_exporter": "python",
   "pygments_lexer": "ipython2",
   "version": "2.7.6"
  }
 },
 "nbformat": 4,
 "nbformat_minor": 0
}
