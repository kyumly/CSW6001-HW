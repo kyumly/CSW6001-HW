{
 "cells": [
  {
   "cell_type": "code",
   "execution_count": 28,
   "metadata": {
    "ExecuteTime": {
     "end_time": "2024-04-24T06:03:18.696156700Z",
     "start_time": "2024-04-24T06:03:18.683183300Z"
    }
   },
   "outputs": [],
   "source": [
    "import numpy as np"
   ]
  },
  {
   "cell_type": "code",
   "execution_count": 168,
   "metadata": {
    "ExecuteTime": {
     "end_time": "2024-04-24T08:03:24.898899800Z",
     "start_time": "2024-04-24T08:03:24.886549600Z"
    }
   },
   "outputs": [],
   "source": [
    "data_1 = [\n",
    "    [4,1],\n",
    "    [2,4],\n",
    "    [2,3],\n",
    "    [3,6],\n",
    "    [4,4],\n",
    "]\n",
    "\n",
    "\n",
    "data_2 = [\n",
    "    [9,10],\n",
    "    [6,8],\n",
    "    [9,5],\n",
    "    [8,7],\n",
    "    [10,8],\n",
    "]"
   ]
  },
  {
   "cell_type": "code",
   "outputs": [],
   "source": [],
   "metadata": {
    "collapsed": false
   }
  },
  {
   "cell_type": "code",
   "execution_count": 169,
   "metadata": {
    "ExecuteTime": {
     "end_time": "2024-04-24T08:03:25.053484900Z",
     "start_time": "2024-04-24T08:03:25.046287Z"
    }
   },
   "outputs": [],
   "source": [
    "x1 = np.array(data_1)\n",
    "x2 = np.array(data_2)"
   ]
  },
  {
   "cell_type": "code",
   "execution_count": 170,
   "metadata": {
    "ExecuteTime": {
     "end_time": "2024-04-24T08:03:25.241100Z",
     "start_time": "2024-04-24T08:03:25.225555500Z"
    }
   },
   "outputs": [
    {
     "name": "stdout",
     "output_type": "stream",
     "text": [
      "[3.  3.6]\n",
      "[8.4 7.6]\n"
     ]
    }
   ],
   "source": [
    "u1 = x1.mean(0)\n",
    "u2 = x2.mean(0)\n",
    "print(u1)\n",
    "print(u2)"
   ]
  },
  {
   "cell_type": "markdown",
   "source": [
    "# 그래프 그리기"
   ],
   "metadata": {
    "collapsed": false
   }
  },
  {
   "cell_type": "code",
   "outputs": [
    {
     "data": {
      "text/plain": "<Figure size 640x480 with 1 Axes>",
      "image/png": "[encoded data removed]"
     },
     "metadata": {},
     "output_type": "display_data"
    }
   ],
   "source": [
    "import matplotlib.pyplot as plt\n",
    "# x1과 x2의 최소값과 최대값 계산\n",
    "min_x = min(0, 11)\n",
    "max_x = max(0, 11)\n",
    "\n",
    "# 축 범위 설정\n",
    "plt.xlim(min_x, max_x)\n",
    "plt.ylim(min_x, max_x)\n",
    "plt.scatter(x1[:,0], x1[:,1], color=\"r\")\n",
    "plt.scatter(x2[:,0], x2[:,1], color=\"b\")\n",
    "plt.scatter(u1[0], u1[1], color=\"g\")\n",
    "plt.scatter(u2[0], u2[1], color=\"g\")\n",
    "\n",
    "plt.grid(True, linestyle='--', linewidth=1)\n",
    "plt.show()"
   ],
   "metadata": {
    "collapsed": false,
    "ExecuteTime": {
     "end_time": "2024-04-24T08:03:25.714428900Z",
     "start_time": "2024-04-24T08:03:25.652823600Z"
    }
   },
   "execution_count": 171
  },
  {
   "cell_type": "markdown",
   "source": [
    "# Scatter_W 구하기"
   ],
   "metadata": {
    "collapsed": false
   }
  },
  {
   "cell_type": "code",
   "execution_count": 172,
   "metadata": {
    "ExecuteTime": {
     "end_time": "2024-04-24T08:03:26.676721400Z",
     "start_time": "2024-04-24T08:03:26.664323100Z"
    }
   },
   "outputs": [],
   "source": [
    "s1 = np.cov((x1 - u1), bias=True, rowvar=False)\n",
    "s2 = np.cov((x2 - u2), bias=True, rowvar=False)"
   ]
  },
  {
   "cell_type": "code",
   "execution_count": 173,
   "metadata": {
    "ExecuteTime": {
     "end_time": "2024-04-24T08:03:27.033856900Z",
     "start_time": "2024-04-24T08:03:27.021475500Z"
    }
   },
   "outputs": [
    {
     "name": "stdout",
     "output_type": "stream",
     "text": [
      "[[ 2.64 -0.44]\n",
      " [-0.44  5.28]]\n"
     ]
    }
   ],
   "source": [
    "s_w = s1 + s2\n",
    "print(s_w)"
   ]
  },
  {
   "cell_type": "code",
   "execution_count": 174,
   "metadata": {
    "ExecuteTime": {
     "end_time": "2024-04-24T08:03:27.356630900Z",
     "start_time": "2024-04-24T08:03:27.343318400Z"
    }
   },
   "outputs": [],
   "source": [
    "u12 = (u1 - u2).reshape(-1, 1)"
   ]
  },
  {
   "cell_type": "code",
   "execution_count": 175,
   "metadata": {
    "ExecuteTime": {
     "end_time": "2024-04-24T08:03:27.648390300Z",
     "start_time": "2024-04-24T08:03:27.630868500Z"
    }
   },
   "outputs": [
    {
     "data": {
      "text/plain": "array([[29.16, 21.6 ],\n       [21.6 , 16.  ]])"
     },
     "execution_count": 175,
     "metadata": {},
     "output_type": "execute_result"
    }
   ],
   "source": [
    "s_b = u12 @ u12.T\n",
    "s_b"
   ]
  },
  {
   "cell_type": "code",
   "outputs": [
    {
     "data": {
      "text/plain": "array([[ 2.64, -0.44],\n       [-0.44,  5.28]])"
     },
     "execution_count": 176,
     "metadata": {},
     "output_type": "execute_result"
    }
   ],
   "source": [
    "s_w"
   ],
   "metadata": {
    "collapsed": false,
    "ExecuteTime": {
     "end_time": "2024-04-24T08:03:28.410883600Z",
     "start_time": "2024-04-24T08:03:28.391280Z"
    }
   },
   "execution_count": 176
  },
  {
   "cell_type": "code",
   "outputs": [],
   "source": [
    "import numpy as np\n",
    "inverse = np.linalg.inv(s_w) @ s_b"
   ],
   "metadata": {
    "collapsed": false,
    "ExecuteTime": {
     "end_time": "2024-04-24T08:03:32.358105200Z",
     "start_time": "2024-04-24T08:03:32.343713600Z"
    }
   },
   "execution_count": 177
  },
  {
   "cell_type": "code",
   "outputs": [
    {
     "data": {
      "text/plain": "EigResult(eigenvalues=array([1.56568502e+01, 8.88178420e-16]), eigenvectors=array([[ 0.91955932, -0.59522755],\n       [ 0.39295122,  0.80355719]]))"
     },
     "execution_count": 178,
     "metadata": {},
     "output_type": "execute_result"
    }
   ],
   "source": [
    "np.linalg.eig(inverse)"
   ],
   "metadata": {
    "collapsed": false,
    "ExecuteTime": {
     "end_time": "2024-04-24T08:03:32.970959200Z",
     "start_time": "2024-04-24T08:03:32.950340700Z"
    }
   },
   "execution_count": 178
  },
  {
   "cell_type": "code",
   "outputs": [],
   "source": [
    "from preprocessing import get_eigen_vectors\n",
    "value, vector = get_eigen_vectors(inverse)"
   ],
   "metadata": {
    "collapsed": false,
    "ExecuteTime": {
     "end_time": "2024-04-24T08:03:41.154851600Z",
     "start_time": "2024-04-24T08:03:41.143351900Z"
    }
   },
   "execution_count": 179
  },
  {
   "cell_type": "code",
   "outputs": [
    {
     "data": {
      "text/plain": "array([ 3.08300972, -0.54179157,  0.05343598, -0.81268735,  1.29732707])"
     },
     "execution_count": 180,
     "metadata": {},
     "output_type": "execute_result"
    }
   ],
   "source": [
    "x1 @ vector[0]"
   ],
   "metadata": {
    "collapsed": false,
    "ExecuteTime": {
     "end_time": "2024-04-24T08:03:47.389821500Z",
     "start_time": "2024-04-24T08:03:47.367018100Z"
    }
   },
   "execution_count": 180
  },
  {
   "cell_type": "code",
   "outputs": [
    {
     "name": "stdout",
     "output_type": "stream",
     "text": [
      "[[4 1]\n",
      " [2 4]\n",
      " [2 3]\n",
      " [3 6]\n",
      " [4 4]]\n"
     ]
    }
   ],
   "source": [
    "print(x1)"
   ],
   "metadata": {
    "collapsed": false,
    "ExecuteTime": {
     "end_time": "2024-04-24T08:09:01.240318Z",
     "start_time": "2024-04-24T08:09:01.213577800Z"
    }
   },
   "execution_count": 196
  },
  {
   "cell_type": "code",
   "outputs": [
    {
     "data": {
      "text/plain": "array([[4.07118849],\n       [3.41092352],\n       [3.0179723 ],\n       [5.11638527],\n       [5.25004215]])"
     },
     "execution_count": 204,
     "metadata": {},
     "output_type": "execute_result"
    }
   ],
   "source": [
    "aka = x1 @ vector[:,0].reshape(-1, 1)\n",
    "aka"
   ],
   "metadata": {
    "collapsed": false,
    "ExecuteTime": {
     "end_time": "2024-04-24T08:12:25.847212900Z",
     "start_time": "2024-04-24T08:12:25.835820100Z"
    }
   },
   "execution_count": 204
  },
  {
   "cell_type": "code",
   "outputs": [
    {
     "data": {
      "text/plain": "array([[12.20554606],\n       [ 8.66096567],\n       [10.24078996],\n       [10.10713308],\n       [12.33920294]])"
     },
     "execution_count": 205,
     "metadata": {},
     "output_type": "execute_result"
    }
   ],
   "source": [
    "aka2 = x2 @ vector[:,0].reshape(-1, 1)\n",
    "aka2"
   ],
   "metadata": {
    "collapsed": false,
    "ExecuteTime": {
     "end_time": "2024-04-24T08:12:29.995939400Z",
     "start_time": "2024-04-24T08:12:29.971269900Z"
    }
   },
   "execution_count": 205
  },
  {
   "cell_type": "markdown",
   "source": [
    "# 다중 분류"
   ],
   "metadata": {
    "collapsed": false
   }
  },
  {
   "cell_type": "code",
   "outputs": [],
   "source": [
    "data_1 = [\n",
    "    [4,1],\n",
    "    [2,4],\n",
    "    [2,3],\n",
    "    [3,6],\n",
    "    [4,4],\n",
    "]\n",
    "\n",
    "\n",
    "data_2 = [\n",
    "    [9,10],\n",
    "    [6,8],\n",
    "    [9,5],\n",
    "    [8,7],\n",
    "    [10,8],\n",
    "]\n",
    "\n",
    "data_3 = [\n",
    "    [15, 17],\n",
    "    [13, 13],\n",
    "    [16, 15],\n",
    "    [14, 19],\n",
    "    [14, 14],\n",
    "]"
   ],
   "metadata": {
    "collapsed": false,
    "ExecuteTime": {
     "end_time": "2024-04-24T07:47:19.647838500Z",
     "start_time": "2024-04-24T07:47:19.642605400Z"
    }
   },
   "execution_count": 121
  },
  {
   "cell_type": "code",
   "outputs": [],
   "source": [
    "x3 = np.array(data_3)"
   ],
   "metadata": {
    "collapsed": false,
    "ExecuteTime": {
     "end_time": "2024-04-24T07:47:19.784793600Z",
     "start_time": "2024-04-24T07:47:19.776510400Z"
    }
   },
   "execution_count": 122
  },
  {
   "cell_type": "code",
   "outputs": [],
   "source": [],
   "metadata": {
    "collapsed": false,
    "ExecuteTime": {
     "end_time": "2024-04-24T07:47:19.938791100Z",
     "start_time": "2024-04-24T07:47:19.935674200Z"
    }
   },
   "execution_count": 122
  },
  {
   "cell_type": "code",
   "outputs": [
    {
     "name": "stdout",
     "output_type": "stream",
     "text": [
      "[3.  3.6]\n",
      "[8.4 7.6]\n",
      "[14.4 15.6]\n"
     ]
    }
   ],
   "source": [
    "u1 = x1.mean(0)\n",
    "u2 = x2.mean(0)\n",
    "u3 = x3.mean(0)\n",
    "print(u1)\n",
    "print(u2)\n",
    "print(u3)"
   ],
   "metadata": {
    "collapsed": false,
    "ExecuteTime": {
     "end_time": "2024-04-24T07:47:20.079263100Z",
     "start_time": "2024-04-24T07:47:20.064840200Z"
    }
   },
   "execution_count": 123
  },
  {
   "cell_type": "code",
   "outputs": [
    {
     "data": {
      "text/plain": "<Figure size 640x480 with 1 Axes>",
      "image/png": "[encoded data removed]"
     },
     "metadata": {},
     "output_type": "display_data"
    }
   ],
   "source": [
    "import matplotlib.pyplot as plt\n",
    "# x1과 x2의 최소값과 최대값 계산\n",
    "min_x = min(0, 20)\n",
    "max_x = max(0, 20)\n",
    "\n",
    "# 축 범위 설정\n",
    "plt.xlim(min_x, max_x)\n",
    "plt.ylim(min_x, max_x)\n",
    "plt.scatter(x1[:,0], x1[:,1], color=\"r\")\n",
    "plt.scatter(x2[:,0], x2[:,1], color=\"b\")\n",
    "plt.scatter(x3[:,0], x3[:,1], color=\"k\")\n",
    "plt.scatter(u1[0], u1[1], color=\"g\")\n",
    "plt.scatter(u2[0], u2[1], color=\"g\")\n",
    "plt.scatter(u3[0], u3[1], color=\"g\")\n",
    "            \n",
    "\n",
    "plt.grid(True, linestyle='--', linewidth=1)\n",
    "plt.show()"
   ],
   "metadata": {
    "collapsed": false,
    "ExecuteTime": {
     "end_time": "2024-04-24T07:47:20.570912600Z",
     "start_time": "2024-04-24T07:47:20.494477800Z"
    }
   },
   "execution_count": 124
  },
  {
   "cell_type": "code",
   "outputs": [],
   "source": [
    "s1 = np.cov((x1 - u1), bias=True, rowvar=False)\n",
    "s2 = np.cov((x2 - u2), bias=True, rowvar=False)\n",
    "s3 = np.cov((x3 - u3), bias=True, rowvar=False)"
   ],
   "metadata": {
    "collapsed": false,
    "ExecuteTime": {
     "end_time": "2024-04-24T07:48:09.887331100Z",
     "start_time": "2024-04-24T07:48:09.876189400Z"
    }
   },
   "execution_count": 128
  },
  {
   "cell_type": "code",
   "outputs": [],
   "source": [
    "s_w = s1 + s2 + s3"
   ],
   "metadata": {
    "collapsed": false,
    "ExecuteTime": {
     "end_time": "2024-04-24T07:48:21.025602300Z",
     "start_time": "2024-04-24T07:48:21.008938200Z"
    }
   },
   "execution_count": 129
  },
  {
   "cell_type": "code",
   "outputs": [
    {
     "data": {
      "text/plain": "array([[3.68, 0.12],\n       [0.12, 9.92]])"
     },
     "execution_count": 132,
     "metadata": {},
     "output_type": "execute_result"
    }
   ],
   "source": [
    "s_w"
   ],
   "metadata": {
    "collapsed": false,
    "ExecuteTime": {
     "end_time": "2024-04-24T07:48:29.398957500Z",
     "start_time": "2024-04-24T07:48:29.386563900Z"
    }
   },
   "execution_count": 132
  },
  {
   "cell_type": "code",
   "outputs": [],
   "source": [
    "u = (x1 + x2 + x3).sum(axis=0) / 25\n",
    "# ((u1 * 5) + (u2 * 5) + (u3 * 5)) / 25\n"
   ],
   "metadata": {
    "collapsed": false,
    "ExecuteTime": {
     "end_time": "2024-04-24T07:51:58.843164500Z",
     "start_time": "2024-04-24T07:51:58.840059200Z"
    }
   },
   "execution_count": 149
  },
  {
   "cell_type": "code",
   "outputs": [],
   "source": [
    "u_s = (u1 - u).reshape(-1 ,1)"
   ],
   "metadata": {
    "collapsed": false,
    "ExecuteTime": {
     "end_time": "2024-04-24T07:53:24.938224400Z",
     "start_time": "2024-04-24T07:53:24.928847Z"
    }
   },
   "execution_count": 157
  },
  {
   "cell_type": "code",
   "outputs": [],
   "source": [
    "a = (u_s @ u_s.T) / 5"
   ],
   "metadata": {
    "collapsed": false,
    "ExecuteTime": {
     "end_time": "2024-04-24T08:01:04.249887900Z",
     "start_time": "2024-04-24T08:01:04.242642600Z"
    }
   },
   "execution_count": 160
  },
  {
   "cell_type": "code",
   "outputs": [
    {
     "data": {
      "text/plain": "array([[0.93312, 0.76032],\n       [0.76032, 0.61952]])"
     },
     "execution_count": 161,
     "metadata": {},
     "output_type": "execute_result"
    }
   ],
   "source": [
    "a"
   ],
   "metadata": {
    "collapsed": false,
    "ExecuteTime": {
     "end_time": "2024-04-24T08:01:04.757772Z",
     "start_time": "2024-04-24T08:01:04.739188100Z"
    }
   },
   "execution_count": 161
  },
  {
   "cell_type": "code",
   "outputs": [
    {
     "name": "stdout",
     "output_type": "stream",
     "text": [
      "[[4 1]\n",
      " [2 4]\n",
      " [2 3]\n",
      " [3 6]\n",
      " [4 4]] \n",
      " [[ 9 10]\n",
      " [ 6  8]\n",
      " [ 9  5]\n",
      " [ 8  7]\n",
      " [10  8]]\n"
     ]
    },
    {
     "data": {
      "text/plain": "<Figure size 640x480 with 1 Axes>",
      "image/png": "[encoded data removed]"
     },
     "metadata": {},
     "output_type": "display_data"
    }
   ],
   "source": [
    "from sklearn.discriminant_analysis import LinearDiscriminantAnalysis as LDA\n",
    "\n",
    "# LDA 모델 초기화\n",
    "lda = LDA(n_components=1)  # 투영할 차원 수를 1로 설정\n",
    "print(x1, \"\\n\", x2)\n",
    "# 데이터에 모델 적용\n",
    "x_combined = np.vstack(((x1 - u1), (x2-u2)))  \n",
    "y_combined = np.hstack((np.zeros(len(x1)), np.ones(len(x2))))  # 클래스 레이블 생성\n",
    "\n",
    "lda.fit(x_combined, y_combined)\n",
    "\n",
    "x_lda = lda.transform(x_combined)\n",
    "\n",
    "# 투영된 데이터 플로팅\n",
    "plt.scatter(x_lda[y_combined == 0], np.zeros(len(x1)), color='r', label='Class 1')\n",
    "plt.scatter(x_lda[y_combined == 1], np.zeros(len(x2)), color='b', label='Class 2')\n",
    "plt.legend()\n",
    "plt.title('LDA Projection')\n",
    "plt.xlabel('LD1')\n",
    "plt.show()"
   ],
   "metadata": {
    "collapsed": false,
    "ExecuteTime": {
     "end_time": "2024-04-24T08:07:56.052978800Z",
     "start_time": "2024-04-24T08:07:55.973118500Z"
    }
   },
   "execution_count": 191
  },
  {
   "cell_type": "code",
   "outputs": [
    {
     "data": {
      "text/plain": "array([[-0.55997606],\n       [ 0.33859018]])"
     },
     "execution_count": 192,
     "metadata": {},
     "output_type": "execute_result"
    }
   ],
   "source": [
    "lda.scalings_"
   ],
   "metadata": {
    "collapsed": false,
    "ExecuteTime": {
     "end_time": "2024-04-24T08:07:57.620776200Z",
     "start_time": "2024-04-24T08:07:57.612467400Z"
    }
   },
   "execution_count": 192
  },
  {
   "cell_type": "code",
   "outputs": [
    {
     "data": {
      "text/plain": "<Figure size 640x480 with 1 Axes>",
      "image/png": "[encoded data removed]"
     },
     "metadata": {},
     "output_type": "display_data"
    }
   ],
   "source": [
    "plt.scatter(aka, np.zeros(len(x1)), color='r', label='Class 1')\n",
    "plt.scatter(aka2, np.zeros(len(x2)), color='b', label='Class 2')\n",
    "plt.legend()\n",
    "plt.title('LDA Projection')\n",
    "plt.xlabel('LD1')\n",
    "plt.show()"
   ],
   "metadata": {
    "collapsed": false,
    "ExecuteTime": {
     "end_time": "2024-04-24T08:12:42.247996700Z",
     "start_time": "2024-04-24T08:12:42.176208500Z"
    }
   },
   "execution_count": 206
  },
  {
   "cell_type": "code",
   "outputs": [
    {
     "data": {
      "text/plain": "array([[-1.95603954e-16,  1.18272158e-16]])"
     },
     "execution_count": 197,
     "metadata": {},
     "output_type": "execute_result"
    }
   ],
   "source": [
    "lda.coef_"
   ],
   "metadata": {
    "collapsed": false,
    "ExecuteTime": {
     "end_time": "2024-04-24T08:09:25.446451100Z",
     "start_time": "2024-04-24T08:09:25.429898500Z"
    }
   },
   "execution_count": 197
  }
 ],
 "metadata": {
  "kernelspec": {
   "display_name": "torch",
   "language": "python",
   "name": "python3"
  },
  "language_info": {
   "codemirror_mode": {
    "name": "ipython",
    "version": 3
   },
   "file_extension": ".py",
   "mimetype": "text/x-python",
   "name": "python",
   "nbconvert_exporter": "python",
   "pygments_lexer": "ipython3",
   "version": "3.9.0"
  }
 },
 "nbformat": 4,
 "nbformat_minor": 2
}
