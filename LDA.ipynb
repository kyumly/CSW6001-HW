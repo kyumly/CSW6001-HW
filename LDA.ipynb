{
 "cells": [
  {
   "cell_type": "code",
   "execution_count": 1,
   "metadata": {
    "ExecuteTime": {
     "end_time": "2024-04-25T08:34:07.862387200Z",
     "start_time": "2024-04-25T08:34:07.791694900Z"
    }
   },
   "outputs": [],
   "source": [
    "import numpy as np"
   ]
  },
  {
   "cell_type": "code",
   "execution_count": 2,
   "outputs": [],
   "source": [
    "%load_ext autoreload\n",
    "%autoreload 2"
   ],
   "metadata": {
    "collapsed": false,
    "ExecuteTime": {
     "end_time": "2024-04-25T08:34:07.896126Z",
     "start_time": "2024-04-25T08:34:07.863404400Z"
    }
   }
  },
  {
   "cell_type": "code",
   "execution_count": 3,
   "metadata": {
    "ExecuteTime": {
     "end_time": "2024-04-25T08:34:07.926822600Z",
     "start_time": "2024-04-25T08:34:07.893049900Z"
    }
   },
   "outputs": [],
   "source": [
    "data_1 = [\n",
    "    [4,1],\n",
    "    [2,4],\n",
    "    [2,3],\n",
    "    [3,6],\n",
    "    [4,4],\n",
    "]\n",
    "\n",
    "\n",
    "data_2 = [\n",
    "    [9,10],\n",
    "    [6,8],\n",
    "    [9,5],\n",
    "    [8,7],\n",
    "    [10,8],\n",
    "]"
   ]
  },
  {
   "cell_type": "code",
   "execution_count": 4,
   "outputs": [],
   "source": [
    "from preprocessing import LDA"
   ],
   "metadata": {
    "collapsed": false,
    "ExecuteTime": {
     "end_time": "2024-04-25T08:34:08.785369200Z",
     "start_time": "2024-04-25T08:34:08.534675900Z"
    }
   }
  },
  {
   "cell_type": "code",
   "outputs": [],
   "source": [
    "data=np.concatenate([data_1 ,data_2], )\n",
    "\n",
    "labels = np."
   ],
   "metadata": {
    "collapsed": false,
    "ExecuteTime": {
     "end_time": "2024-04-25T08:34:09.305122800Z",
     "start_time": "2024-04-25T08:34:09.271337700Z"
    }
   },
   "execution_count": 5
  },
  {
   "cell_type": "code",
   "execution_count": 6,
   "outputs": [],
   "source": [
    "l = LDA(data)"
   ],
   "metadata": {
    "collapsed": false
   }
  },
  {
   "cell_type": "code",
   "execution_count": 7,
   "outputs": [
    {
     "data": {
      "text/plain": "(2, 5, 2)"
     },
     "execution_count": 7,
     "metadata": {},
     "output_type": "execute_result"
    }
   ],
   "source": [
    "l.data.shape"
   ],
   "metadata": {
    "collapsed": false
   }
  },
  {
   "cell_type": "code",
   "execution_count": 8,
   "outputs": [
    {
     "name": "stdout",
     "output_type": "stream",
     "text": [
      "[[[3.  3.6]]\n",
      "\n",
      " [[8.4 7.6]]]\n"
     ]
    }
   ],
   "source": [
    "print(l.mean)"
   ],
   "metadata": {
    "collapsed": false
   }
  },
  {
   "cell_type": "code",
   "execution_count": 9,
   "outputs": [
    {
     "data": {
      "text/plain": "<Figure size 432x288 with 1 Axes>",
      "image/png": "[encoded data removed]"
     },
     "metadata": {
      "needs_background": "light"
     },
     "output_type": "display_data"
    }
   ],
   "source": [
    "l.grad_show()"
   ],
   "metadata": {
    "collapsed": false
   }
  },
  {
   "cell_type": "markdown",
   "source": [
    "# 그래프 그리기"
   ],
   "metadata": {
    "collapsed": false
   }
  },
  {
   "cell_type": "code",
   "execution_count": 10,
   "outputs": [],
   "source": [
    "x1 = np.array(data_1)\n",
    "x2 = np.array(data_2)"
   ],
   "metadata": {
    "collapsed": false
   }
  },
  {
   "cell_type": "code",
   "outputs": [
    {
     "data": {
      "text/plain": "<Figure size 432x288 with 1 Axes>",
      "image/png": "[encoded data removed]"
     },
     "metadata": {
      "needs_background": "light"
     },
     "output_type": "display_data"
    }
   ],
   "source": [
    "import matplotlib.pyplot as plt\n",
    "# x1과 x2의 최소값과 최대값 계산\n",
    "min_x = min(0, 11)\n",
    "max_x = max(0, 11)\n",
    "\n",
    "# 축 범위 설정\n",
    "plt.xlim(min_x, max_x)\n",
    "plt.ylim(min_x, max_x)\n",
    "plt.scatter(x1[:,0], x1[:,1], color=\"r\")\n",
    "plt.scatter(x2[:,0], x2[:,1], color=\"b\")\n",
    "# plt.scatter(u1[0], u1[1], color=\"g\")\n",
    "# plt.scatter(u2[0], u2[1], color=\"g\")\n",
    "\n",
    "plt.grid(True, linestyle='--', linewidth=1)\n",
    "plt.show()"
   ],
   "metadata": {
    "collapsed": false,
    "ExecuteTime": {
     "end_time": "2024-04-24T08:03:25.714428900Z",
     "start_time": "2024-04-24T08:03:25.652823600Z"
    }
   },
   "execution_count": 11
  },
  {
   "cell_type": "code",
   "execution_count": 12,
   "outputs": [],
   "source": [
    "u1 = l.mean[0]\n",
    "u2 = l.mean[1]"
   ],
   "metadata": {
    "collapsed": false
   }
  },
  {
   "cell_type": "code",
   "execution_count": 13,
   "outputs": [
    {
     "name": "stdout",
     "output_type": "stream",
     "text": [
      "값 :  [[-5.4]\n",
      " [-4. ]]\n"
     ]
    },
    {
     "data": {
      "text/plain": "array([[29.16, 21.6 ],\n       [21.6 , 16.  ]])"
     },
     "execution_count": 13,
     "metadata": {},
     "output_type": "execute_result"
    }
   ],
   "source": [
    "l.set_scatter_b_matrix()"
   ],
   "metadata": {
    "collapsed": false
   }
  },
  {
   "cell_type": "markdown",
   "source": [
    "# Scatter_W 구하기"
   ],
   "metadata": {
    "collapsed": false
   }
  },
  {
   "cell_type": "code",
   "execution_count": 14,
   "metadata": {
    "ExecuteTime": {
     "end_time": "2024-04-24T08:03:26.676721400Z",
     "start_time": "2024-04-24T08:03:26.664323100Z"
    }
   },
   "outputs": [],
   "source": [
    "# s1 = np.cov((x1 - u1), bias=True, rowvar=False)\n",
    "# s2 = np.cov((x2 - u2), bias=True, rowvar=False)"
   ]
  },
  {
   "cell_type": "code",
   "execution_count": 15,
   "metadata": {
    "ExecuteTime": {
     "end_time": "2024-04-24T08:03:27.033856900Z",
     "start_time": "2024-04-24T08:03:27.021475500Z"
    }
   },
   "outputs": [],
   "source": [
    "# print(s1)\n",
    "# s_w = s1 + s2\n",
    "# print(s_w)"
   ]
  },
  {
   "cell_type": "code",
   "execution_count": 16,
   "outputs": [
    {
     "name": "stdout",
     "output_type": "stream",
     "text": [
      "값 :  [[-5.4]\n",
      " [-4. ]]\n"
     ]
    },
    {
     "data": {
      "text/plain": "array([[29.16, 21.6 ],\n       [21.6 , 16.  ]])"
     },
     "execution_count": 16,
     "metadata": {},
     "output_type": "execute_result"
    }
   ],
   "source": [
    "l.set_scatter_b_matrix()"
   ],
   "metadata": {
    "collapsed": false
   }
  },
  {
   "cell_type": "code",
   "execution_count": 17,
   "metadata": {
    "ExecuteTime": {
     "end_time": "2024-04-24T08:03:27.356630900Z",
     "start_time": "2024-04-24T08:03:27.343318400Z"
    }
   },
   "outputs": [
    {
     "data": {
      "text/plain": "array([[-5.4],\n       [-4. ]])"
     },
     "execution_count": 17,
     "metadata": {},
     "output_type": "execute_result"
    }
   ],
   "source": [
    "u12 = (u1 - u2).reshape(-1, 1)\n",
    "u12"
   ]
  },
  {
   "cell_type": "code",
   "execution_count": 18,
   "metadata": {
    "ExecuteTime": {
     "end_time": "2024-04-24T08:03:27.648390300Z",
     "start_time": "2024-04-24T08:03:27.630868500Z"
    }
   },
   "outputs": [
    {
     "data": {
      "text/plain": "array([[29.16, 21.6 ],\n       [21.6 , 16.  ]])"
     },
     "execution_count": 18,
     "metadata": {},
     "output_type": "execute_result"
    }
   ],
   "source": [
    "s_b = u12 @ u12.T\n",
    "s_b"
   ]
  },
  {
   "cell_type": "code",
   "execution_count": 19,
   "outputs": [
    {
     "data": {
      "text/plain": "array([[ 2.64, -0.44],\n       [-0.44,  5.28]])"
     },
     "execution_count": 19,
     "metadata": {},
     "output_type": "execute_result"
    }
   ],
   "source": [
    "l.set_scatter_w_matrix()"
   ],
   "metadata": {
    "collapsed": false
   }
  },
  {
   "cell_type": "code",
   "execution_count": 20,
   "outputs": [],
   "source": [
    "result = l.get_lda(num=1)"
   ],
   "metadata": {
    "collapsed": false
   }
  },
  {
   "cell_type": "code",
   "execution_count": 21,
   "outputs": [
    {
     "data": {
      "text/plain": "<Figure size 432x288 with 1 Axes>",
      "image/png": "[encoded data removed]"
     },
     "metadata": {
      "needs_background": "light"
     },
     "output_type": "display_data"
    }
   ],
   "source": [
    "plt.scatter(result[0], np.zeros(len(x1)), color='r', label='Class 1')\n",
    "plt.scatter(result[1], np.zeros(len(x2)), color='b', label='Class 2')\n",
    "plt.legend()\n",
    "plt.title('LDA Projection')\n",
    "plt.xlabel('LD1')\n",
    "plt.show()"
   ],
   "metadata": {
    "collapsed": false
   }
  },
  {
   "cell_type": "code",
   "execution_count": 22,
   "outputs": [
    {
     "data": {
      "text/plain": "<Figure size 432x288 with 1 Axes>",
      "image/png": "[encoded data removed]"
     },
     "metadata": {
      "needs_background": "light"
     },
     "output_type": "display_data"
    }
   ],
   "source": [
    "from sklearn.discriminant_analysis import LinearDiscriminantAnalysis as LDA\n",
    "\n",
    "# LDA 모델 초기화\n",
    "lda = LDA(n_components=1)  # 투영할 차원 수를 1로 설정\n",
    "# 데이터에 모델 적용\n",
    "x_combined = np.vstack(((x1), (x2)))\n",
    "y_combined = np.hstack((np.zeros(len(x1)), np.ones(len(x2))))  # 클래스 레이블 생성\n",
    "\n",
    "lda.fit(x_combined, y_combined)\n",
    "\n",
    "x_lda = lda.transform(x_combined)\n",
    "\n",
    "# 투영된 데이터 플로팅\n",
    "plt.scatter(x_lda[y_combined == 0], np.zeros(len(x1)), color='r', label='Class 1')\n",
    "plt.scatter(x_lda[y_combined == 1], np.zeros(len(x2)), color='b', label='Class 2')\n",
    "plt.legend()\n",
    "plt.title('LDA Projection')\n",
    "plt.xlabel('LD1')\n",
    "plt.show()"
   ],
   "metadata": {
    "collapsed": false
   }
  },
  {
   "cell_type": "markdown",
   "source": [
    "# 다중 분류"
   ],
   "metadata": {
    "collapsed": false
   }
  },
  {
   "cell_type": "code",
   "execution_count": 95,
   "outputs": [],
   "source": [
    "import numpy as np"
   ],
   "metadata": {
    "collapsed": false
   }
  },
  {
   "cell_type": "code",
   "execution_count": 95,
   "outputs": [],
   "source": [],
   "metadata": {
    "collapsed": false
   }
  },
  {
   "cell_type": "code",
   "outputs": [],
   "source": [
    "data_1 = [\n",
    "    [4,1],\n",
    "    [2,4],\n",
    "    [2,3],\n",
    "    [3,6],\n",
    "    [4,4],\n",
    "]\n",
    "\n",
    "\n",
    "data_2 = [\n",
    "    [9,10],\n",
    "    [7,8],\n",
    "    [9,5],\n",
    "    [8,7],\n",
    "    [10,8],\n",
    "]\n",
    "\n",
    "data_3 = [\n",
    "    [5, 17],\n",
    "    [3, 13],\n",
    "    [5, 15],\n",
    "    [4, 19],\n",
    "    [4, 14],\n",
    "]"
   ],
   "metadata": {
    "collapsed": false,
    "ExecuteTime": {
     "end_time": "2024-04-24T07:47:19.647838500Z",
     "start_time": "2024-04-24T07:47:19.642605400Z"
    }
   },
   "execution_count": 96
  },
  {
   "cell_type": "code",
   "outputs": [],
   "source": [
    "x1= np.array(data_1)\n",
    "x2= np.array(data_2)\n",
    "x3 = np.array(data_3)"
   ],
   "metadata": {
    "collapsed": false,
    "ExecuteTime": {
     "end_time": "2024-04-24T07:47:19.784793600Z",
     "start_time": "2024-04-24T07:47:19.776510400Z"
    }
   },
   "execution_count": 97
  },
  {
   "cell_type": "code",
   "execution_count": 98,
   "outputs": [
    {
     "name": "stdout",
     "output_type": "stream",
     "text": [
      "(3, 5, 2)\n"
     ]
    }
   ],
   "source": [
    "data=np.array([\n",
    "    data_1,\n",
    "    data_2,\n",
    "    data_3\n",
    "])\n",
    "\n",
    "print(data.shape)"
   ],
   "metadata": {
    "collapsed": false
   }
  },
  {
   "cell_type": "code",
   "execution_count": 99,
   "outputs": [],
   "source": [
    "from preprocessing import LDA\n",
    "\n",
    "l = LDA(data)"
   ],
   "metadata": {
    "collapsed": false
   }
  },
  {
   "cell_type": "code",
   "execution_count": 100,
   "outputs": [
    {
     "data": {
      "text/plain": "array([[[ 3. ,  3.6]],\n\n       [[ 8.6,  7.6]],\n\n       [[ 4.2, 15.6]]])"
     },
     "execution_count": 100,
     "metadata": {},
     "output_type": "execute_result"
    }
   ],
   "source": [
    "l.mean"
   ],
   "metadata": {
    "collapsed": false
   }
  },
  {
   "cell_type": "code",
   "execution_count": 101,
   "outputs": [
    {
     "data": {
      "text/plain": "array([[5.26666667, 8.93333333]])"
     },
     "execution_count": 101,
     "metadata": {},
     "output_type": "execute_result"
    }
   ],
   "source": [
    "l.U"
   ],
   "metadata": {
    "collapsed": false
   }
  },
  {
   "cell_type": "code",
   "execution_count": 102,
   "outputs": [
    {
     "data": {
      "text/plain": "<Figure size 432x288 with 1 Axes>",
      "image/png": "[encoded data removed]"
     },
     "metadata": {
      "needs_background": "light"
     },
     "output_type": "display_data"
    }
   ],
   "source": [
    "l.grad_show()"
   ],
   "metadata": {
    "collapsed": false
   }
  },
  {
   "cell_type": "code",
   "execution_count": 103,
   "outputs": [
    {
     "data": {
      "text/plain": "array([[[ 3. ,  3.6]],\n\n       [[ 8.6,  7.6]],\n\n       [[ 4.2, 15.6]]])"
     },
     "execution_count": 103,
     "metadata": {},
     "output_type": "execute_result"
    }
   ],
   "source": [
    "l.mean"
   ],
   "metadata": {
    "collapsed": false
   }
  },
  {
   "cell_type": "code",
   "outputs": [
    {
     "name": "stdout",
     "output_type": "stream",
     "text": [
      "[3.  3.6]\n",
      "[8.6 7.6]\n",
      "[ 4.2 15.6]\n"
     ]
    }
   ],
   "source": [
    "u1 = x1.mean(0)\n",
    "u2 = x2.mean(0)\n",
    "u3 = x3.mean(0)\n",
    "print(u1)\n",
    "print(u2)\n",
    "print(u3)"
   ],
   "metadata": {
    "collapsed": false,
    "ExecuteTime": {
     "end_time": "2024-04-24T07:47:20.079263100Z",
     "start_time": "2024-04-24T07:47:20.064840200Z"
    }
   },
   "execution_count": 104
  },
  {
   "cell_type": "code",
   "outputs": [
    {
     "data": {
      "text/plain": "<Figure size 432x288 with 1 Axes>",
      "image/png": "[encoded data removed]"
     },
     "metadata": {
      "needs_background": "light"
     },
     "output_type": "display_data"
    }
   ],
   "source": [
    "import matplotlib.pyplot as plt\n",
    "# x1과 x2의 최소값과 최대값 계산\n",
    "min_x = min(0, 20)\n",
    "max_x = max(0, 20)\n",
    "\n",
    "# 축 범위 설정\n",
    "plt.xlim(min_x, max_x)\n",
    "plt.ylim(min_x, max_x)\n",
    "plt.scatter(x1[:,0], x1[:,1], color=\"r\")\n",
    "plt.scatter(x2[:,0], x2[:,1], color=\"b\")\n",
    "plt.scatter(x3[:,0], x3[:,1], color=\"k\")\n",
    "plt.scatter(u1[0], u1[1], color=\"g\")\n",
    "plt.scatter(u2[0], u2[1], color=\"g\")\n",
    "plt.scatter(u3[0], u3[1], color=\"g\")\n",
    "            \n",
    "\n",
    "plt.grid(True, linestyle='--', linewidth=1)\n",
    "plt.show()"
   ],
   "metadata": {
    "collapsed": false,
    "ExecuteTime": {
     "end_time": "2024-04-24T07:47:20.570912600Z",
     "start_time": "2024-04-24T07:47:20.494477800Z"
    }
   },
   "execution_count": 105
  },
  {
   "cell_type": "code",
   "outputs": [],
   "source": [
    "s1 = np.cov((x1 - u1), bias=True, rowvar=False)\n",
    "s2 = np.cov((x2 - u2), bias=True, rowvar=False)\n",
    "s3 = np.cov((x3 - u3), bias=True, rowvar=False)"
   ],
   "metadata": {
    "collapsed": false,
    "ExecuteTime": {
     "end_time": "2024-04-24T07:48:09.887331100Z",
     "start_time": "2024-04-24T07:48:09.876189400Z"
    }
   },
   "execution_count": 106
  },
  {
   "cell_type": "code",
   "execution_count": 107,
   "outputs": [
    {
     "data": {
      "text/plain": "array([[ 0.8 , -0.4 ],\n       [-0.4 ,  2.64]])"
     },
     "execution_count": 107,
     "metadata": {},
     "output_type": "execute_result"
    }
   ],
   "source": [
    "s1"
   ],
   "metadata": {
    "collapsed": false
   }
  },
  {
   "cell_type": "code",
   "outputs": [],
   "source": [
    "s_w = s1 + s2 + s3"
   ],
   "metadata": {
    "collapsed": false,
    "ExecuteTime": {
     "end_time": "2024-04-24T07:48:21.025602300Z",
     "start_time": "2024-04-24T07:48:21.008938200Z"
    }
   },
   "execution_count": 108
  },
  {
   "cell_type": "code",
   "outputs": [
    {
     "data": {
      "text/plain": "array([[2.4 , 0.32],\n       [0.32, 9.92]])"
     },
     "execution_count": 109,
     "metadata": {},
     "output_type": "execute_result"
    }
   ],
   "source": [
    "s_w"
   ],
   "metadata": {
    "collapsed": false,
    "ExecuteTime": {
     "end_time": "2024-04-24T07:48:29.398957500Z",
     "start_time": "2024-04-24T07:48:29.386563900Z"
    }
   },
   "execution_count": 109
  },
  {
   "cell_type": "code",
   "execution_count": 110,
   "outputs": [
    {
     "data": {
      "text/plain": "array([[2.4 , 0.32],\n       [0.32, 9.92]])"
     },
     "execution_count": 110,
     "metadata": {},
     "output_type": "execute_result"
    }
   ],
   "source": [
    "l.set_scatter_w_matrix()"
   ],
   "metadata": {
    "collapsed": false
   }
  },
  {
   "cell_type": "code",
   "execution_count": 111,
   "outputs": [
    {
     "name": "stdout",
     "output_type": "stream",
     "text": [
      "[15 18]\n"
     ]
    }
   ],
   "source": [
    "print(x1.sum(0))"
   ],
   "metadata": {
    "collapsed": false
   }
  },
  {
   "cell_type": "code",
   "execution_count": 112,
   "outputs": [
    {
     "name": "stdout",
     "output_type": "stream",
     "text": [
      "[43 38]\n"
     ]
    }
   ],
   "source": [
    "print(x2.sum(0))"
   ],
   "metadata": {
    "collapsed": false
   }
  },
  {
   "cell_type": "code",
   "execution_count": 113,
   "outputs": [
    {
     "name": "stdout",
     "output_type": "stream",
     "text": [
      "[21 78]\n"
     ]
    }
   ],
   "source": [
    "print(x3.sum(0))"
   ],
   "metadata": {
    "collapsed": false
   }
  },
  {
   "cell_type": "code",
   "execution_count": 114,
   "outputs": [
    {
     "data": {
      "text/plain": "array([[ 79., 134.]])"
     },
     "execution_count": 114,
     "metadata": {},
     "output_type": "execute_result"
    }
   ],
   "source": [
    "(l.mean * 5).sum(axis=0)\n",
    "\n"
   ],
   "metadata": {
    "collapsed": false
   }
  },
  {
   "cell_type": "code",
   "outputs": [
    {
     "data": {
      "text/plain": "array([5.26666667, 8.93333333])"
     },
     "execution_count": 115,
     "metadata": {},
     "output_type": "execute_result"
    }
   ],
   "source": [
    "# u = (x1 + x2 + x3).sum(axis=0) / 25\n",
    "u = ((u1 * 5) + (u2 * 5) + (u3 * 5)) / 15\n",
    "u"
   ],
   "metadata": {
    "collapsed": false,
    "ExecuteTime": {
     "end_time": "2024-04-24T07:51:58.843164500Z",
     "start_time": "2024-04-24T07:51:58.840059200Z"
    }
   },
   "execution_count": 115
  },
  {
   "cell_type": "code",
   "execution_count": 116,
   "outputs": [],
   "source": [
    "u = np.concatenate([x1, x2, x3], axis=0).mean(0)"
   ],
   "metadata": {
    "collapsed": false
   }
  },
  {
   "cell_type": "code",
   "execution_count": 117,
   "outputs": [
    {
     "name": "stdout",
     "output_type": "stream",
     "text": [
      "[5.26666667 8.93333333]\n"
     ]
    }
   ],
   "source": [
    "print(u)"
   ],
   "metadata": {
    "collapsed": false
   }
  },
  {
   "cell_type": "code",
   "execution_count": 118,
   "outputs": [
    {
     "data": {
      "text/plain": "5.266666666666667"
     },
     "execution_count": 118,
     "metadata": {},
     "output_type": "execute_result"
    }
   ],
   "source": [
    "l.U[0, 0]"
   ],
   "metadata": {
    "collapsed": false
   }
  },
  {
   "cell_type": "code",
   "execution_count": 119,
   "outputs": [
    {
     "data": {
      "text/plain": "<Figure size 432x288 with 1 Axes>",
      "image/png": "[encoded data removed]"
     },
     "metadata": {
      "needs_background": "light"
     },
     "output_type": "display_data"
    }
   ],
   "source": [
    "# 축 범위 설정\n",
    "plt.xlim(min_x, max_x)\n",
    "plt.ylim(min_x, max_x)\n",
    "plt.scatter(x1[:,0], x1[:,1], color=\"r\")\n",
    "plt.scatter(x2[:,0], x2[:,1], color=\"b\")\n",
    "plt.scatter(x3[:,0], x3[:,1], color=\"k\")\n",
    "plt.scatter(u1[0], u1[1], color=\"g\")\n",
    "plt.scatter(u2[0], u2[1], color=\"g\")\n",
    "plt.scatter(u3[0], u3[1], color=\"g\")\n",
    "plt.scatter(l.U[0, 0], l.U[0,1])\n",
    "\n",
    "plt.grid(True, linestyle='--', linewidth=1)\n",
    "plt.show()"
   ],
   "metadata": {
    "collapsed": false
   }
  },
  {
   "cell_type": "code",
   "outputs": [],
   "source": [
    "u_s_1 = (u1 - u).reshape(-1 ,1)"
   ],
   "metadata": {
    "collapsed": false,
    "ExecuteTime": {
     "end_time": "2024-04-24T07:53:24.938224400Z",
     "start_time": "2024-04-24T07:53:24.928847Z"
    }
   },
   "execution_count": 120
  },
  {
   "cell_type": "code",
   "execution_count": 121,
   "outputs": [
    {
     "data": {
      "text/plain": "array([[31.36, 22.4 ],\n       [22.4 , 16.  ]])"
     },
     "execution_count": 121,
     "metadata": {},
     "output_type": "execute_result"
    }
   ],
   "source": [
    "u12 = (u1 - u2).reshape(-1, 1)\n",
    "s_b = u12 @ u12.T\n",
    "s_b"
   ],
   "metadata": {
    "collapsed": false
   }
  },
  {
   "cell_type": "code",
   "execution_count": 122,
   "outputs": [],
   "source": [
    "u_s_2 = (u2 - u).reshape(-1 ,1)"
   ],
   "metadata": {
    "collapsed": false
   }
  },
  {
   "cell_type": "code",
   "execution_count": 123,
   "outputs": [],
   "source": [
    "u_s_3 = (u3 - u).reshape(-1 ,1)"
   ],
   "metadata": {
    "collapsed": false
   }
  },
  {
   "cell_type": "code",
   "outputs": [
    {
     "name": "stdout",
     "output_type": "stream",
     "text": [
      "[[-2.26666667]\n",
      " [-5.33333333]]\n",
      "[[ 3.33333333]\n",
      " [-1.33333333]]\n",
      "[[-1.06666667]\n",
      " [ 6.66666667]]\n"
     ]
    }
   ],
   "source": [
    "print(u_s_1)\n",
    "print(u_s_2)\n",
    "print(u_s_3)"
   ],
   "metadata": {
    "collapsed": false,
    "ExecuteTime": {
     "end_time": "2024-04-24T08:01:04.249887900Z",
     "start_time": "2024-04-24T08:01:04.242642600Z"
    }
   },
   "execution_count": 124
  },
  {
   "cell_type": "code",
   "execution_count": 125,
   "outputs": [
    {
     "data": {
      "text/plain": "array([[ 86.933334 ,   2.6666658],\n       [  2.6666658, 373.33334  ]], dtype=float32)"
     },
     "execution_count": 125,
     "metadata": {},
     "output_type": "execute_result"
    }
   ],
   "source": [
    "l.set_scatter_b_matrix()"
   ],
   "metadata": {
    "collapsed": false
   }
  },
  {
   "cell_type": "code",
   "execution_count": 169,
   "outputs": [
    {
     "name": "stdout",
     "output_type": "stream",
     "text": [
      "[[ 0.82172926 -0.9490501 ]\n",
      " [-0.56987808 -0.31512522]]\n"
     ]
    }
   ],
   "source": [
    "result = l.get_lda(1)"
   ],
   "metadata": {
    "collapsed": false
   }
  },
  {
   "cell_type": "code",
   "execution_count": 151,
   "outputs": [
    {
     "data": {
      "text/plain": "array([[ 2.71703895],\n       [-0.6360538 ],\n       [-0.06617572],\n       [-0.95408071],\n       [ 1.00740471]])"
     },
     "execution_count": 151,
     "metadata": {},
     "output_type": "execute_result"
    }
   ],
   "source": [
    "result[0]"
   ],
   "metadata": {
    "collapsed": false
   }
  },
  {
   "cell_type": "code",
   "execution_count": 168,
   "outputs": [
    {
     "data": {
      "text/plain": "<Figure size 432x288 with 1 Axes>",
      "image/png": "[encoded data removed]"
     },
     "metadata": {
      "needs_background": "light"
     },
     "output_type": "display_data"
    }
   ],
   "source": [
    "plt.scatter(result[0], np.zeros(len(result[0])), color='r', label='Class 1')\n",
    "plt.scatter(result[1], np.zeros(len(result[1])), color='b', label='Class 2')\n",
    "plt.scatter(result[2], np.zeros(len(result[2])), color='k', label='Class 3')\n",
    "\n",
    "plt.legend()\n",
    "plt.title('LDA Projection')\n",
    "plt.xlabel('LD1')\n",
    "plt.show()"
   ],
   "metadata": {
    "collapsed": false
   }
  },
  {
   "cell_type": "code",
   "execution_count": 126,
   "outputs": [],
   "source": [
    "s_b = (5*(u_s_1 @ u_s_1.T)) +(5*(u_s_2 @ u_s_2.T)) + (5*(u_s_3 @ u_s_3.T))"
   ],
   "metadata": {
    "collapsed": false
   }
  },
  {
   "cell_type": "code",
   "execution_count": 127,
   "outputs": [
    {
     "data": {
      "text/plain": "array([[ 86.93333333,   2.66666667],\n       [  2.66666667, 373.33333333]])"
     },
     "execution_count": 127,
     "metadata": {},
     "output_type": "execute_result"
    }
   ],
   "source": [
    "s_b"
   ],
   "metadata": {
    "collapsed": false
   }
  },
  {
   "cell_type": "code",
   "execution_count": 55,
   "outputs": [
    {
     "data": {
      "text/plain": "array([[2.4 , 0.32],\n       [0.32, 9.92]])"
     },
     "execution_count": 55,
     "metadata": {},
     "output_type": "execute_result"
    }
   ],
   "source": [
    "s_w"
   ],
   "metadata": {
    "collapsed": false
   }
  },
  {
   "cell_type": "code",
   "execution_count": 44,
   "outputs": [
    {
     "data": {
      "text/plain": "array([[2.4 , 0.32],\n       [0.32, 9.92]])"
     },
     "execution_count": 44,
     "metadata": {},
     "output_type": "execute_result"
    }
   ],
   "source": [
    "s_w"
   ],
   "metadata": {
    "collapsed": false
   }
  },
  {
   "cell_type": "code",
   "execution_count": 45,
   "outputs": [
    {
     "data": {
      "text/plain": "array([[ 0.8 , -0.4 ],\n       [-0.4 ,  2.64]])"
     },
     "execution_count": 45,
     "metadata": {},
     "output_type": "execute_result"
    }
   ],
   "source": [
    "s1"
   ],
   "metadata": {
    "collapsed": false
   }
  },
  {
   "cell_type": "code",
   "execution_count": 46,
   "outputs": [],
   "source": [
    "s1 = np.cov((x1 - u1), bias=True, rowvar=False)\n",
    "s2 = np.cov((x2 - u2), bias=True, rowvar=False)\n",
    "s3 = np.cov((x3 - u3), bias=True, rowvar=False)"
   ],
   "metadata": {
    "collapsed": false
   }
  },
  {
   "cell_type": "code",
   "execution_count": 171,
   "outputs": [],
   "source": [
    "eigen_values, eigen_vectors = np.linalg.eig(np.dot(np.linalg.inv(s_w), s_b))"
   ],
   "metadata": {
    "collapsed": false
   }
  },
  {
   "cell_type": "code",
   "execution_count": 172,
   "outputs": [
    {
     "name": "stdout",
     "output_type": "stream",
     "text": [
      "[[ 0.82172928 -0.94905009]\n",
      " [-0.56987804 -0.31512525]]\n"
     ]
    }
   ],
   "source": [
    "idx = eigen_values.argsort()[::-1]\n",
    "eigen_values = eigen_values[idx]\n",
    "eigen_vectors = eigen_vectors[:, idx]\n",
    "print(eigen_vectors)"
   ],
   "metadata": {
    "collapsed": false
   }
  },
  {
   "cell_type": "code",
   "execution_count": 186,
   "outputs": [
    {
     "data": {
      "text/plain": "array([[[ 2.71703895],\n        [-0.6360538 ],\n        [-0.06617572],\n        [-0.95408071],\n        [ 1.00740471]],\n\n       [[ 1.69678252],\n        [ 1.19308017],\n        [ 4.54617292],\n        [ 2.5846875 ],\n        [ 3.65826794]],\n\n       [[-5.57928107],\n        [-4.94322727],\n        [-4.43952491],\n        [-7.54076649],\n        [-4.69137609]]])"
     },
     "execution_count": 186,
     "metadata": {},
     "output_type": "execute_result"
    }
   ],
   "source": [
    "l.get_lda()"
   ],
   "metadata": {
    "collapsed": false
   }
  },
  {
   "cell_type": "code",
   "execution_count": 184,
   "outputs": [
    {
     "name": "stdout",
     "output_type": "stream",
     "text": [
      "[[ 4.  -2. ]\n",
      " [-2.  13.2]]\n",
      "[[ 5.2  0.2]\n",
      " [ 0.2 13.2]]\n",
      "[[ 2.8  3.4]\n",
      " [ 3.4 23.2]]\n"
     ]
    },
    {
     "data": {
      "text/plain": "array([ 2.7170391 , -0.6360536 , -0.06617556, -0.9540804 ,  1.00740497,\n        1.69678315,  1.19308066,  4.54617336,  2.58468799,  3.65826851,\n       -5.57928028, -4.94322669, -4.4395242 , -7.54076565, -4.69137544])"
     },
     "execution_count": 184,
     "metadata": {},
     "output_type": "execute_result"
    }
   ],
   "source": [
    "import numpy as np\n",
    "\n",
    "class CustomLDA:\n",
    "    def fit(self, X, y):\n",
    "        # 클래스별 샘플 평균 계산\n",
    "        unique_classes = np.unique(y)\n",
    "        mean_vectors = [np.mean(X[y == c], axis=0) for c in unique_classes]\n",
    "\n",
    "        # 클래스 간 산포 행렬과 클래스 내 산포 행렬 계산\n",
    "        S_W = np.zeros((X.shape[1], X.shape[1]))\n",
    "        S_B = np.zeros((X.shape[1], X.shape[1]))\n",
    "        overall_mean = np.mean(X, axis=0)\n",
    "        for c, mean_vec in zip(unique_classes, mean_vectors):\n",
    "            class_scatter = np.dot((X[y == c] - mean_vec).T, X[y == c] - mean_vec)\n",
    "            print(class_scatter)\n",
    "            # raise 100\n",
    "            S_W += class_scatter\n",
    "            n = X[y == c].shape[0]\n",
    "            mean_diff = (mean_vec - overall_mean).reshape(-1, 1)\n",
    "            S_B += n * np.dot(mean_diff, mean_diff.T)\n",
    "\n",
    "        # 고유값 분해\n",
    "        eigen_values, eigen_vectors = np.linalg.eig(np.dot(np.linalg.inv(S_W), S_B))\n",
    "\n",
    "        # 고유값과 고유벡터를 내림차순으로 정렬\n",
    "        idx = eigen_values.argsort()[::-1]\n",
    "        eigen_values = eigen_values[idx]\n",
    "        eigen_vectors = eigen_vectors[:, idx]\n",
    "\n",
    "        # 클래스 간 분산과 클래스 내 분산의 고유벡터 선택\n",
    "        self.w = eigen_vectors[:, :len(unique_classes) - 1].real\n",
    "\n",
    "    def transform(self, X):\n",
    "        return np.dot(X, self.w)\n",
    "\n",
    "# 사용 예시\n",
    "# CustomLDA 모델 초기화\n",
    "custom_lda = CustomLDA()\n",
    "\n",
    "# 데이터에 모델 적용\n",
    "x_combined = np.vstack((x1, x2, x3))  # 세 클래스의 데이터를 합침\n",
    "y_combined = np.hstack((np.zeros(len(x1)), np.ones(len(x2)), 2 * np.ones(len(x3))))  # 클래스 레이블 생성\n",
    "\n",
    "# LDA 모델 훈련\n",
    "custom_lda.fit(x_combined, y_combined)\n",
    "\n",
    "# 데이터를 저차원으로 투영\n",
    "x_lda_custom = custom_lda.transform(x_combined)[:,0]\n",
    "x_lda_custom"
   ],
   "metadata": {
    "collapsed": false
   }
  },
  {
   "cell_type": "code",
   "execution_count": 185,
   "outputs": [
    {
     "data": {
      "text/plain": "Text(0.5, 0, 'LD1')"
     },
     "execution_count": 185,
     "metadata": {},
     "output_type": "execute_result"
    },
    {
     "data": {
      "text/plain": "<Figure size 432x288 with 1 Axes>",
      "image/png": "[encoded data removed]"
     },
     "metadata": {
      "needs_background": "light"
     },
     "output_type": "display_data"
    }
   ],
   "source": [
    "plt.scatter(x_lda_custom[y_combined == 0], np.zeros(len(x1)), color='r', label='Class 1')\n",
    "plt.scatter(x_lda_custom[y_combined == 1], np.zeros(len(x2)), color='b', label='Class 2')\n",
    "# 투영된 데이터 플로팅\n",
    "plt.scatter(x_lda_custom[y_combined == 2], np.zeros(len(x1)), color='k', label='Class 3')\n",
    "plt.legend()\n",
    "plt.title('LDA Projection')\n",
    "plt.xlabel('LD1')\n",
    "# plt.show()"
   ],
   "metadata": {
    "collapsed": false
   }
  },
  {
   "cell_type": "code",
   "outputs": [
    {
     "data": {
      "text/plain": "Text(0.5, 0, 'LD1')"
     },
     "execution_count": 165,
     "metadata": {},
     "output_type": "execute_result"
    },
    {
     "data": {
      "text/plain": "<Figure size 432x288 with 1 Axes>",
      "image/png": "[encoded data removed]"
     },
     "metadata": {
      "needs_background": "light"
     },
     "output_type": "display_data"
    }
   ],
   "source": [
    "from sklearn.discriminant_analysis import LinearDiscriminantAnalysis as LDA\n",
    "\n",
    "# LDA 모델 초기화\n",
    "lda = LDA(n_components=1)  # 투영할 차원 수를 1로 설정\n",
    "\n",
    "# 데이터에 모델 적용\n",
    "x_combined = np.vstack((x1, x2, x3))\n",
    "y_3 = np.zeros(len(x3)) + 2\n",
    "y_combined = np.hstack((np.zeros(len(x1)), np.ones(len(x2)), y_3))  # 클래스 레이블 생성\n",
    "\n",
    "lda.fit(x_combined, y_combined)\n",
    "\n",
    "x_lda = lda.transform(x_combined)\n",
    "\n",
    "# 투영된 데이터 플로팅\n",
    "plt.scatter(x_lda[y_combined == 0], np.zeros(len(x1)), color='r', label='Class 1')\n",
    "plt.scatter(x_lda[y_combined == 1], np.zeros(len(x2)), color='b', label='Class 2')\n",
    "# 투영된 데이터 플로팅\n",
    "plt.scatter(x_lda[y_combined == 2], np.zeros(len(x1)), color='k', label='Class 3')\n",
    "plt.legend()\n",
    "plt.title('LDA Projection')\n",
    "plt.xlabel('LD1')\n",
    "# plt.show()"
   ],
   "metadata": {
    "collapsed": false,
    "ExecuteTime": {
     "end_time": "2024-04-24T08:07:56.052978800Z",
     "start_time": "2024-04-24T08:07:55.973118500Z"
    }
   },
   "execution_count": 165
  },
  {
   "cell_type": "code",
   "execution_count": null,
   "outputs": [],
   "source": [
    "\"print(x_)"
   ],
   "metadata": {
    "collapsed": false
   }
  }
 ],
 "metadata": {
  "kernelspec": {
   "display_name": "torch",
   "language": "python",
   "name": "python3"
  },
  "language_info": {
   "codemirror_mode": {
    "name": "ipython",
    "version": 3
   },
   "file_extension": ".py",
   "mimetype": "text/x-python",
   "name": "python",
   "nbconvert_exporter": "python",
   "pygments_lexer": "ipython3",
   "version": "3.9.0"
  }
 },
 "nbformat": 4,
 "nbformat_minor": 2
}
